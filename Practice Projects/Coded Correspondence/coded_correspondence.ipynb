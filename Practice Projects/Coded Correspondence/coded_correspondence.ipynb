{
 "cells": [
  {
   "cell_type": "markdown",
   "metadata": {},
   "source": [
    "# Casual Coded Correspondence: The Project\n",
    "\n",
    "In this project, you will be working to code and decode various messages between you and your fictional cryptography enthusiast pen pal Vishal. You and Vishal have been exchanging letters for quite some time now and have started to provide a puzzle in each one of your letters.  Here is his most recent letter:\n",
    "\n",
    "     Hey there! How have you been? I've been great! I just learned about this really cool type of cipher called a  Caesar Cipher. Here's how it works: You take your message, something like \"hello\" and then you shift all of the letters by a certain offset. For example, if I chose an offset of 3 and a message of \"hello\", I would code my message by shifting each letter 3 places to the left (with respect to the alphabet). So \"h\" becomes \"e\", \"e\" becomes, \"b\", \"l\" becomes \"i\", and \"o\" becomes \"l\". Then I have my coded message,\"ebiil\"! Now I can send you my message and the offset and you can decode it. The best thing is that Julius Caesar himself used this cipher, that's why it's called the Caesar Cipher! Isn't that so cool! Okay, now I'm going to send you a longer coded message that you have to decode yourself!\n",
    "    \n",
    "        xuo jxuhu! jxyi yi qd unqcfbu ev q squiqh syfxuh. muhu oek qrbu je tusetu yj? y xefu ie! iudt cu q cuiiqwu rqsa myjx jxu iqcu evviuj!\n",
    "    \n",
    "    This message has an offset of 10. Can you decode it?\n",
    "    \n",
    "\n",
    "#### Step 1: Decode Vishal's Message\n",
    "In the cell below, use your Python skills to decode Vishal's message and print the result. Hint: you can account for shifts that go past the end of the alphabet using the modulus operator, but I'll let you figure out how!"
   ]
  },
  {
   "cell_type": "code",
   "execution_count": 11,
   "metadata": {},
   "outputs": [
    {
     "name": "stdout",
     "output_type": "stream",
     "text": [
      "hey there! this is an example of a caesar cipher. were you able to decode it? i hope so! send me a message back with the same offset!\n"
     ]
    }
   ],
   "source": [
    "string_scrambled = \"Xuo jxuhu! jxyi yi qd unqcfbu ev q squiqh syfxuh. muhu oek qrbu je tusetu yj? y xefu ie! iudt cu q cuiiqwu rqsa myjx jxu iqcu evviuj!\"\n",
    "alphabet = \"abcdefghijklmnopqrstuvwxyz\"\n",
    "punctuation = \" !.?\"\n",
    "message_translated = \"\"\n",
    "for char in string_scrambled:\n",
    "    if char in alphabet:\n",
    "        index_of_untranslated_char = alphabet.index(char)\n",
    "        char_translated = alphabet[(index_of_untranslated_char + 10) % 26]\n",
    "        message_translated = message_translated + char_translated\n",
    "        \n",
    "    elif char in alphabet.upper():\n",
    "        index_of_untranslated_char = alphabet.index(char.lower())\n",
    "        char_translated = alphabet[(index_of_untranslated_char + 10) % 26]\n",
    "        message_translated = message_translated + char_translated\n",
    "        \n",
    "    elif char in punctuation:\n",
    "        message_translated = message_translated + char\n",
    "print(message_translated)"
   ]
  },
  {
   "cell_type": "markdown",
   "metadata": {},
   "source": [
    "#### Step 2: Send Vishal a Coded Message\n",
    "Great job! Now send Vishal back a message using the same offset. Your message can be anything you want! Remember, coding happens in opposite direction of decoding."
   ]
  },
  {
   "cell_type": "code",
   "execution_count": 9,
   "metadata": {},
   "outputs": [
    {
     "name": "stdout",
     "output_type": "stream",
     "text": [
      "iqiq rktto xqrqhy pq qikrkxy?\n"
     ]
    }
   ],
   "source": [
    "message = \"Sasa buddy, habari za asubuhi?\"\n",
    "alphabet = \"abcdefghijklmnopqrstuvwxyz\"\n",
    "punctuation = \" !.?\"\n",
    "message_scrambled = \"\"\n",
    "for char in message:\n",
    "    if char in alphabet:\n",
    "        index_of_scrambled_char = alphabet.index(char)\n",
    "        char_scrambled = alphabet[index_of_scrambled_char - 10]\n",
    "        message_scrambled = message_scrambled + char_scrambled\n",
    "        \n",
    "    elif char in alphabet.upper():\n",
    "        index_of_untranslated_char = alphabet.index(char.lower())\n",
    "        char_translated = alphabet[(index_of_untranslated_char + 10) % 26]\n",
    "        message_translated = message_translated + char_translated\n",
    "        \n",
    "    elif char in punctuation:\n",
    "        message_scrambled = message_scrambled + char\n",
    "print(message_scrambled)"
   ]
  },
  {
   "cell_type": "markdown",
   "metadata": {},
   "source": [
    "#### Step 3: Make functions for decoding and coding \n",
    "\n",
    "Vishal sent over another reply, this time with two coded messages!\n",
    "    \n",
    "    You're getting the hang of this! Okay here are two more messages, the first one is coded just like before with  an offset of ten, and it contains the hint for decoding the second message!\n",
    "    \n",
    "    First message:\n",
    "    \n",
    "        jxu evviuj veh jxu iusedt cuiiqwu yi vekhjuud.\n",
    "        \n",
    "    Second message:\n",
    "    \n",
    "        bqdradyuzs ygxfubxq omqemd oubtqde fa oapq kagd yqeemsqe ue qhqz yadq eqogdq!\n",
    "    \n",
    "Decode both of these messages. \n",
    "\n",
    "If you haven't already, define two functions `decoder(message, offset)` and `coder(message, offset)` that can be used to quickly decode and code messages given any offset."
   ]
  },
  {
   "cell_type": "code",
   "execution_count": 12,
   "metadata": {},
   "outputs": [
    {
     "name": "stdout",
     "output_type": "stream",
     "text": [
      "the offset for the second message is fourteen.\n"
     ]
    }
   ],
   "source": [
    "string_scrambled = \"jxu evviuj veh jxu iusedt cuiiqwu yi vekhjuud.\"\n",
    "alphabet = \"abcdefghijklmnopqrstuvwxyz\"\n",
    "punctuation = \" !.?\"\n",
    "message_translated = \"\"\n",
    "for char in string_scrambled:\n",
    "    if char in alphabet:\n",
    "        index_of_untranslated_char = alphabet.index(char)\n",
    "        char_translated = alphabet[(index_of_untranslated_char + 10) % 26]\n",
    "        message_translated = message_translated + char_translated\n",
    "        \n",
    "    elif char in alphabet.upper():\n",
    "        index_of_untranslated_char = alphabet.index(char.lower())\n",
    "        char_translated = alphabet[(index_of_untranslated_char + 10) % 26]\n",
    "        message_translated = message_translated + char_translated\n",
    "        \n",
    "    elif char in punctuation:\n",
    "        message_translated = message_translated + char\n",
    "print(message_translated)"
   ]
  },
  {
   "cell_type": "code",
   "execution_count": 17,
   "metadata": {},
   "outputs": [
    {
     "name": "stdout",
     "output_type": "stream",
     "text": [
      "performing multiple caesar ciphers to code your messages is even more secure!\n"
     ]
    }
   ],
   "source": [
    "string_scrambled = \"bqdradyuzs ygxfubxq omqemd oubtqde fa oapq kagd yqeemsqe ue qhqz yadq eqogdq!\"\n",
    "alphabet = \"abcdefghijklmnopqrstuvwxyz\"\n",
    "punctuation = \" !.?\"\n",
    "message_translated = \"\"\n",
    "for char in string_scrambled:\n",
    "    if char in alphabet:\n",
    "        index_of_untranslated_char = alphabet.index(char)\n",
    "        char_translated = alphabet[(index_of_untranslated_char + 14) % 26]\n",
    "        message_translated = message_translated + char_translated\n",
    "        \n",
    "    elif char in alphabet.upper():\n",
    "        index_of_untranslated_char = alphabet.index(char.lower())\n",
    "        char_translated = alphabet[(index_of_untranslated_char + 14) % 26]\n",
    "        message_translated = message_translated + char_translated\n",
    "        \n",
    "    elif char in punctuation:\n",
    "        message_translated = message_translated + char\n",
    "print(message_translated)"
   ]
  },
  {
   "cell_type": "markdown",
   "metadata": {},
   "source": [
    "#### Step 4: Solving a Caesar Cipher without knowing the shift value\n",
    "\n",
    "Awesome work! While you were working to decode his last two messages, Vishal sent over another letter! He's really been bitten by the crytpo-bug. Read it and see what interesting task he has lined up for you this time.\n",
    "\n",
    "            Hello again friend! I knew you would love the Caesar Cipher, it's a cool simple way to encrypt messages. Did you know that back in Caesar's time, it was considered a very secure way of communication and it took a lot of effort to crack if you were unaware of the value of the shift? That's all changed with computers! Now we can brute force these kinds of ciphers very quickly, as I'm sure you can imagine.\n",
    "            \n",
    "            To test your cryptography skills, this next coded message is going to be harder than the last couple to crack. It's still going to be coded with a Caesar Cipher but this time I'm not going to tell you the value of   the shift. You'll have to brute force it yourself.\n",
    "            \n",
    "            Here's the coded message:\n",
    "            \n",
    "            vhfinmxkl atox kxgwxkxw tee hy maxlx hew vbiaxkl tl hulhexmx. px'ee atox mh kxteer lmxi ni hnk ztfx by px ptgm mh dxxi hnk fxlltzxl ltyx.\n",
    "            \n",
    "            Good luck!\n",
    "            \n",
    "Decode Vishal's most recent message and see what it says!"
   ]
  },
  {
   "cell_type": "code",
   "execution_count": 22,
   "metadata": {},
   "outputs": [
    {
     "name": "stdout",
     "output_type": "stream",
     "text": [
      "shift forward 0 below:\n",
      "atox\n",
      "shift forward 1 below:\n",
      "bupy\n",
      "shift forward 2 below:\n",
      "cvqz\n",
      "shift forward 3 below:\n",
      "dwra\n",
      "shift forward 4 below:\n",
      "exsb\n",
      "shift forward 5 below:\n",
      "fytc\n",
      "shift forward 6 below:\n",
      "gzud\n",
      "shift forward 7 below:\n",
      "have\n",
      "shift forward 8 below:\n",
      "ibwf\n",
      "shift forward 9 below:\n",
      "jcxg\n",
      "shift forward 10 below:\n",
      "kdyh\n",
      "shift forward 11 below:\n",
      "lezi\n",
      "shift forward 12 below:\n",
      "mfaj\n",
      "shift forward 13 below:\n",
      "ngbk\n",
      "shift forward 14 below:\n",
      "ohcl\n",
      "shift forward 15 below:\n",
      "pidm\n",
      "shift forward 16 below:\n",
      "qjen\n",
      "shift forward 17 below:\n",
      "rkfo\n",
      "shift forward 18 below:\n",
      "slgp\n",
      "shift forward 19 below:\n",
      "tmhq\n",
      "shift forward 20 below:\n",
      "unir\n",
      "shift forward 21 below:\n",
      "vojs\n",
      "shift forward 22 below:\n",
      "wpkt\n",
      "shift forward 23 below:\n",
      "xqlu\n",
      "shift forward 24 below:\n",
      "yrmv\n",
      "shift forward 25 below:\n",
      "zsnw\n"
     ]
    }
   ],
   "source": [
    "# Code below proves that the coded message was shifted back 7 characters\n",
    "alphabet = \"abcdefghijklmnopqrstuvwxyz\"\n",
    "sample = \"ni\"\n",
    "\n",
    "first_index = alphabet.index(\"a\")\n",
    "second_index = alphabet.index(\"t\")\n",
    "third_index = alphabet.index(\"o\")\n",
    "fourth_index = alphabet.index(\"x\")\n",
    "\n",
    "for i in range(len(alphabet)):\n",
    "    print(\"shift forward \" + str(i) + \" below:\")\n",
    "    print(alphabet[(first_index + i) % 26] + alphabet[(second_index + i) % 26] + alphabet[(third_index + i) % 26] + alphabet[(fourth_index + i) % 26])"
   ]
  },
  {
   "cell_type": "code",
   "execution_count": 24,
   "metadata": {},
   "outputs": [
    {
     "name": "stdout",
     "output_type": "stream",
     "text": [
      "computers have rendered all of these old ciphers as obsolete. we'll have to really step up our game if we want to keep our messages safe.\n"
     ]
    }
   ],
   "source": [
    "string_scrambled = \"vhfinmxkl atox kxgwxkxw tee hy maxlx hew vbiaxkl tl hulhexmx. px'ee atox mh kxteer lmxi ni hnk ztfx by px ptgm mh dxxi hnk fxlltzxl ltyx.\"\n",
    "alphabet = \"abcdefghijklmnopqrstuvwxyz\"\n",
    "punctuation = \" !.?'\"\n",
    "message_translated = \"\"\n",
    "# Added shift_of_chars variable so the shift performed in multiple loops can be edited from one spot\n",
    "shift_of_chars = 7\n",
    "for char in string_scrambled:\n",
    "    if char in alphabet:\n",
    "        index_of_untranslated_char = alphabet.index(char)\n",
    "        char_translated = alphabet[(index_of_untranslated_char + shift_of_chars) % 26]\n",
    "        message_translated = message_translated + char_translated\n",
    "        \n",
    "    elif char in alphabet.upper():\n",
    "        index_of_untranslated_char = alphabet.index(char.lower())\n",
    "        char_translated = alphabet[(index_of_untranslated_char + shift_of_chars) % 26]\n",
    "        message_translated = message_translated + char_translated\n",
    "        \n",
    "    elif char in punctuation:\n",
    "        message_translated = message_translated + char\n",
    "print(message_translated)"
   ]
  },
  {
   "cell_type": "markdown",
   "metadata": {},
   "source": [
    "#### Step 5: The Vigenère Cipher\n",
    "\n",
    "Great work! While you were working on the brute force cracking of the cipher, Vishal sent over another letter. That guy is a letter machine!\n",
    "\n",
    "            Salutations! As you can see, technology has made brute forcing simple ciphers like the Caesar Cipher extremely easy, and us crypto-enthusiasts have had to get more creative and use more complicated ciphers. This next cipher I'm going to teach you is the Vigenère Cipher, invented by an Italian cryptologist named Giovan Battista Bellaso (cool name eh?) in the 16th century, but named after another cryptologist from the 16th century, Blaise de Vigenère.\n",
    "            \n",
    "           The Vigenère Cipher is a polyalphabetic substitution cipher, as opposed to the Caesar Cipher which was a monoalphabetic substitution cipher. What this means is that opposed to having a single shift that is applied to every letter, the Vigenère Cipher has a different shift for each individual letter. The value of the shift for each letter is determined by a given keyword.\n",
    "           \n",
    "           Consider the message\n",
    "           \n",
    "               barry is the spy\n",
    "\n",
    "           If we want to code this message, first we choose a keyword. For this example, we'll use the keyword\n",
    "           \n",
    "               dog\n",
    "               \n",
    "           Now we use the repeat the keyword over and over to generate a _keyword phrase_ that is the same length as the message we want to code. So if we want to code the message \"barry is the spy\" our _keyword phrase_ is \"dogdo gd ogd ogd\". Now we are ready to start coding our message. We shift the each letter of our message by the place value of the corresponding letter in the keyword phrase, assuming that \"a\" has a place value of 0, \"b\" has a place value of 1, and so forth. Remember, we zero-index because this is Python we're talking about!\n",
    "\n",
    "                        message:       b  a  r  r  y    i  s   t  h  e   s  p  y\n",
    "                \n",
    "                 keyword phrase:       d  o  g  d  o    g  d   o  g  d   o  g  d\n",
    "                 \n",
    "          resulting place value:       4  14 15 12 16   24 11  21 25 22  22 17 5\n",
    "      \n",
    "            So we shift \"b\", which has an index of 1, by the index of \"d\", which is 3. This gives us an place value of 4, which is \"e\". Then continue the trend: we shift \"a\" by the place value of \"o\", 14, and get \"o\" again, we shift \"r\" by the place value of \"g\", 15, and get \"x\", shift the next \"r\" by 12 places and \"u\", and so forth. Once we complete all the shifts we end up with our coded message:\n",
    "            \n",
    "                eoxum ov hnh gvb\n",
    "                \n",
    "            As you can imagine, this is a lot harder to crack without knowing the keyword! So now comes the hard part. I'll give you a message and the keyword, and you'll see if you can figure out how to crack it! Ready? Okay here's my message:\n",
    "            \n",
    "                dfc aruw fsti gr vjtwhr wznj? vmph otis! cbx swv jipreneo uhllj kpi rahjib eg fjdkwkedhmp!\n",
    "                \n",
    "            and the keyword to decode my message is \n",
    "            \n",
    "                friends\n",
    "                \n",
    "            Because that's what we are! Good luck friend!\n",
    "           \n",
    "And there it is. Vishal has given you quite the assignment this time! Try to decode his message. It may be helpful to create a function that takes two parameters, the coded message and the keyword and then work towards a solution from there.\n",
    "\n",
    "**NOTE:** Watch out for spaces and punctuation! When there's a space or punctuation mark in the original message, there should be a space/punctuation mark in the corresponding repeated-keyword string as well! "
   ]
  },
  {
   "cell_type": "code",
   "execution_count": 47,
   "metadata": {},
   "outputs": [
    {
     "name": "stdout",
     "output_type": "stream",
     "text": [
      "you were able to decode this? nice work! you are becoming quite the expert at crytography!\n",
      "oupd dzskk\n"
     ]
    }
   ],
   "source": [
    "def decode(string_scrambled, keyword):\n",
    "    \n",
    "    alphabet = \"abcdefghijklmnopqrstuvwxyz\"\n",
    "    punctuation = \" !.?'\"\n",
    "    keyword_shift = []\n",
    "    for char in keyword:\n",
    "        keyword_shift.append(int(alphabet.index(char)))\n",
    "\n",
    "    i = 0\n",
    "    translated_message = \"\"\n",
    "    for char in string_scrambled:\n",
    "        if char in alphabet:\n",
    "            index_scrambled = alphabet.index(char)\n",
    "            new_index = index_scrambled - keyword_shift[i]\n",
    "            translated_char = alphabet[new_index]\n",
    "            translated_message = translated_message + translated_char\n",
    "            i = (i + 1) % len(keyword)\n",
    "\n",
    "        elif char in punctuation:\n",
    "            translated_message = translated_message + char\n",
    "            \n",
    "    print(translated_message)\n",
    "decode(string_scrambled = \"dfc aruw fsti gr vjtwhr wznj? vmph otis! cbx swv jipreneo uhllj kpi rahjib eg fjdkwkedhmp!\" ,\n",
    "       keyword = \"friends\")\n",
    "decode(\"voyd pagre\", \"hujambo\")"
   ]
  },
  {
   "cell_type": "markdown",
   "metadata": {
    "collapsed": true
   },
   "source": [
    "#### Step 6: Send a message with the  Vigenère Cipher\n",
    "Great work decoding the message. For your final task, write a function that can encode a message using a given keyword and write out a message to send to Vishal!\n",
    "\n",
    "*As a bonus, try calling your decoder function on the result of your encryption function. You should get the original message back!*"
   ]
  },
  {
   "cell_type": "code",
   "execution_count": 45,
   "metadata": {},
   "outputs": [
    {
     "name": "stdout",
     "output_type": "stream",
     "text": [
      "voyd pagre\n"
     ]
    }
   ],
   "source": [
    "def encode(string_unscrambled, keyword):\n",
    "    alphabet = \"abcdefghijklmnopqrstuvwxyz\"\n",
    "    punctuation = \" !.?'\"\n",
    "    keyword_shift = []\n",
    "    for char in keyword:\n",
    "        keyword_shift.append(int(alphabet.index(char)))\n",
    "        \n",
    "    i = 0\n",
    "    scrambled_message = \"\"\n",
    "    for char in string_unscrambled:\n",
    "        if char in alphabet:\n",
    "            index_clean = alphabet.index(char)\n",
    "            new_index = index_clean + keyword_shift[i]\n",
    "            scrambled_char = alphabet[new_index % 26]\n",
    "            scrambled_message = scrambled_message + scrambled_char\n",
    "            i = (i + 1) % len(keyword)\n",
    "        \n",
    "        elif char in punctuation:\n",
    "            scrambled_message = scrambled_message + char\n",
    "            \n",
    "    print(scrambled_message)\n",
    "encode(\"sasa buddy\", \"dog\")"
   ]
  },
  {
   "cell_type": "markdown",
   "metadata": {},
   "source": [
    "#### Conclusion\n",
    "Over the course of this project you've learned about two different cipher methods and have used your Python skills to code and decode messages. There are all types of other facinating ciphers out there to explore, and Python is the perfect language to implement them with, so go exploring! "
   ]
  }
 ],
 "metadata": {
  "kernelspec": {
   "display_name": "Python 3 (ipykernel)",
   "language": "python",
   "name": "python3"
  },
  "language_info": {
   "codemirror_mode": {
    "name": "ipython",
    "version": 3
   },
   "file_extension": ".py",
   "mimetype": "text/x-python",
   "name": "python",
   "nbconvert_exporter": "python",
   "pygments_lexer": "ipython3",
   "version": "3.9.12"
  }
 },
 "nbformat": 4,
 "nbformat_minor": 2
}
