{
 "cells": [
  {
   "cell_type": "markdown",
   "id": "0d0a0493",
   "metadata": {},
   "source": [
    "# Heading 1\n",
    "## Heading 2\n",
    "### Heading 3\n",
    "#### Heading 4"
   ]
  },
  {
   "cell_type": "markdown",
   "id": "a38e93c3",
   "metadata": {},
   "source": [
    "**strong**\n",
    "__strong__\n",
    "*emphasize*\n",
    "_emphasize_"
   ]
  },
  {
   "cell_type": "markdown",
   "id": "4b3c77c6",
   "metadata": {},
   "source": [
    "'This is monospace.`"
   ]
  },
  {
   "cell_type": "markdown",
   "id": "0304ab87",
   "metadata": {},
   "source": [
    "******"
   ]
  }
 ],
 "metadata": {
  "kernelspec": {
   "display_name": "Python 3 (ipykernel)",
   "language": "python",
   "name": "python3"
  },
  "language_info": {
   "codemirror_mode": {
    "name": "ipython",
    "version": 3
   },
   "file_extension": ".py",
   "mimetype": "text/x-python",
   "name": "python",
   "nbconvert_exporter": "python",
   "pygments_lexer": "ipython3",
   "version": "3.9.12"
  }
 },
 "nbformat": 4,
 "nbformat_minor": 5
}
