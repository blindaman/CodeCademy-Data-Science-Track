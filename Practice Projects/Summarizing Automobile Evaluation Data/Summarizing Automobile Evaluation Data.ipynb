{
 "cells": [
  {
   "cell_type": "markdown",
   "id": "f5048698",
   "metadata": {},
   "source": [
    "# Summarizing Automobile Evaluation Data"
   ]
  },
  {
   "cell_type": "markdown",
   "id": "6e3d2eca",
   "metadata": {},
   "source": [
    "In the following project you'll use what you've learned about summarizing categorical data to analyze a sample from a popular open source dataset. This dataset contains information on the cost and physical attributes of several thousand cars. Originally, this dataset was used to train a classification model that assigned an acceptability score/category to cars based on these attributes.\n",
    "\n",
    "The car evaluation dataset has been sourced from the UCI Machine Learning Repository and has been slightly modified for this project. Specifically, one additional field `manufacturer_country` has been simulated for illustrative purposes. You can read more about the details, features, and original uses of this dataset in research on the [UCI data description page](https://archive.ics.uci.edu/ml/datasets/car+evaluation)."
   ]
  },
  {
   "cell_type": "markdown",
   "id": "5a7c3519",
   "metadata": {},
   "source": [
    "## Summarizing Manufacturing Country"
   ]
  },
  {
   "cell_type": "markdown",
   "id": "cf23386f",
   "metadata": {},
   "source": [
    "1. `manufacturer_country` is a _nominal categorical variable_ that indicates the country of the manufacturer of each car reviewed. Create a table of frequencies of all the cars reviewed by `manufacturer_country`. What is the modal category? Which country appears 4th most frequently? Print out your results."
   ]
  },
  {
   "cell_type": "code",
   "execution_count": 15,
   "id": "37db0534",
   "metadata": {},
   "outputs": [
    {
     "data": {
      "text/html": [
       "<div>\n",
       "<style scoped>\n",
       "    .dataframe tbody tr th:only-of-type {\n",
       "        vertical-align: middle;\n",
       "    }\n",
       "\n",
       "    .dataframe tbody tr th {\n",
       "        vertical-align: top;\n",
       "    }\n",
       "\n",
       "    .dataframe thead th {\n",
       "        text-align: right;\n",
       "    }\n",
       "</style>\n",
       "<table border=\"1\" class=\"dataframe\">\n",
       "  <thead>\n",
       "    <tr style=\"text-align: right;\">\n",
       "      <th></th>\n",
       "      <th>buying_cost</th>\n",
       "      <th>maintenance_cost</th>\n",
       "      <th>doors</th>\n",
       "      <th>capacity</th>\n",
       "      <th>luggage</th>\n",
       "      <th>safety</th>\n",
       "      <th>acceptability</th>\n",
       "      <th>manufacturer_country</th>\n",
       "    </tr>\n",
       "  </thead>\n",
       "  <tbody>\n",
       "    <tr>\n",
       "      <th>0</th>\n",
       "      <td>vhigh</td>\n",
       "      <td>low</td>\n",
       "      <td>4</td>\n",
       "      <td>4</td>\n",
       "      <td>small</td>\n",
       "      <td>med</td>\n",
       "      <td>unacc</td>\n",
       "      <td>China</td>\n",
       "    </tr>\n",
       "    <tr>\n",
       "      <th>1</th>\n",
       "      <td>vhigh</td>\n",
       "      <td>med</td>\n",
       "      <td>3</td>\n",
       "      <td>4</td>\n",
       "      <td>small</td>\n",
       "      <td>high</td>\n",
       "      <td>acc</td>\n",
       "      <td>France</td>\n",
       "    </tr>\n",
       "    <tr>\n",
       "      <th>2</th>\n",
       "      <td>med</td>\n",
       "      <td>high</td>\n",
       "      <td>3</td>\n",
       "      <td>2</td>\n",
       "      <td>med</td>\n",
       "      <td>high</td>\n",
       "      <td>unacc</td>\n",
       "      <td>United States</td>\n",
       "    </tr>\n",
       "    <tr>\n",
       "      <th>3</th>\n",
       "      <td>low</td>\n",
       "      <td>med</td>\n",
       "      <td>4</td>\n",
       "      <td>more</td>\n",
       "      <td>big</td>\n",
       "      <td>low</td>\n",
       "      <td>unacc</td>\n",
       "      <td>United States</td>\n",
       "    </tr>\n",
       "    <tr>\n",
       "      <th>4</th>\n",
       "      <td>low</td>\n",
       "      <td>high</td>\n",
       "      <td>2</td>\n",
       "      <td>more</td>\n",
       "      <td>med</td>\n",
       "      <td>high</td>\n",
       "      <td>acc</td>\n",
       "      <td>South Korea</td>\n",
       "    </tr>\n",
       "  </tbody>\n",
       "</table>\n",
       "</div>"
      ],
      "text/plain": [
       "  buying_cost maintenance_cost doors capacity luggage safety acceptability  \\\n",
       "0       vhigh              low     4        4   small    med         unacc   \n",
       "1       vhigh              med     3        4   small   high           acc   \n",
       "2         med             high     3        2     med   high         unacc   \n",
       "3         low              med     4     more     big    low         unacc   \n",
       "4         low             high     2     more     med   high           acc   \n",
       "\n",
       "  manufacturer_country  \n",
       "0                China  \n",
       "1               France  \n",
       "2        United States  \n",
       "3        United States  \n",
       "4          South Korea  "
      ]
     },
     "metadata": {},
     "output_type": "display_data"
    },
    {
     "data": {
      "text/plain": [
       "Japan            228\n",
       "Germany          218\n",
       "South Korea      159\n",
       "United States    138\n",
       "Italy             97\n",
       "France            87\n",
       "China             73\n",
       "Name: manufacturer_country, dtype: int64"
      ]
     },
     "metadata": {},
     "output_type": "display_data"
    }
   ],
   "source": [
    "import pandas as pd\n",
    "import numpy as np\n",
    "\n",
    "car_eval = pd.read_csv('car_eval_dataset.csv')\n",
    "display(car_eval.head())\n",
    "\n",
    "manufacturer_country_frequency = car_eval['manufacturer_country'].value_counts()\n",
    "display(manufacturer_country_frequency)\n",
    "\n",
    "# Japan is the modal category\n",
    "# The United States is the 4th most frequent category"
   ]
  },
  {
   "cell_type": "markdown",
   "id": "ee1e5244",
   "metadata": {},
   "source": [
    "2. Calculate a table of proportions for countries that appear in `manufacturer_country` in the dataset. What percentage of cars were manufactured in Japan?"
   ]
  },
  {
   "cell_type": "code",
   "execution_count": 5,
   "id": "9182f21b",
   "metadata": {},
   "outputs": [
    {
     "data": {
      "text/plain": [
       "Japan            0.228\n",
       "Germany          0.218\n",
       "South Korea      0.159\n",
       "United States    0.138\n",
       "Italy            0.097\n",
       "France           0.087\n",
       "China            0.073\n",
       "Name: manufacturer_country, dtype: float64"
      ]
     },
     "metadata": {},
     "output_type": "display_data"
    }
   ],
   "source": [
    "manufacturer_country_proportion = car_eval['manufacturer_country'].value_counts(normalize = True)\n",
    "display(manufacturer_country_proportion)\n",
    "# 22.8% of cars were manufactured in Japan"
   ]
  },
  {
   "cell_type": "markdown",
   "id": "5b05bb2b",
   "metadata": {},
   "source": [
    "## Summarizing Buying Costs"
   ]
  },
  {
   "cell_type": "markdown",
   "id": "3ceb7a05",
   "metadata": {},
   "source": [
    "3. `buying_cost` is a categorical variable which describes the cost of buying any car in the dataset. Print out a list of the possible values for this variable."
   ]
  },
  {
   "cell_type": "code",
   "execution_count": 8,
   "id": "89d6819b",
   "metadata": {},
   "outputs": [
    {
     "name": "stdout",
     "output_type": "stream",
     "text": [
      "['vhigh' 'med' 'low' 'high']\n"
     ]
    }
   ],
   "source": [
    "print(car_eval['buying_cost'].unique())"
   ]
  },
  {
   "cell_type": "markdown",
   "id": "f7c4aa76",
   "metadata": {},
   "source": [
    "4. `buying_cost` is an _ordinal categorical variable_, which means we can create an order associated with the values in the data and perform numeric operations on the variable. Create a new list, `buying_cost_categories`, that contains the unique values in `buying_cost`, ordered from lowest to highest."
   ]
  },
  {
   "cell_type": "code",
   "execution_count": 11,
   "id": "3e56b2d0",
   "metadata": {},
   "outputs": [],
   "source": [
    "buying_cost_categories = ['low', 'med', 'high', 'vhigh']"
   ]
  },
  {
   "cell_type": "markdown",
   "id": "fed08c10",
   "metadata": {},
   "source": [
    "5. Convert `buying_cost` to type `'category'` using the list you created in the previous exercise."
   ]
  },
  {
   "cell_type": "code",
   "execution_count": 19,
   "id": "eb5a13de",
   "metadata": {},
   "outputs": [],
   "source": [
    "car_eval.buying_cost = pd.Categorical(car_eval['buying_cost'], categories = buying_cost_categories, ordered = True)"
   ]
  },
  {
   "cell_type": "markdown",
   "id": "1674fff1",
   "metadata": {},
   "source": [
    "6. Calculate the median category of the `buying_cost` variable and print the result."
   ]
  },
  {
   "cell_type": "code",
   "execution_count": 23,
   "id": "d402fb98",
   "metadata": {},
   "outputs": [
    {
     "name": "stdout",
     "output_type": "stream",
     "text": [
      "med\n"
     ]
    }
   ],
   "source": [
    "median_buying_cost = np.median(car_eval.buying_cost.cat.codes)\n",
    "print(buying_cost_categories[int(median_buying_cost)])"
   ]
  },
  {
   "cell_type": "markdown",
   "id": "1b62d1ae",
   "metadata": {},
   "source": [
    "## Summarizing Luggage Capacity"
   ]
  },
  {
   "cell_type": "markdown",
   "id": "b599f083",
   "metadata": {},
   "source": [
    "7. `luggage` is a categorical variable in the car evaluations dataset that records the luggage capacity for each reviewed car. Calculate a table of proportions for this variable and print the result."
   ]
  },
  {
   "cell_type": "code",
   "execution_count": 28,
   "id": "e19d3bf8",
   "metadata": {},
   "outputs": [
    {
     "name": "stdout",
     "output_type": "stream",
     "text": [
      "small    0.339\n",
      "med      0.333\n",
      "big      0.328\n",
      "Name: luggage, dtype: float64\n"
     ]
    }
   ],
   "source": [
    "luggage_proportions_dropped_na_values = car_eval.luggage.value_counts(normalize = True, dropna = True)\n",
    "print(luggage_proportions_dropped_na_values)"
   ]
  },
  {
   "cell_type": "markdown",
   "id": "2b6fe817",
   "metadata": {},
   "source": [
    "8. Are there any missing values in this column? Replicate the table of proportions from the previous exercise, but do not drop any missing values from the count. Print the result."
   ]
  },
  {
   "cell_type": "code",
   "execution_count": 30,
   "id": "dc8bf3c6",
   "metadata": {},
   "outputs": [
    {
     "name": "stdout",
     "output_type": "stream",
     "text": [
      "small    0.339\n",
      "med      0.333\n",
      "big      0.328\n",
      "Name: luggage, dtype: float64\n"
     ]
    }
   ],
   "source": [
    "luggage_proportions_no_dropped_values = car_eval.luggage.value_counts(normalize = True, dropna = False)\n",
    "print(luggage_proportions_no_dropped_values)"
   ]
  },
  {
   "cell_type": "markdown",
   "id": "a23eb89b",
   "metadata": {},
   "source": [
    "9. Without passing `normalize = True` to `.value_counts()`, can you replicate the result you got in the previous exercises?"
   ]
  },
  {
   "cell_type": "code",
   "execution_count": 31,
   "id": "0f793fa5",
   "metadata": {},
   "outputs": [
    {
     "name": "stdout",
     "output_type": "stream",
     "text": [
      "small    0.339\n",
      "med      0.333\n",
      "big      0.328\n",
      "Name: luggage, dtype: float64\n",
      "small    0.339\n",
      "med      0.333\n",
      "big      0.328\n",
      "Name: luggage, dtype: float64\n"
     ]
    }
   ],
   "source": [
    "luggage_proportions_dropped_na_values = car_eval.luggage.value_counts(dropna = True) / len(car_eval)\n",
    "print(luggage_proportions_dropped_na_values)\n",
    "\n",
    "luggage_proportions_no_dropped_values = car_eval.luggage.value_counts(dropna = False) / len(car_eval)\n",
    "print(luggage_proportions_no_dropped_values)"
   ]
  },
  {
   "cell_type": "markdown",
   "id": "6fd9eeff",
   "metadata": {},
   "source": [
    "## Summarizing Passenger Capacity"
   ]
  },
  {
   "cell_type": "markdown",
   "id": "276efc2d",
   "metadata": {},
   "source": [
    "10. `doors` is a categorical variable in the car evaluations dataset that records the count of doors for each reviewed car. Find the count of cars that have 5 or more doors. You can identify cars with 5+ doors by looking for cars that have a value of `'5more'` in the `doors` column. Print your result."
   ]
  },
  {
   "cell_type": "code",
   "execution_count": 33,
   "id": "5cbb524a",
   "metadata": {},
   "outputs": [
    {
     "name": "stdout",
     "output_type": "stream",
     "text": [
      "246\n"
     ]
    }
   ],
   "source": [
    "number_of_chip_da_ripper_mobiles = np.sum(car_eval.doors == '5more')\n",
    "print(number_of_chip_da_ripper_mobiles)"
   ]
  },
  {
   "cell_type": "markdown",
   "id": "d5fbe9de",
   "metadata": {},
   "source": [
    "11. Find the proportion of cars that have 5+ doors and print the result."
   ]
  },
  {
   "cell_type": "code",
   "execution_count": 35,
   "id": "7c56f800",
   "metadata": {},
   "outputs": [
    {
     "name": "stdout",
     "output_type": "stream",
     "text": [
      "0.246\n"
     ]
    }
   ],
   "source": [
    "proportion_of_cars_not_for_oompa_loompas = number_of_chip_da_ripper_mobiles / len(car_eval)\n",
    "print(proportion_of_cars_not_for_oompa_loompas)"
   ]
  }
 ],
 "metadata": {
  "kernelspec": {
   "display_name": "Python 3 (ipykernel)",
   "language": "python",
   "name": "python3"
  },
  "language_info": {
   "codemirror_mode": {
    "name": "ipython",
    "version": 3
   },
   "file_extension": ".py",
   "mimetype": "text/x-python",
   "name": "python",
   "nbconvert_exporter": "python",
   "pygments_lexer": "ipython3",
   "version": "3.9.12"
  }
 },
 "nbformat": 4,
 "nbformat_minor": 5
}
