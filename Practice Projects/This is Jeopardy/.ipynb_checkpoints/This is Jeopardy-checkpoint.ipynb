{
 "cells": [
  {
   "cell_type": "markdown",
   "metadata": {},
   "source": [
    "# This is Jeopardy!"
   ]
  },
  {
   "cell_type": "markdown",
   "metadata": {},
   "source": [
    "#### Overview"
   ]
  },
  {
   "cell_type": "markdown",
   "metadata": {},
   "source": [
    "This project is slightly different than others you have encountered thus far. Instead of a step-by-step tutorial, this project contains a series of open-ended requirements which describe the project you'll be building. There are many possible ways to correctly fulfill all of these requirements, and you should expect to use the internet, Codecademy, and/or other resources when you encounter a problem that you cannot easily solve."
   ]
  },
  {
   "cell_type": "markdown",
   "metadata": {},
   "source": [
    "#### Project Goals"
   ]
  },
  {
   "cell_type": "markdown",
   "metadata": {},
   "source": [
    "You will work to write several functions that investigate a dataset of _Jeopardy!_ questions and answers. Filter the dataset for topics that you're interested in, compute the average difficulty of those questions, and train to become the next Jeopardy champion!"
   ]
  },
  {
   "cell_type": "markdown",
   "metadata": {},
   "source": [
    "## Prerequisites"
   ]
  },
  {
   "cell_type": "markdown",
   "metadata": {},
   "source": [
    "In order to complete this project, you should have completed the Pandas lessons in the <a href=\"https://www.codecademy.com/learn/paths/analyze-data-with-python\">Analyze Data with Python Skill Path</a>. You can also find those lessons in the <a href=\"https://www.codecademy.com/learn/data-processing-pandas\">Data Analysis with Pandas course</a> or the <a href=\"https://www.codecademy.com/learn/paths/data-science/\">Data Scientist Career Path</a>.\n",
    "\n",
    "Finally, the <a href=\"https://www.codecademy.com/learn/practical-data-cleaning\">Practical Data Cleaning</a> course may also be helpful."
   ]
  },
  {
   "cell_type": "markdown",
   "metadata": {},
   "source": [
    "## Project Requirements"
   ]
  },
  {
   "cell_type": "markdown",
   "metadata": {},
   "source": [
    "1. We've provided a csv file containing data about the game show _Jeopardy!_ in a file named `jeopardy.csv`. Load the data into a DataFrame and investigate its contents. Try to print out specific columns.\n",
    "\n",
    "   Note that in order to make this project as \"real-world\" as possible, we haven't modified the data at all - we're giving it to you exactly how we found it. As a result, this data isn't as \"clean\" as the datasets you normally find on Codecademy. More specifically, there's something odd about the column names. After you figure out the problem with the column names, you may want to rename them to make your life easier for the rest of the project.\n",
    "   \n",
    "   In order to display the full contents of a column, we've added this line of code for you:\n",
    "   \n",
    "   ```py\n",
    "   pd.set_option('display.max_colwidth', None)\n",
    "   ```"
   ]
  },
  {
   "cell_type": "code",
   "execution_count": 1,
   "metadata": {},
   "outputs": [
    {
     "name": "stdout",
     "output_type": "stream",
     "text": [
      "Index(['Show Number', ' Air Date', ' Round', ' Category', ' Value',\n",
      "       ' Question', ' Answer'],\n",
      "      dtype='object')\n",
      "Index(['Show Number', 'Air Date', 'Round', 'Category', 'Value', 'Question',\n",
      "       'Answer'],\n",
      "      dtype='object')\n",
      "The dataset has 216930 entries.\n"
     ]
    }
   ],
   "source": [
    "import pandas as pd\n",
    "import datetime\n",
    "pd.set_option('display.max_colwidth', None)\n",
    "jeopardy_data = pd.read_csv('jeopardy.csv')\n",
    "print(jeopardy_data.columns)\n",
    "\n",
    "jeopardy_data = jeopardy_data.rename(columns = {' Air Date': 'Air Date', ' Round': 'Round', ' Category': 'Category', \\\n",
    "                                               ' Value' : 'Value', ' Question' : 'Question', ' Answer' : 'Answer'})\n",
    "print(jeopardy_data.columns)\n",
    "\n",
    "print(\"The dataset has \" + str(len(jeopardy_data)) + \" entries.\")"
   ]
  },
  {
   "cell_type": "markdown",
   "metadata": {},
   "source": [
    "2. Write a function that filters the dataset for questions that contains all of the words in a list of words. For example, when the list `[\"King\", \"England\"]` was passed to our function, the function returned a DataFrame of 49 rows. Every row had the strings `\"King\"` and `\"England\"` somewhere in its `\" Question\"`.\n",
    "\n",
    "   Test your function by printing out the column containing the question of each row of the dataset."
   ]
  },
  {
   "cell_type": "code",
   "execution_count": 2,
   "metadata": {},
   "outputs": [
    {
     "name": "stdout",
     "output_type": "stream",
     "text": [
      "4953                                                                                                                                                                                                                                                                      Both England's King George V & FDR put their stamp of approval on this \"King of Hobbies\"\n",
      "14912                                                                                                                                                                                                                                                            This country's King Louis IV was nicknamed \"Louis From Overseas\" because he was raised in England\n",
      "21511                                                                                                                                                                                                                                                                                 this man and his son ruled England following the execution of King Charles I\n",
      "23810                                                                                                                                                                                                                                                         William the Conqueror was crowned King of England in Westminster Abbey on Christmas Day in this year\n",
      "27555                                                                                                                                                                                                                                                                           This member of the Medici family was the mother-in-law of England's King Charles I\n",
      "33294                 (Sarah of the Clue Crew delivers the clue from the Bayeux Cathedral in France.)  Despite taking an oath to assure another succession, Harold is crowned King of England; the tapestry indicated it was <a href=\"http://www.j-archive.com/media/2008-12-18_J_08.jpg\" target=\"_blank\">Stigant</a>, this archbishop, who performed the ceremony\n",
      "41148                                                                                                                                                                                                                                    This French king recognized William of Orange as William II, King of England, under the terms of 1697's Treaty of Ryswick\n",
      "41357                                                                                                                                                                                                                                                     England's King Henry VIII had 3 wives named Catherine:  Catherine Howard, Catherine of Aragon & this one\n",
      "43122                                                                                                                                                                                                                                                                                                                       The father of England's King Edward VI\n",
      "47814                                                                                                                                                                                                                                                                                                   This steak sauce was created for King George IV of England\n",
      "49994                                                                                                                                                                                                                                                                       Elizabeth I's half-brother, he reigned before her as King of England from 1547 to 1553\n",
      "51115                                                                                                                  (<a href=\"http://www.j-archive.com/media/2000-03-02_J_22.jpg\" target=\"_blank\">Alex Trebek reads from England.</a>)  In 1214 barons fed up with King John met at the abbey whose ruins we see here; the result a year later was this charter\n",
      "51565                                                                                                                                                                                                                                                 He wrote several anthems, including \"The King Shall Rejoice\", for the coronation of England's King George II\n",
      "56600                                                                                                                                                                                                                                                              This city known for its 24-hour auto race was the birthplace of England's King Henry II in 1133\n",
      "57516                                                                                                                                                                                                                                                                                         Famous (& rather insulting) adjective for England's King Ethelred II\n",
      "58949                                                                                                                                                                                                                                                                        He became King of England in 1399 after forcing his cousin Richard II from the throne\n",
      "71808                                                                                                                                                                                                                                                                                      Number of the William who was England's \"Sailor King\" from 1830 to 1837\n",
      "74235                                                                                                                                                                                                                                                                     Barons & churchmen drew up this 1215 document to reduce the power of England's King John\n",
      "77195                                                                                                                                                                                                                                                          He became King of England on June 26, 1483; just over 2 years later he was killed at Bosworth Field\n",
      "79457                                                                                                                                                                                                                                              On Christmas Day 1066, he was crowned King of England, 72 days after defeating Harold at the Battle of Hastings\n",
      "80113                                                                                                                                                                                                                                                                                                England's King Charles II was known by this \"jovial\" nickname\n",
      "84639                                                                                                                                                                                                                                                                            He went from second banana on \"Roseanne\" to top banana of England in \"King Ralph\"\n",
      "86412                                                                                                                                                                                                                                                                         This country's King Olaf V was born in England & was the grandson of King Edward VII\n",
      "89710                                                                                                                                                                                                                                                            This 11th Century King of England also ruled Denmark & Norway during the latter part of his reign\n",
      "111926                                                                                                                                                                                                                                                   It begins \"John, by the grace of God, King of England, Lord of Ireland, Duke of Normandy & Aquitaine....\"\n",
      "118809                                                                                                                                                                                                                                                                                            In French this King of England is called Guillaume le Conquerant\n",
      "123299                                                                                                                                                                                                                                                                     If you want to be crowned King of England, this rock has to be in your coronation chair\n",
      "123671                                                                                                                                                                                                                                                                                                                              King Henry VII of England dies\n",
      "125822                                                                                                                                                                                                                                                                                              Famous nickname of the eldest son of England's King Edward III\n",
      "127484                                                                                                                                                                                                                                                                Ethelred the Unready managed to lose most of England to King Sweyn Forkbeard of this country\n",
      "127758                                                                                                                                                                                                                                                                                  This state was named for the King of England who reigned from 1727 to 1760\n",
      "129106                                                                                                                                                                                                                                                              King Edward I of England, who fought William Wallace, had this nickname relating to his height\n",
      "130208                                                                                                                                                                                                                                                                                    This \"Sun King\" sniffed, \"England is a little garden full of sour weeds\"\n",
      "137818                                                                                                                                                                                                                                                                                        The last King William to rule England had this number after his name\n",
      "143434                                                                                                                                                                                                                                                                This Flemish artist painted a unique triple portrait of England's King Charles I around 1637\n",
      "150880                                                                                                                                                                                                                                                                                       During Stanley Baldwin's term as P.M., this King of England abdicated\n",
      "165110                                                                                                                                                                                                                                                        The 1st commoner to rule England, he became lord protector following the overthrow of King Charles I\n",
      "165197                                                                                                                                                                                                                                                       The \"Angel of Hadley\" is said to have saved a New England town during the war with this Indian \"King\"\n",
      "170007                                                                                                                                                                                                                                                                In the 1697 Treaty of Rijswijk, the French recognized this Dutch-born man as King of England\n",
      "174055                                                                                                                                                                                                                                                                                            This conqueror was crowned King of England on Christmas Day 1066\n",
      "175259                                                                                                                                                                                                                                                                                                          His short reign as King of England fell in in 1936\n",
      "183462                                                                                                                                                                                                                                                            A capital in the West Indies is named for this family name of William of Orange, King of England\n",
      "186239                                                                                                                                                                                                                                           He was King of England from 1189 to 1199 but spent only 6 months there; the rest of the time, he was off fighting\n",
      "187651                                                                                                                                                                                                                                                                     This Bahamian capital took its name from the family name of King William III of England\n",
      "191579                                                                                                                                                                                                                                                                             England's King Harold II lost the all-important Battle of Hastings in this year\n",
      "192265    (<a href=\"http://www.j-archive.com/media/2012-01-17_DJ_25.jpg\" target=\"_blank\">Sarah of the Clue Crew stands in front of the Royal Palace in Oslo, Norway.</a>) King Harald V lives here, in Norway's Royal Palace. He and his second cousin, England's Queen Elizabeth, are both great-grandchildren of this British king, who ruled from 1901 to 1910.\n",
      "192966                                                                                                                                                                                                                                                                                                                          England's King _____ _____ R. Luce\n",
      "194516                                                                                                                                                                                                                                                            The \"Monty Python\" member who played King Arthur, he ended his grail quest in Maidstone, England\n",
      "200369                                                                                                                                                                                                                                             8th C. King Offa built a 170-mile north-south dike that still partly marks the border of England & this country\n",
      "Name: Question, dtype: object\n"
     ]
    }
   ],
   "source": [
    "def words_in_questions (df, list):\n",
    "    filter = lambda x: all(word in x for word in list)\n",
    "    return df.loc[df[\"Question\"].apply(filter)]\n",
    "relevant_questions = words_in_questions(jeopardy_data, [\"King\", \"England\"])\n",
    "print(relevant_questions[\"Question\"])\n"
   ]
  },
  {
   "cell_type": "markdown",
   "metadata": {},
   "source": [
    "3. Test your original function with a few different sets of words to try to find some ways your function breaks. Edit your function so it is more robust.\n",
    "\n",
    "   For example, think about capitalization. We probably want to find questions that contain the word `\"King\"` or `\"king\"`.\n",
    "   \n",
    "   You may also want to check to make sure you don't find rows that contain substrings of your given words. For example, our function found a question that didn't contain the word `\"king\"`, however it did contain the word `\"viking\"` &mdash; it found the `\"king\"` inside `\"viking\"`. Note that this also comes with some drawbacks &mdash; you would no longer find questions that contained words like `\"England's\"`."
   ]
  },
  {
   "cell_type": "code",
   "execution_count": 3,
   "metadata": {},
   "outputs": [
    {
     "name": "stdout",
     "output_type": "stream",
     "text": [
      "34                                                                                    Around 100 A.D. Tacitus wrote a book on how this art of persuasive speaking had declined since Cicero\n",
      "40        <a href=\"http://www.j-archive.com/media/2004-12-31_DJ_26.mp3\">Ripped from today's headlines, he was a turtle king gone mad; Mack was the one good turtle who'd bring him down</a>\n",
      "50                      <a href=\"http://www.j-archive.com/media/2004-12-31_DJ_24.mp3\">\"500 Hats\"... 500 ways to die.  On July 4th, this young boy will defy a king... & become a legend</a>\n",
      "56                                                                                                                                           It's the largest kingdom in the United Kingdom\n",
      "72                                                                                              In this kid's game, you bounce a small rubber ball while picking up 6-pronged metal objects\n",
      "                                                                                                ...                                                                                        \n",
      "216777                                                                   The first one of these tombs was built about 2650 B.C. by Imhotep for King Zoser & rose about 200 feet using steps\n",
      "216787                                                                                     A Hoffmann tale title lost the words \"And The Mouse King\" when it became this Tchaikovsky ballet\n",
      "216789                                                                                   This kingdom of England grew from 2 settlements, one founded around 495 by Cerdic & his son Cynric\n",
      "216856                                          You can cook like <a href=\"http://www.j-archive.com/media/2007-03-23_DJ_24.jpg\" target=\"_blank\">this</a> man who wrote \"The Joy of Wokking\"\n",
      "216916                                                                                                            Oscar Wilde called this 4-letter word \"the curse of the drinking classes\"\n",
      "Name: Question, Length: 7409, dtype: object\n"
     ]
    }
   ],
   "source": [
    "def words_in_questions (df, list):\n",
    "    filter = lambda x: all(word.lower() in x.lower() for word in list)\n",
    "    return df.loc[df[\"Question\"].apply(filter)]\n",
    "relevant_questions = words_in_questions(jeopardy_data, [\"King\"])\n",
    "print(relevant_questions[\"Question\"])"
   ]
  },
  {
   "cell_type": "markdown",
   "metadata": {},
   "source": [
    "4. We may want to eventually compute aggregate statistics, like `.mean()` on the `\" Value\"` column. But right now, the values in that column are strings. Convert the`\" Value\"` column to floats. If you'd like to, you can create a new column with float values.\n",
    "\n",
    "   Now that you can filter the dataset of question, use your new column that contains the float values of each question to find the \"difficulty\" of certain topics. For example, what is the average value of questions that contain the word `\"King\"`?\n",
    "   \n",
    "   Make sure to use the dataset that contains the float values as the dataset you use in your filtering function."
   ]
  },
  {
   "cell_type": "code",
   "execution_count": 4,
   "metadata": {
    "scrolled": true
   },
   "outputs": [
    {
     "name": "stdout",
     "output_type": "stream",
     "text": [
      "0          200.0\n",
      "1          200.0\n",
      "2          200.0\n",
      "3          200.0\n",
      "4          200.0\n",
      "           ...  \n",
      "216925    2000.0\n",
      "216926    2000.0\n",
      "216927    2000.0\n",
      "216928    2000.0\n",
      "216929       0.0\n",
      "Name: Float Value, Length: 216930, dtype: float64\n",
      "The mean question value in the dataset is $739.99\n",
      "The mean value of questions including \"King\" is $771.88\n"
     ]
    }
   ],
   "source": [
    "jeopardy_data[\"Float Value\"] = jeopardy_data[\"Value\"].apply(lambda x: x.replace('$', ''))\\\n",
    "                                                        .apply(lambda x: x.replace(',', ''))\\\n",
    "                                                        .apply(lambda x: x.replace('None', '0'))\\\n",
    "                                                        .apply(lambda x: float(x))\n",
    "                                                                                        \n",
    "print(jeopardy_data[\"Float Value\"])\n",
    "print(\"The mean question value in the dataset is $\" + str(round(jeopardy_data[\"Float Value\"].mean(), 2)))\n",
    "\n",
    "relevant_questions = words_in_questions(jeopardy_data, [\"King\"])\n",
    "average_value_of_king_question = round(relevant_questions[\"Float Value\"].mean(), 2)\n",
    "print(\"The mean value of questions including \\\"King\\\" is $\" + str(average_value_of_king_question))"
   ]
  },
  {
   "cell_type": "markdown",
   "metadata": {},
   "source": [
    "5. Write a function that returns the count of unique answers to all of the questions in a dataset. For example, after filtering the entire dataset to only questions containing the word `\"King\"`, we could then find all of the unique answers to those questions. The answer \"Henry VIII\" appeared 55 times and was the most common answer."
   ]
  },
  {
   "cell_type": "code",
   "execution_count": 5,
   "metadata": {},
   "outputs": [
    {
     "data": {
      "text/plain": [
       "Henry VIII                   55\n",
       "Solomon                      35\n",
       "Richard III                  33\n",
       "Louis XIV                    31\n",
       "David                        30\n",
       "                             ..\n",
       "cardiac (in card I acted)     1\n",
       "Henderson                     1\n",
       "Computer                      1\n",
       "Indians                       1\n",
       "work                          1\n",
       "Name: Answer, Length: 5268, dtype: int64"
      ]
     },
     "execution_count": 5,
     "metadata": {},
     "output_type": "execute_result"
    }
   ],
   "source": [
    "def unique_count(df):\n",
    "    return df[\"Answer\"].value_counts()\n",
    "\n",
    "unique_count(words_in_questions(jeopardy_data, [\"King\"]))\n"
   ]
  },
  {
   "cell_type": "markdown",
   "metadata": {},
   "source": [
    "6. Explore from here! This is an incredibly rich dataset, and there are so many interesting things to discover. There are a few columns that we haven't even started looking at yet. Here are some ideas on ways to continue working with this data:\n",
    "\n",
    " * Investigate the ways in which questions change over time by filtering by the date. How many questions from the 90s use the word `\"Computer\"` compared to questions from the 2000s?\n",
    " * Is there a connection between the round and the category? Are you more likely to find certain categories, like `\"Literature\"` in Single Jeopardy or Double Jeopardy?\n",
    " * Build a system to quiz yourself. Grab random questions, and use the <a href=\"https://docs.python.org/3/library/functions.html#input\">input</a> function to get a response from the user. Check to see if that response was right or wrong."
   ]
  },
  {
   "cell_type": "markdown",
   "metadata": {},
   "source": [
    "# Figure Out How Many Questions from 1990s use the word \"computer\""
   ]
  },
  {
   "cell_type": "markdown",
   "metadata": {},
   "source": [
    "## Select Only Questions from 1990s"
   ]
  },
  {
   "cell_type": "code",
   "execution_count": 6,
   "metadata": {},
   "outputs": [
    {
     "name": "stdout",
     "output_type": "stream",
     "text": [
      "        Show Number    Air Date             Round  \\\n",
      "148072         1236  1990-01-08         Jeopardy!   \n",
      "148102         1236  1990-01-08  Double Jeopardy!   \n",
      "148103         1236  1990-01-08  Double Jeopardy!   \n",
      "148104         1236  1990-01-08  Double Jeopardy!   \n",
      "148105         1236  1990-01-08  Double Jeopardy!   \n",
      "...             ...         ...               ...   \n",
      "201298         3530  1999-12-31  Double Jeopardy!   \n",
      "201297         3530  1999-12-31  Double Jeopardy!   \n",
      "201296         3530  1999-12-31  Double Jeopardy!   \n",
      "201309         3530  1999-12-31  Double Jeopardy!   \n",
      "201291         3530  1999-12-31         Jeopardy!   \n",
      "\n",
      "                             Category  Value  \\\n",
      "148072               TRAVEL & TOURISM   $400   \n",
      "148102               WORLD LITERATURE  $1000   \n",
      "148103                 ASIAN CAPITALS  $1000   \n",
      "148104         ACTORS & RUSSIAN ROLES  $1000   \n",
      "148105                 NUMBER, PLEASE  $1000   \n",
      "...                               ...    ...   \n",
      "201298  IT'S NOT THE END OF THE WORLD   $200   \n",
      "201297              FILMS OF THE '70s   $200   \n",
      "201296            CROSSWORD CLUES \"S\"   $200   \n",
      "201309              FILMS OF THE '70s   $600   \n",
      "201291                           SONS   $500   \n",
      "\n",
      "                                                                                                                                              Question  \\\n",
      "148072                                                    St. Moritz, where the jet set \"winters\", is in this country, not far from the Italian border   \n",
      "148102                                                                                           The 1st novel in the \"Danzig Trilogy\" by Gunter Grass   \n",
      "148103                                                     In the mid 1800s King Mongkut modernized this capital known as the \"Venice of the Far East\"   \n",
      "148104                                              She was married to Mel Ferrer in real life when she romanced him onscreen in \"War & Peace\" in 1956   \n",
      "148105                                             In the northern U.S. the number of years between appearances of the insects called periodic cicadas   \n",
      "...                                                                                                                                                ...   \n",
      "201298                                                      This leader rebounded from his Gallipoli disaster in WWI to have his \"finest hour\" in WWII   \n",
      "201297                                                                 This 1972 Woody Allen film included clips & music from \"Casablanca\", sweetheart   \n",
      "201296                                                                                                                         Utah lake seasoning (4)   \n",
      "201309  (Hi, I'm Stephen Collins of \"7th Heaven\")  I began my film career playing Hugh Sloan, Richard Nixon's campaign treasurer, in this 1976 classic   \n",
      "201291                                                             In 2 Samuel David laments for him, \"My son, my son...would God I had died for thee\"   \n",
      "\n",
      "                         Answer  Float Value Air Date Datetime  \n",
      "148072              Switzerland        400.0        1990-01-08  \n",
      "148102           \"The Tin Drum\"       1000.0        1990-01-08  \n",
      "148103                  Bangkok       1000.0        1990-01-08  \n",
      "148104           Audrey Hepburn       1000.0        1990-01-08  \n",
      "148105                       17       1000.0        1990-01-08  \n",
      "...                         ...          ...               ...  \n",
      "201298        Winston Churchill        200.0        1999-12-31  \n",
      "201297       Play It Again, Sam        200.0        1999-12-31  \n",
      "201296                     salt        200.0        1999-12-31  \n",
      "201309  All The President's Men        600.0        1999-12-31  \n",
      "201291                  Absalom        500.0        1999-12-31  \n",
      "\n",
      "[56745 rows x 9 columns]\n"
     ]
    }
   ],
   "source": [
    "after_time = datetime.datetime(1990, 1, 1)\n",
    "before_time = datetime.datetime(2000, 1, 1)\n",
    "jeopardy_data[\"Air Date Datetime\"] = pd.to_datetime(jeopardy_data[\"Air Date\"])\n",
    "##print(jeopardy_data[\"Air Date Datetime\"])\n",
    "\n",
    "nineties_jeopardy_questions = jeopardy_data.loc[(jeopardy_data[\"Air Date Datetime\"] > after_time) \\\n",
    "                                            & (jeopardy_data[\"Air Date Datetime\"] < before_time)]\n",
    "nineties_jeopardy_questions_sorted = nineties_jeopardy_questions.sort_values(by=[\"Air Date Datetime\"])\n",
    "print(nineties_jeopardy_questions_sorted)"
   ]
  },
  {
   "cell_type": "markdown",
   "metadata": {},
   "source": [
    "## Use words_in_question function on 1990s Data Set"
   ]
  },
  {
   "cell_type": "code",
   "execution_count": 7,
   "metadata": {},
   "outputs": [
    {
     "name": "stdout",
     "output_type": "stream",
     "text": [
      "There are 98 questions from the 1990s using the word \"computer\".\n"
     ]
    }
   ],
   "source": [
    "computer_1990s_questions = words_in_questions(nineties_jeopardy_questions_sorted, [\"Computer\"])\n",
    "number_of_questions = len(computer_1990s_questions)\n",
    "print(\"There are \" + str(number_of_questions) + \" questions from the 1990s using the word \\\"computer\\\".\")"
   ]
  },
  {
   "cell_type": "markdown",
   "metadata": {},
   "source": [
    "# Figure Out How Many Times \"Literature\" is Double Jeopardy"
   ]
  },
  {
   "cell_type": "code",
   "execution_count": null,
   "metadata": {},
   "outputs": [],
   "source": []
  },
  {
   "cell_type": "markdown",
   "metadata": {},
   "source": [
    "## Solution"
   ]
  },
  {
   "cell_type": "markdown",
   "metadata": {},
   "source": [
    "7. Compare your program to our <a href=\"https://content.codecademy.com/PRO/independent-practice-projects/jeopardy/jeopardy_solution.zip\">sample solution code</a> - remember, that your program might look different from ours (and probably will) and that's okay!"
   ]
  },
  {
   "cell_type": "markdown",
   "metadata": {},
   "source": [
    "8. Great work! Visit <a href=\"https://discuss.codecademy.com/t/this-is-jeopardy-challenge-project-python-pandas/462365\">our forums</a> to compare your project to our sample solution code. You can also learn how to host your own solution on GitHub so you can share it with other learners! Your solution might look different from ours, and that's okay! There are multiple ways to solve these projects, and you'll learn more by seeing others' code."
   ]
  },
  {
   "cell_type": "code",
   "execution_count": 12,
   "metadata": {},
   "outputs": [],
   "source": [
    "!jt -t onedork -fs 95 -tfs 11 -nfs 115 -ofs 11 -cellw 100%  -T"
   ]
  }
 ],
 "metadata": {
  "kernelspec": {
   "display_name": "Python 3 (ipykernel)",
   "language": "python",
   "name": "python3"
  },
  "language_info": {
   "codemirror_mode": {
    "name": "ipython",
    "version": 3
   },
   "file_extension": ".py",
   "mimetype": "text/x-python",
   "name": "python",
   "nbconvert_exporter": "python",
   "pygments_lexer": "ipython3",
   "version": "3.9.12"
  }
 },
 "nbformat": 4,
 "nbformat_minor": 2
}
