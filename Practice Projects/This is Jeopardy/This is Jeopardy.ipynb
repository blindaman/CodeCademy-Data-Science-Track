{
 "cells": [
  {
   "cell_type": "markdown",
   "metadata": {},
   "source": [
    "# This is Jeopardy!"
   ]
  },
  {
   "cell_type": "markdown",
   "metadata": {},
   "source": [
    "#### Overview"
   ]
  },
  {
   "cell_type": "markdown",
   "metadata": {},
   "source": [
    "This project is slightly different than others you have encountered thus far. Instead of a step-by-step tutorial, this project contains a series of open-ended requirements which describe the project you'll be building. There are many possible ways to correctly fulfill all of these requirements, and you should expect to use the internet, Codecademy, and/or other resources when you encounter a problem that you cannot easily solve."
   ]
  },
  {
   "cell_type": "markdown",
   "metadata": {},
   "source": [
    "#### Project Goals"
   ]
  },
  {
   "cell_type": "markdown",
   "metadata": {},
   "source": [
    "You will work to write several functions that investigate a dataset of _Jeopardy!_ questions and answers. Filter the dataset for topics that you're interested in, compute the average difficulty of those questions, and train to become the next Jeopardy champion!"
   ]
  },
  {
   "cell_type": "markdown",
   "metadata": {},
   "source": [
    "## Prerequisites"
   ]
  },
  {
   "cell_type": "markdown",
   "metadata": {},
   "source": [
    "In order to complete this project, you should have completed the Pandas lessons in the <a href=\"https://www.codecademy.com/learn/paths/analyze-data-with-python\">Analyze Data with Python Skill Path</a>. You can also find those lessons in the <a href=\"https://www.codecademy.com/learn/data-processing-pandas\">Data Analysis with Pandas course</a> or the <a href=\"https://www.codecademy.com/learn/paths/data-science/\">Data Scientist Career Path</a>.\n",
    "\n",
    "Finally, the <a href=\"https://www.codecademy.com/learn/practical-data-cleaning\">Practical Data Cleaning</a> course may also be helpful."
   ]
  },
  {
   "cell_type": "markdown",
   "metadata": {},
   "source": [
    "## Project Requirements"
   ]
  },
  {
   "cell_type": "markdown",
   "metadata": {},
   "source": [
    "1. We've provided a csv file containing data about the game show _Jeopardy!_ in a file named `jeopardy.csv`. Load the data into a DataFrame and investigate its contents. Try to print out specific columns.\n",
    "\n",
    "   Note that in order to make this project as \"real-world\" as possible, we haven't modified the data at all - we're giving it to you exactly how we found it. As a result, this data isn't as \"clean\" as the datasets you normally find on Codecademy. More specifically, there's something odd about the column names. After you figure out the problem with the column names, you may want to rename them to make your life easier for the rest of the project.\n",
    "   \n",
    "   In order to display the full contents of a column, we've added this line of code for you:\n",
    "   \n",
    "   ```py\n",
    "   pd.set_option('display.max_colwidth', None)\n",
    "   ```"
   ]
  },
  {
   "cell_type": "code",
   "execution_count": 2,
   "metadata": {},
   "outputs": [
    {
     "name": "stdout",
     "output_type": "stream",
     "text": [
      "Index(['Show Number', ' Air Date', ' Round', ' Category', ' Value',\n",
      "       ' Question', ' Answer'],\n",
      "      dtype='object')\n",
      "Index(['Show Number', 'Air Date', 'Round', 'Category', 'Value', 'Question',\n",
      "       'Answer'],\n",
      "      dtype='object')\n",
      "The dataset has 216930 entries.\n"
     ]
    },
    {
     "data": {
      "text/plain": [
       "Show Number     int64\n",
       "Air Date       object\n",
       "Round          object\n",
       "Category       object\n",
       "Value          object\n",
       "Question       object\n",
       "Answer         object\n",
       "dtype: object"
      ]
     },
     "execution_count": 2,
     "metadata": {},
     "output_type": "execute_result"
    }
   ],
   "source": [
    "import pandas as pd\n",
    "import datetime\n",
    "pd.set_option('display.max_colwidth', None)\n",
    "jeopardy_data = pd.read_csv('jeopardy.csv')\n",
    "print(jeopardy_data.columns)\n",
    "\n",
    "jeopardy_data = jeopardy_data.rename(columns = {' Air Date': 'Air Date', ' Round': 'Round', ' Category': 'Category', \\\n",
    "                                               ' Value' : 'Value', ' Question' : 'Question', ' Answer' : 'Answer'})\n",
    "print(jeopardy_data.columns)\n",
    "\n",
    "print(\"The dataset has \" + str(len(jeopardy_data)) + \" entries.\")\n",
    "\n",
    "jeopardy_data.head()\n",
    "jeopardy_data.dtypes"
   ]
  },
  {
   "cell_type": "markdown",
   "metadata": {},
   "source": [
    "2. Write a function that filters the dataset for questions that contains all of the words in a list of words. For example, when the list `[\"King\", \"England\"]` was passed to our function, the function returned a DataFrame of 49 rows. Every row had the strings `\"King\"` and `\"England\"` somewhere in its `\" Question\"`.\n",
    "\n",
    "   Test your function by printing out the column containing the question of each row of the dataset."
   ]
  },
  {
   "cell_type": "code",
   "execution_count": 3,
   "metadata": {},
   "outputs": [
    {
     "data": {
      "text/plain": [
       "4953                 Both England's King George V & FDR put their stamp of approval on this \"King of Hobbies\"\n",
       "14912       This country's King Louis IV was nicknamed \"Louis From Overseas\" because he was raised in England\n",
       "21511                            this man and his son ruled England following the execution of King Charles I\n",
       "23810    William the Conqueror was crowned King of England in Westminster Abbey on Christmas Day in this year\n",
       "27555                      This member of the Medici family was the mother-in-law of England's King Charles I\n",
       "Name: Question, dtype: object"
      ]
     },
     "execution_count": 3,
     "metadata": {},
     "output_type": "execute_result"
    }
   ],
   "source": [
    "def words_in_questions (df, list):\n",
    "    filter = lambda x: all(word in x for word in list)\n",
    "    return df.loc[df[\"Question\"].apply(filter)]\n",
    "relevant_questions = words_in_questions(jeopardy_data, [\"King\", \"England\"])\n",
    "relevant_questions[\"Question\"].head()\n"
   ]
  },
  {
   "cell_type": "markdown",
   "metadata": {},
   "source": [
    "3. Test your original function with a few different sets of words to try to find some ways your function breaks. Edit your function so it is more robust.\n",
    "\n",
    "   For example, think about capitalization. We probably want to find questions that contain the word `\"King\"` or `\"king\"`.\n",
    "   \n",
    "   You may also want to check to make sure you don't find rows that contain substrings of your given words. For example, our function found a question that didn't contain the word `\"king\"`, however it did contain the word `\"viking\"` &mdash; it found the `\"king\"` inside `\"viking\"`. Note that this also comes with some drawbacks &mdash; you would no longer find questions that contained words like `\"England's\"`."
   ]
  },
  {
   "cell_type": "code",
   "execution_count": 4,
   "metadata": {},
   "outputs": [
    {
     "data": {
      "text/html": [
       "<div>\n",
       "<style scoped>\n",
       "    .dataframe tbody tr th:only-of-type {\n",
       "        vertical-align: middle;\n",
       "    }\n",
       "\n",
       "    .dataframe tbody tr th {\n",
       "        vertical-align: top;\n",
       "    }\n",
       "\n",
       "    .dataframe thead th {\n",
       "        text-align: right;\n",
       "    }\n",
       "</style>\n",
       "<table border=\"1\" class=\"dataframe\">\n",
       "  <thead>\n",
       "    <tr style=\"text-align: right;\">\n",
       "      <th></th>\n",
       "      <th>Show Number</th>\n",
       "      <th>Air Date</th>\n",
       "      <th>Round</th>\n",
       "      <th>Category</th>\n",
       "      <th>Value</th>\n",
       "      <th>Question</th>\n",
       "      <th>Answer</th>\n",
       "    </tr>\n",
       "  </thead>\n",
       "  <tbody>\n",
       "    <tr>\n",
       "      <th>34</th>\n",
       "      <td>4680</td>\n",
       "      <td>2004-12-31</td>\n",
       "      <td>Double Jeopardy!</td>\n",
       "      <td>\"X\"s &amp; \"O\"s</td>\n",
       "      <td>$400</td>\n",
       "      <td>Around 100 A.D. Tacitus wrote a book on how this art of persuasive speaking had declined since Cicero</td>\n",
       "      <td>oratory</td>\n",
       "    </tr>\n",
       "    <tr>\n",
       "      <th>40</th>\n",
       "      <td>4680</td>\n",
       "      <td>2004-12-31</td>\n",
       "      <td>Double Jeopardy!</td>\n",
       "      <td>DR. SEUSS AT THE MULTIPLEX</td>\n",
       "      <td>$1200</td>\n",
       "      <td>&lt;a href=\"http://www.j-archive.com/media/2004-12-31_DJ_26.mp3\"&gt;Ripped from today's headlines, he was a turtle king gone mad; Mack was the one good turtle who'd bring him down&lt;/a&gt;</td>\n",
       "      <td>Yertle</td>\n",
       "    </tr>\n",
       "    <tr>\n",
       "      <th>50</th>\n",
       "      <td>4680</td>\n",
       "      <td>2004-12-31</td>\n",
       "      <td>Double Jeopardy!</td>\n",
       "      <td>DR. SEUSS AT THE MULTIPLEX</td>\n",
       "      <td>$2000</td>\n",
       "      <td>&lt;a href=\"http://www.j-archive.com/media/2004-12-31_DJ_24.mp3\"&gt;\"500 Hats\"... 500 ways to die.  On July 4th, this young boy will defy a king... &amp; become a legend&lt;/a&gt;</td>\n",
       "      <td>Bartholomew Cubbins</td>\n",
       "    </tr>\n",
       "    <tr>\n",
       "      <th>56</th>\n",
       "      <td>5957</td>\n",
       "      <td>2010-07-06</td>\n",
       "      <td>Jeopardy!</td>\n",
       "      <td>GEOGRAPHY \"E\"</td>\n",
       "      <td>$200</td>\n",
       "      <td>It's the largest kingdom in the United Kingdom</td>\n",
       "      <td>England</td>\n",
       "    </tr>\n",
       "    <tr>\n",
       "      <th>72</th>\n",
       "      <td>5957</td>\n",
       "      <td>2010-07-06</td>\n",
       "      <td>Jeopardy!</td>\n",
       "      <td>LET'S BOUNCE</td>\n",
       "      <td>$600</td>\n",
       "      <td>In this kid's game, you bounce a small rubber ball while picking up 6-pronged metal objects</td>\n",
       "      <td>jacks</td>\n",
       "    </tr>\n",
       "  </tbody>\n",
       "</table>\n",
       "</div>"
      ],
      "text/plain": [
       "    Show Number    Air Date             Round                    Category  \\\n",
       "34         4680  2004-12-31  Double Jeopardy!                 \"X\"s & \"O\"s   \n",
       "40         4680  2004-12-31  Double Jeopardy!  DR. SEUSS AT THE MULTIPLEX   \n",
       "50         4680  2004-12-31  Double Jeopardy!  DR. SEUSS AT THE MULTIPLEX   \n",
       "56         5957  2010-07-06         Jeopardy!               GEOGRAPHY \"E\"   \n",
       "72         5957  2010-07-06         Jeopardy!                LET'S BOUNCE   \n",
       "\n",
       "    Value  \\\n",
       "34   $400   \n",
       "40  $1200   \n",
       "50  $2000   \n",
       "56   $200   \n",
       "72   $600   \n",
       "\n",
       "                                                                                                                                                                             Question  \\\n",
       "34                                                                              Around 100 A.D. Tacitus wrote a book on how this art of persuasive speaking had declined since Cicero   \n",
       "40  <a href=\"http://www.j-archive.com/media/2004-12-31_DJ_26.mp3\">Ripped from today's headlines, he was a turtle king gone mad; Mack was the one good turtle who'd bring him down</a>   \n",
       "50                <a href=\"http://www.j-archive.com/media/2004-12-31_DJ_24.mp3\">\"500 Hats\"... 500 ways to die.  On July 4th, this young boy will defy a king... & become a legend</a>   \n",
       "56                                                                                                                                     It's the largest kingdom in the United Kingdom   \n",
       "72                                                                                        In this kid's game, you bounce a small rubber ball while picking up 6-pronged metal objects   \n",
       "\n",
       "                 Answer  \n",
       "34              oratory  \n",
       "40               Yertle  \n",
       "50  Bartholomew Cubbins  \n",
       "56              England  \n",
       "72                jacks  "
      ]
     },
     "execution_count": 4,
     "metadata": {},
     "output_type": "execute_result"
    }
   ],
   "source": [
    "def words_in_questions (df, list):\n",
    "    filter = lambda x: all(word.lower() in x.lower() for word in list)\n",
    "    return df.loc[df[\"Question\"].apply(filter)]\n",
    "relevant_questions = words_in_questions(jeopardy_data, [\"King\"])\n",
    "relevant_questions.head()"
   ]
  },
  {
   "cell_type": "markdown",
   "metadata": {},
   "source": [
    "4. We may want to eventually compute aggregate statistics, like `.mean()` on the `\" Value\"` column. But right now, the values in that column are strings. Convert the`\" Value\"` column to floats. If you'd like to, you can create a new column with float values.\n",
    "\n",
    "   Now that you can filter the dataset of question, use your new column that contains the float values of each question to find the \"difficulty\" of certain topics. For example, what is the average value of questions that contain the word `\"King\"`?\n",
    "   \n",
    "   Make sure to use the dataset that contains the float values as the dataset you use in your filtering function."
   ]
  },
  {
   "cell_type": "code",
   "execution_count": 13,
   "metadata": {
    "scrolled": true
   },
   "outputs": [
    {
     "name": "stdout",
     "output_type": "stream",
     "text": [
      "The mean value of all questions in the dataset is $739.99\n",
      "The mean value of questions including \"King\" is $771.88\n"
     ]
    },
    {
     "data": {
      "text/html": [
       "<div>\n",
       "<style scoped>\n",
       "    .dataframe tbody tr th:only-of-type {\n",
       "        vertical-align: middle;\n",
       "    }\n",
       "\n",
       "    .dataframe tbody tr th {\n",
       "        vertical-align: top;\n",
       "    }\n",
       "\n",
       "    .dataframe thead th {\n",
       "        text-align: right;\n",
       "    }\n",
       "</style>\n",
       "<table border=\"1\" class=\"dataframe\">\n",
       "  <thead>\n",
       "    <tr style=\"text-align: right;\">\n",
       "      <th></th>\n",
       "      <th>Show Number</th>\n",
       "      <th>Air Date</th>\n",
       "      <th>Round</th>\n",
       "      <th>Category</th>\n",
       "      <th>Value</th>\n",
       "      <th>Question</th>\n",
       "      <th>Answer</th>\n",
       "      <th>Float Value</th>\n",
       "      <th>Air Date Datetime</th>\n",
       "    </tr>\n",
       "  </thead>\n",
       "  <tbody>\n",
       "    <tr>\n",
       "      <th>0</th>\n",
       "      <td>4680</td>\n",
       "      <td>2004-12-31</td>\n",
       "      <td>Jeopardy!</td>\n",
       "      <td>HISTORY</td>\n",
       "      <td>$200</td>\n",
       "      <td>For the last 8 years of his life, Galileo was under house arrest for espousing this man's theory</td>\n",
       "      <td>Copernicus</td>\n",
       "      <td>200.0</td>\n",
       "      <td>2004-12-31</td>\n",
       "    </tr>\n",
       "    <tr>\n",
       "      <th>1</th>\n",
       "      <td>4680</td>\n",
       "      <td>2004-12-31</td>\n",
       "      <td>Jeopardy!</td>\n",
       "      <td>ESPN's TOP 10 ALL-TIME ATHLETES</td>\n",
       "      <td>$200</td>\n",
       "      <td>No. 2: 1912 Olympian; football star at Carlisle Indian School; 6 MLB seasons with the Reds, Giants &amp; Braves</td>\n",
       "      <td>Jim Thorpe</td>\n",
       "      <td>200.0</td>\n",
       "      <td>2004-12-31</td>\n",
       "    </tr>\n",
       "    <tr>\n",
       "      <th>2</th>\n",
       "      <td>4680</td>\n",
       "      <td>2004-12-31</td>\n",
       "      <td>Jeopardy!</td>\n",
       "      <td>EVERYBODY TALKS ABOUT IT...</td>\n",
       "      <td>$200</td>\n",
       "      <td>The city of Yuma in this state has a record average of 4,055 hours of sunshine each year</td>\n",
       "      <td>Arizona</td>\n",
       "      <td>200.0</td>\n",
       "      <td>2004-12-31</td>\n",
       "    </tr>\n",
       "    <tr>\n",
       "      <th>3</th>\n",
       "      <td>4680</td>\n",
       "      <td>2004-12-31</td>\n",
       "      <td>Jeopardy!</td>\n",
       "      <td>THE COMPANY LINE</td>\n",
       "      <td>$200</td>\n",
       "      <td>In 1963, live on \"The Art Linkletter Show\", this company served its billionth burger</td>\n",
       "      <td>McDonald's</td>\n",
       "      <td>200.0</td>\n",
       "      <td>2004-12-31</td>\n",
       "    </tr>\n",
       "    <tr>\n",
       "      <th>4</th>\n",
       "      <td>4680</td>\n",
       "      <td>2004-12-31</td>\n",
       "      <td>Jeopardy!</td>\n",
       "      <td>EPITAPHS &amp; TRIBUTES</td>\n",
       "      <td>$200</td>\n",
       "      <td>Signer of the Dec. of Indep., framer of the Constitution of Mass., second President of the United States</td>\n",
       "      <td>John Adams</td>\n",
       "      <td>200.0</td>\n",
       "      <td>2004-12-31</td>\n",
       "    </tr>\n",
       "  </tbody>\n",
       "</table>\n",
       "</div>"
      ],
      "text/plain": [
       "   Show Number    Air Date      Round                         Category Value  \\\n",
       "0         4680  2004-12-31  Jeopardy!                          HISTORY  $200   \n",
       "1         4680  2004-12-31  Jeopardy!  ESPN's TOP 10 ALL-TIME ATHLETES  $200   \n",
       "2         4680  2004-12-31  Jeopardy!      EVERYBODY TALKS ABOUT IT...  $200   \n",
       "3         4680  2004-12-31  Jeopardy!                 THE COMPANY LINE  $200   \n",
       "4         4680  2004-12-31  Jeopardy!              EPITAPHS & TRIBUTES  $200   \n",
       "\n",
       "                                                                                                      Question  \\\n",
       "0             For the last 8 years of his life, Galileo was under house arrest for espousing this man's theory   \n",
       "1  No. 2: 1912 Olympian; football star at Carlisle Indian School; 6 MLB seasons with the Reds, Giants & Braves   \n",
       "2                     The city of Yuma in this state has a record average of 4,055 hours of sunshine each year   \n",
       "3                         In 1963, live on \"The Art Linkletter Show\", this company served its billionth burger   \n",
       "4     Signer of the Dec. of Indep., framer of the Constitution of Mass., second President of the United States   \n",
       "\n",
       "       Answer  Float Value Air Date Datetime  \n",
       "0  Copernicus        200.0        2004-12-31  \n",
       "1  Jim Thorpe        200.0        2004-12-31  \n",
       "2     Arizona        200.0        2004-12-31  \n",
       "3  McDonald's        200.0        2004-12-31  \n",
       "4  John Adams        200.0        2004-12-31  "
      ]
     },
     "execution_count": 13,
     "metadata": {},
     "output_type": "execute_result"
    }
   ],
   "source": [
    "jeopardy_data[\"Float Value\"] = jeopardy_data[\"Value\"].apply(lambda x: x.replace('$', ''))\\\n",
    "                                                        .apply(lambda x: x.replace(',', ''))\\\n",
    "                                                        .apply(lambda x: x.replace('None', '0'))\\\n",
    "                                                        .apply(lambda x: float(x))\n",
    "                                                                                        \n",
    "\n",
    "print(\"The mean value of all questions in the dataset is $\" + str(round(jeopardy_data[\"Float Value\"].mean(), 2)))\n",
    "\n",
    "relevant_questions = words_in_questions(jeopardy_data, [\"King\"])\n",
    "average_value_of_king_question = round(relevant_questions[\"Float Value\"].mean(), 2)\n",
    "print(\"The mean value of questions including \\\"King\\\" is $\" + str(average_value_of_king_question))\n",
    "jeopardy_data.head()"
   ]
  },
  {
   "cell_type": "markdown",
   "metadata": {},
   "source": [
    "5. Write a function that returns the count of unique answers to all of the questions in a dataset. For example, after filtering the entire dataset to only questions containing the word `\"King\"`, we could then find all of the unique answers to those questions. The answer \"Henry VIII\" appeared 55 times and was the most common answer."
   ]
  },
  {
   "cell_type": "code",
   "execution_count": 6,
   "metadata": {},
   "outputs": [
    {
     "data": {
      "text/plain": [
       "Henry VIII                   55\n",
       "Solomon                      35\n",
       "Richard III                  33\n",
       "Louis XIV                    31\n",
       "David                        30\n",
       "                             ..\n",
       "cardiac (in card I acted)     1\n",
       "Henderson                     1\n",
       "Computer                      1\n",
       "Indians                       1\n",
       "work                          1\n",
       "Name: Answer, Length: 5268, dtype: int64"
      ]
     },
     "execution_count": 6,
     "metadata": {},
     "output_type": "execute_result"
    }
   ],
   "source": [
    "def unique_count(df):\n",
    "    return df[\"Answer\"].value_counts()\n",
    "\n",
    "unique_count(words_in_questions(jeopardy_data, [\"King\"]))\n"
   ]
  },
  {
   "cell_type": "markdown",
   "metadata": {},
   "source": [
    "6. Explore from here! This is an incredibly rich dataset, and there are so many interesting things to discover. There are a few columns that we haven't even started looking at yet. Here are some ideas on ways to continue working with this data:\n",
    "\n",
    " * Investigate the ways in which questions change over time by filtering by the date. How many questions from the 90s use the word `\"Computer\"` compared to questions from the 2000s?\n",
    " * Is there a connection between the round and the category? Are you more likely to find certain categories, like `\"Literature\"` in Single Jeopardy or Double Jeopardy?\n",
    " * Build a system to quiz yourself. Grab random questions, and use the <a href=\"https://docs.python.org/3/library/functions.html#input\">input</a> function to get a response from the user. Check to see if that response was right or wrong."
   ]
  },
  {
   "cell_type": "markdown",
   "metadata": {},
   "source": [
    "# Figure Out How Many Questions from 1990s use the word \"computer\""
   ]
  },
  {
   "cell_type": "markdown",
   "metadata": {},
   "source": [
    "## Select Only Questions from 1990s"
   ]
  },
  {
   "cell_type": "code",
   "execution_count": 7,
   "metadata": {},
   "outputs": [
    {
     "data": {
      "text/html": [
       "<div>\n",
       "<style scoped>\n",
       "    .dataframe tbody tr th:only-of-type {\n",
       "        vertical-align: middle;\n",
       "    }\n",
       "\n",
       "    .dataframe tbody tr th {\n",
       "        vertical-align: top;\n",
       "    }\n",
       "\n",
       "    .dataframe thead th {\n",
       "        text-align: right;\n",
       "    }\n",
       "</style>\n",
       "<table border=\"1\" class=\"dataframe\">\n",
       "  <thead>\n",
       "    <tr style=\"text-align: right;\">\n",
       "      <th></th>\n",
       "      <th>Show Number</th>\n",
       "      <th>Air Date</th>\n",
       "      <th>Round</th>\n",
       "      <th>Category</th>\n",
       "      <th>Value</th>\n",
       "      <th>Question</th>\n",
       "      <th>Answer</th>\n",
       "      <th>Float Value</th>\n",
       "      <th>Air Date Datetime</th>\n",
       "    </tr>\n",
       "  </thead>\n",
       "  <tbody>\n",
       "    <tr>\n",
       "      <th>148072</th>\n",
       "      <td>1236</td>\n",
       "      <td>1990-01-08</td>\n",
       "      <td>Jeopardy!</td>\n",
       "      <td>TRAVEL &amp; TOURISM</td>\n",
       "      <td>$400</td>\n",
       "      <td>St. Moritz, where the jet set \"winters\", is in this country, not far from the Italian border</td>\n",
       "      <td>Switzerland</td>\n",
       "      <td>400.0</td>\n",
       "      <td>1990-01-08</td>\n",
       "    </tr>\n",
       "    <tr>\n",
       "      <th>148102</th>\n",
       "      <td>1236</td>\n",
       "      <td>1990-01-08</td>\n",
       "      <td>Double Jeopardy!</td>\n",
       "      <td>WORLD LITERATURE</td>\n",
       "      <td>$1000</td>\n",
       "      <td>The 1st novel in the \"Danzig Trilogy\" by Gunter Grass</td>\n",
       "      <td>\"The Tin Drum\"</td>\n",
       "      <td>1000.0</td>\n",
       "      <td>1990-01-08</td>\n",
       "    </tr>\n",
       "    <tr>\n",
       "      <th>148103</th>\n",
       "      <td>1236</td>\n",
       "      <td>1990-01-08</td>\n",
       "      <td>Double Jeopardy!</td>\n",
       "      <td>ASIAN CAPITALS</td>\n",
       "      <td>$1000</td>\n",
       "      <td>In the mid 1800s King Mongkut modernized this capital known as the \"Venice of the Far East\"</td>\n",
       "      <td>Bangkok</td>\n",
       "      <td>1000.0</td>\n",
       "      <td>1990-01-08</td>\n",
       "    </tr>\n",
       "    <tr>\n",
       "      <th>148104</th>\n",
       "      <td>1236</td>\n",
       "      <td>1990-01-08</td>\n",
       "      <td>Double Jeopardy!</td>\n",
       "      <td>ACTORS &amp; RUSSIAN ROLES</td>\n",
       "      <td>$1000</td>\n",
       "      <td>She was married to Mel Ferrer in real life when she romanced him onscreen in \"War &amp; Peace\" in 1956</td>\n",
       "      <td>Audrey Hepburn</td>\n",
       "      <td>1000.0</td>\n",
       "      <td>1990-01-08</td>\n",
       "    </tr>\n",
       "    <tr>\n",
       "      <th>148105</th>\n",
       "      <td>1236</td>\n",
       "      <td>1990-01-08</td>\n",
       "      <td>Double Jeopardy!</td>\n",
       "      <td>NUMBER, PLEASE</td>\n",
       "      <td>$1000</td>\n",
       "      <td>In the northern U.S. the number of years between appearances of the insects called periodic cicadas</td>\n",
       "      <td>17</td>\n",
       "      <td>1000.0</td>\n",
       "      <td>1990-01-08</td>\n",
       "    </tr>\n",
       "  </tbody>\n",
       "</table>\n",
       "</div>"
      ],
      "text/plain": [
       "        Show Number    Air Date             Round                Category  \\\n",
       "148072         1236  1990-01-08         Jeopardy!        TRAVEL & TOURISM   \n",
       "148102         1236  1990-01-08  Double Jeopardy!        WORLD LITERATURE   \n",
       "148103         1236  1990-01-08  Double Jeopardy!          ASIAN CAPITALS   \n",
       "148104         1236  1990-01-08  Double Jeopardy!  ACTORS & RUSSIAN ROLES   \n",
       "148105         1236  1990-01-08  Double Jeopardy!          NUMBER, PLEASE   \n",
       "\n",
       "        Value  \\\n",
       "148072   $400   \n",
       "148102  $1000   \n",
       "148103  $1000   \n",
       "148104  $1000   \n",
       "148105  $1000   \n",
       "\n",
       "                                                                                                   Question  \\\n",
       "148072         St. Moritz, where the jet set \"winters\", is in this country, not far from the Italian border   \n",
       "148102                                                The 1st novel in the \"Danzig Trilogy\" by Gunter Grass   \n",
       "148103          In the mid 1800s King Mongkut modernized this capital known as the \"Venice of the Far East\"   \n",
       "148104   She was married to Mel Ferrer in real life when she romanced him onscreen in \"War & Peace\" in 1956   \n",
       "148105  In the northern U.S. the number of years between appearances of the insects called periodic cicadas   \n",
       "\n",
       "                Answer  Float Value Air Date Datetime  \n",
       "148072     Switzerland        400.0        1990-01-08  \n",
       "148102  \"The Tin Drum\"       1000.0        1990-01-08  \n",
       "148103         Bangkok       1000.0        1990-01-08  \n",
       "148104  Audrey Hepburn       1000.0        1990-01-08  \n",
       "148105              17       1000.0        1990-01-08  "
      ]
     },
     "execution_count": 7,
     "metadata": {},
     "output_type": "execute_result"
    }
   ],
   "source": [
    "after_time = datetime.datetime(1990, 1, 1)\n",
    "before_time = datetime.datetime(2000, 1, 1)\n",
    "jeopardy_data[\"Air Date Datetime\"] = pd.to_datetime(jeopardy_data[\"Air Date\"])\n",
    "##print(jeopardy_data[\"Air Date Datetime\"])\n",
    "\n",
    "nineties_jeopardy_questions = jeopardy_data[(jeopardy_data[\"Air Date Datetime\"] > after_time) \\\n",
    "                                            & (jeopardy_data[\"Air Date Datetime\"] < before_time)]\n",
    "nineties_jeopardy_questions_sorted = nineties_jeopardy_questions.sort_values(by=[\"Air Date Datetime\"])\n",
    "nineties_jeopardy_questions_sorted.head()"
   ]
  },
  {
   "cell_type": "markdown",
   "metadata": {},
   "source": [
    "## Use words_in_question function on 1990s Data Set"
   ]
  },
  {
   "cell_type": "code",
   "execution_count": 8,
   "metadata": {},
   "outputs": [
    {
     "name": "stdout",
     "output_type": "stream",
     "text": [
      "There are 98 questions from the 1990s using the word \"computer\".\n"
     ]
    }
   ],
   "source": [
    "computer_1990s_questions = words_in_questions(nineties_jeopardy_questions_sorted, [\"Computer\"])\n",
    "number_of_questions = len(computer_1990s_questions)\n",
    "print(\"There are \" + str(number_of_questions) + \" questions from the 1990s using the word \\\"computer\\\".\")"
   ]
  },
  {
   "cell_type": "markdown",
   "metadata": {},
   "source": [
    "# \"Literature\" in Double Jeopardy Analysis"
   ]
  },
  {
   "cell_type": "markdown",
   "metadata": {},
   "source": [
    "## Figure Out How Many Rows are Double Jeopardy"
   ]
  },
  {
   "cell_type": "code",
   "execution_count": 9,
   "metadata": {},
   "outputs": [
    {
     "data": {
      "text/html": [
       "<div>\n",
       "<style scoped>\n",
       "    .dataframe tbody tr th:only-of-type {\n",
       "        vertical-align: middle;\n",
       "    }\n",
       "\n",
       "    .dataframe tbody tr th {\n",
       "        vertical-align: top;\n",
       "    }\n",
       "\n",
       "    .dataframe thead th {\n",
       "        text-align: right;\n",
       "    }\n",
       "</style>\n",
       "<table border=\"1\" class=\"dataframe\">\n",
       "  <thead>\n",
       "    <tr style=\"text-align: right;\">\n",
       "      <th></th>\n",
       "      <th>Show Number</th>\n",
       "      <th>Air Date</th>\n",
       "      <th>Round</th>\n",
       "      <th>Category</th>\n",
       "      <th>Value</th>\n",
       "      <th>Question</th>\n",
       "      <th>Answer</th>\n",
       "      <th>Float Value</th>\n",
       "      <th>Air Date Datetime</th>\n",
       "    </tr>\n",
       "  </thead>\n",
       "  <tbody>\n",
       "    <tr>\n",
       "      <th>29</th>\n",
       "      <td>4680</td>\n",
       "      <td>2004-12-31</td>\n",
       "      <td>Double Jeopardy!</td>\n",
       "      <td>DR. SEUSS AT THE MULTIPLEX</td>\n",
       "      <td>$400</td>\n",
       "      <td>&lt;a href=\"http://www.j-archive.com/media/2004-12-31_DJ_23.mp3\"&gt;Beyond ovoid abandonment, beyond ovoid betrayal... you won't believe the ending when he \"Hatches the Egg\"&lt;/a&gt;</td>\n",
       "      <td>Horton</td>\n",
       "      <td>400.0</td>\n",
       "      <td>2004-12-31</td>\n",
       "    </tr>\n",
       "    <tr>\n",
       "      <th>30</th>\n",
       "      <td>4680</td>\n",
       "      <td>2004-12-31</td>\n",
       "      <td>Double Jeopardy!</td>\n",
       "      <td>PRESIDENTIAL STATES OF BIRTH</td>\n",
       "      <td>$400</td>\n",
       "      <td>California</td>\n",
       "      <td>Nixon</td>\n",
       "      <td>400.0</td>\n",
       "      <td>2004-12-31</td>\n",
       "    </tr>\n",
       "    <tr>\n",
       "      <th>31</th>\n",
       "      <td>4680</td>\n",
       "      <td>2004-12-31</td>\n",
       "      <td>Double Jeopardy!</td>\n",
       "      <td>AIRLINE TRAVEL</td>\n",
       "      <td>$400</td>\n",
       "      <td>It can be a place to leave your puppy when you take a trip, or a carrier for him that fits under an airplane seat</td>\n",
       "      <td>a kennel</td>\n",
       "      <td>400.0</td>\n",
       "      <td>2004-12-31</td>\n",
       "    </tr>\n",
       "    <tr>\n",
       "      <th>32</th>\n",
       "      <td>4680</td>\n",
       "      <td>2004-12-31</td>\n",
       "      <td>Double Jeopardy!</td>\n",
       "      <td>THAT OLD-TIME RELIGION</td>\n",
       "      <td>$400</td>\n",
       "      <td>He's considered the author of the Pentateuch, which is hard to believe, as Deuteronomy continues after his death</td>\n",
       "      <td>Moses</td>\n",
       "      <td>400.0</td>\n",
       "      <td>2004-12-31</td>\n",
       "    </tr>\n",
       "    <tr>\n",
       "      <th>33</th>\n",
       "      <td>4680</td>\n",
       "      <td>2004-12-31</td>\n",
       "      <td>Double Jeopardy!</td>\n",
       "      <td>MUSICAL TRAINS</td>\n",
       "      <td>$400</td>\n",
       "      <td>Steven Tyler of this band lent his steamin' vocals to \"Train Kept A-Rollin'\", first popularized by the Yardbirds</td>\n",
       "      <td>Aerosmith</td>\n",
       "      <td>400.0</td>\n",
       "      <td>2004-12-31</td>\n",
       "    </tr>\n",
       "  </tbody>\n",
       "</table>\n",
       "</div>"
      ],
      "text/plain": [
       "    Show Number    Air Date             Round                      Category  \\\n",
       "29         4680  2004-12-31  Double Jeopardy!    DR. SEUSS AT THE MULTIPLEX   \n",
       "30         4680  2004-12-31  Double Jeopardy!  PRESIDENTIAL STATES OF BIRTH   \n",
       "31         4680  2004-12-31  Double Jeopardy!                AIRLINE TRAVEL   \n",
       "32         4680  2004-12-31  Double Jeopardy!        THAT OLD-TIME RELIGION   \n",
       "33         4680  2004-12-31  Double Jeopardy!                MUSICAL TRAINS   \n",
       "\n",
       "   Value  \\\n",
       "29  $400   \n",
       "30  $400   \n",
       "31  $400   \n",
       "32  $400   \n",
       "33  $400   \n",
       "\n",
       "                                                                                                                                                                       Question  \\\n",
       "29  <a href=\"http://www.j-archive.com/media/2004-12-31_DJ_23.mp3\">Beyond ovoid abandonment, beyond ovoid betrayal... you won't believe the ending when he \"Hatches the Egg\"</a>   \n",
       "30                                                                                                                                                                   California   \n",
       "31                                                            It can be a place to leave your puppy when you take a trip, or a carrier for him that fits under an airplane seat   \n",
       "32                                                             He's considered the author of the Pentateuch, which is hard to believe, as Deuteronomy continues after his death   \n",
       "33                                                             Steven Tyler of this band lent his steamin' vocals to \"Train Kept A-Rollin'\", first popularized by the Yardbirds   \n",
       "\n",
       "       Answer  Float Value Air Date Datetime  \n",
       "29     Horton        400.0        2004-12-31  \n",
       "30      Nixon        400.0        2004-12-31  \n",
       "31   a kennel        400.0        2004-12-31  \n",
       "32      Moses        400.0        2004-12-31  \n",
       "33  Aerosmith        400.0        2004-12-31  "
      ]
     },
     "execution_count": 9,
     "metadata": {},
     "output_type": "execute_result"
    }
   ],
   "source": [
    "Double_Jeopardy_Category = jeopardy_data.loc[jeopardy_data[\"Round\"].str.contains(\"Double Jeopardy!\")]\n",
    "Double_Jeopardy_Category.head()"
   ]
  },
  {
   "cell_type": "markdown",
   "metadata": {},
   "source": [
    "## Figure Out How Many Double Jeopardy Rows Contain \"LITERATURE\" in Category"
   ]
  },
  {
   "cell_type": "code",
   "execution_count": 10,
   "metadata": {},
   "outputs": [
    {
     "name": "stdout",
     "output_type": "stream",
     "text": [
      "There are 1054 questions with \"LITERATURE\" in the category.\n"
     ]
    },
    {
     "data": {
      "text/html": [
       "<div>\n",
       "<style scoped>\n",
       "    .dataframe tbody tr th:only-of-type {\n",
       "        vertical-align: middle;\n",
       "    }\n",
       "\n",
       "    .dataframe tbody tr th {\n",
       "        vertical-align: top;\n",
       "    }\n",
       "\n",
       "    .dataframe thead th {\n",
       "        text-align: right;\n",
       "    }\n",
       "</style>\n",
       "<table border=\"1\" class=\"dataframe\">\n",
       "  <thead>\n",
       "    <tr style=\"text-align: right;\">\n",
       "      <th></th>\n",
       "      <th>Show Number</th>\n",
       "      <th>Air Date</th>\n",
       "      <th>Round</th>\n",
       "      <th>Category</th>\n",
       "      <th>Value</th>\n",
       "      <th>Question</th>\n",
       "      <th>Answer</th>\n",
       "      <th>Float Value</th>\n",
       "      <th>Air Date Datetime</th>\n",
       "    </tr>\n",
       "  </thead>\n",
       "  <tbody>\n",
       "    <tr>\n",
       "      <th>2060</th>\n",
       "      <td>1800</td>\n",
       "      <td>1992-05-29</td>\n",
       "      <td>Double Jeopardy!</td>\n",
       "      <td>CHILDREN'S  LITERATURE</td>\n",
       "      <td>$200</td>\n",
       "      <td>In one Grimm tale, 12 princesses dance these to pieces in an underground castle</td>\n",
       "      <td>their shoes</td>\n",
       "      <td>200.0</td>\n",
       "      <td>1992-05-29</td>\n",
       "    </tr>\n",
       "    <tr>\n",
       "      <th>2066</th>\n",
       "      <td>1800</td>\n",
       "      <td>1992-05-29</td>\n",
       "      <td>Double Jeopardy!</td>\n",
       "      <td>CHILDREN'S  LITERATURE</td>\n",
       "      <td>$400</td>\n",
       "      <td>Anne Shirley leaves the orphanage to live on this \"colorful\" farm in Avonlea</td>\n",
       "      <td>Green Gables</td>\n",
       "      <td>400.0</td>\n",
       "      <td>1992-05-29</td>\n",
       "    </tr>\n",
       "    <tr>\n",
       "      <th>2072</th>\n",
       "      <td>1800</td>\n",
       "      <td>1992-05-29</td>\n",
       "      <td>Double Jeopardy!</td>\n",
       "      <td>CHILDREN'S  LITERATURE</td>\n",
       "      <td>$600</td>\n",
       "      <td>\"The Comic Adventures of\" this elderly woman \"and her Dog\" were first published in 1805</td>\n",
       "      <td>Old Mother Hubbard</td>\n",
       "      <td>600.0</td>\n",
       "      <td>1992-05-29</td>\n",
       "    </tr>\n",
       "    <tr>\n",
       "      <th>2078</th>\n",
       "      <td>1800</td>\n",
       "      <td>1992-05-29</td>\n",
       "      <td>Double Jeopardy!</td>\n",
       "      <td>CHILDREN'S  LITERATURE</td>\n",
       "      <td>$800</td>\n",
       "      <td>Dinarzade is the younger sister of this woman known for her nocturnal stories</td>\n",
       "      <td>Shahrazad</td>\n",
       "      <td>800.0</td>\n",
       "      <td>1992-05-29</td>\n",
       "    </tr>\n",
       "    <tr>\n",
       "      <th>2084</th>\n",
       "      <td>1800</td>\n",
       "      <td>1992-05-29</td>\n",
       "      <td>Double Jeopardy!</td>\n",
       "      <td>CHILDREN'S  LITERATURE</td>\n",
       "      <td>$1000</td>\n",
       "      <td>Madeline is one of \"twelve little girls in two straight lines\" who attend a school in this city</td>\n",
       "      <td>Paris</td>\n",
       "      <td>1000.0</td>\n",
       "      <td>1992-05-29</td>\n",
       "    </tr>\n",
       "  </tbody>\n",
       "</table>\n",
       "</div>"
      ],
      "text/plain": [
       "      Show Number    Air Date             Round                Category  \\\n",
       "2060         1800  1992-05-29  Double Jeopardy!  CHILDREN'S  LITERATURE   \n",
       "2066         1800  1992-05-29  Double Jeopardy!  CHILDREN'S  LITERATURE   \n",
       "2072         1800  1992-05-29  Double Jeopardy!  CHILDREN'S  LITERATURE   \n",
       "2078         1800  1992-05-29  Double Jeopardy!  CHILDREN'S  LITERATURE   \n",
       "2084         1800  1992-05-29  Double Jeopardy!  CHILDREN'S  LITERATURE   \n",
       "\n",
       "      Value  \\\n",
       "2060   $200   \n",
       "2066   $400   \n",
       "2072   $600   \n",
       "2078   $800   \n",
       "2084  $1000   \n",
       "\n",
       "                                                                                             Question  \\\n",
       "2060                  In one Grimm tale, 12 princesses dance these to pieces in an underground castle   \n",
       "2066                     Anne Shirley leaves the orphanage to live on this \"colorful\" farm in Avonlea   \n",
       "2072          \"The Comic Adventures of\" this elderly woman \"and her Dog\" were first published in 1805   \n",
       "2078                    Dinarzade is the younger sister of this woman known for her nocturnal stories   \n",
       "2084  Madeline is one of \"twelve little girls in two straight lines\" who attend a school in this city   \n",
       "\n",
       "                  Answer  Float Value Air Date Datetime  \n",
       "2060         their shoes        200.0        1992-05-29  \n",
       "2066        Green Gables        400.0        1992-05-29  \n",
       "2072  Old Mother Hubbard        600.0        1992-05-29  \n",
       "2078           Shahrazad        800.0        1992-05-29  \n",
       "2084               Paris       1000.0        1992-05-29  "
      ]
     },
     "execution_count": 10,
     "metadata": {},
     "output_type": "execute_result"
    }
   ],
   "source": [
    "Double_Jeopardy_Literature_Contains = Double_Jeopardy_Category[Double_Jeopardy_Category[\"Category\"].str.contains(\"LITERATURE\")]\n",
    "\n",
    "print(\"There are \" + str(len(Double_Jeopardy_Literature_Contains)) + \" questions with \\\"LITERATURE\\\" in the category.\")\n",
    "Double_Jeopardy_Literature_Contains.head()"
   ]
  },
  {
   "cell_type": "markdown",
   "metadata": {},
   "source": [
    "## Figure Out How Many Double Jeopardy Rows Contain Exactly \"LITERATURE\" in Category"
   ]
  },
  {
   "cell_type": "code",
   "execution_count": 11,
   "metadata": {},
   "outputs": [
    {
     "name": "stdout",
     "output_type": "stream",
     "text": [
      "There are 381 questions with exactly \"LITERATURE\" in the category.\n"
     ]
    },
    {
     "data": {
      "text/html": [
       "<div>\n",
       "<style scoped>\n",
       "    .dataframe tbody tr th:only-of-type {\n",
       "        vertical-align: middle;\n",
       "    }\n",
       "\n",
       "    .dataframe tbody tr th {\n",
       "        vertical-align: top;\n",
       "    }\n",
       "\n",
       "    .dataframe thead th {\n",
       "        text-align: right;\n",
       "    }\n",
       "</style>\n",
       "<table border=\"1\" class=\"dataframe\">\n",
       "  <thead>\n",
       "    <tr style=\"text-align: right;\">\n",
       "      <th></th>\n",
       "      <th>Show Number</th>\n",
       "      <th>Air Date</th>\n",
       "      <th>Round</th>\n",
       "      <th>Category</th>\n",
       "      <th>Value</th>\n",
       "      <th>Question</th>\n",
       "      <th>Answer</th>\n",
       "      <th>Float Value</th>\n",
       "      <th>Air Date Datetime</th>\n",
       "    </tr>\n",
       "  </thead>\n",
       "  <tbody>\n",
       "    <tr>\n",
       "      <th>2536</th>\n",
       "      <td>5282</td>\n",
       "      <td>2007-07-24</td>\n",
       "      <td>Double Jeopardy!</td>\n",
       "      <td>LITERATURE</td>\n",
       "      <td>$400</td>\n",
       "      <td>In chapter 52 of this novel, a boisterous crowd is gathering for Fagin's execution</td>\n",
       "      <td>Oliver Twist</td>\n",
       "      <td>400.0</td>\n",
       "      <td>2007-07-24</td>\n",
       "    </tr>\n",
       "    <tr>\n",
       "      <th>2542</th>\n",
       "      <td>5282</td>\n",
       "      <td>2007-07-24</td>\n",
       "      <td>Double Jeopardy!</td>\n",
       "      <td>LITERATURE</td>\n",
       "      <td>$800</td>\n",
       "      <td>19th c. author known for writing about a \"venerable mansion\" with \"seven acutely peaked gables\"</td>\n",
       "      <td>(Nathaniel) Hawthorne</td>\n",
       "      <td>800.0</td>\n",
       "      <td>2007-07-24</td>\n",
       "    </tr>\n",
       "    <tr>\n",
       "      <th>2548</th>\n",
       "      <td>5282</td>\n",
       "      <td>2007-07-24</td>\n",
       "      <td>Double Jeopardy!</td>\n",
       "      <td>LITERATURE</td>\n",
       "      <td>$1200</td>\n",
       "      <td>People from the past appear to a brother &amp; sister in \"Rewards and Fairies\" by this author of \"The Jungle Book\"</td>\n",
       "      <td>Kipling</td>\n",
       "      <td>1200.0</td>\n",
       "      <td>2007-07-24</td>\n",
       "    </tr>\n",
       "    <tr>\n",
       "      <th>2554</th>\n",
       "      <td>5282</td>\n",
       "      <td>2007-07-24</td>\n",
       "      <td>Double Jeopardy!</td>\n",
       "      <td>LITERATURE</td>\n",
       "      <td>$1600</td>\n",
       "      <td>Modern novels with biblical titles include Jane Hamilton's \"The Book of Ruth\" &amp; Toni Morrison's \"Song of\" him</td>\n",
       "      <td>Solomon</td>\n",
       "      <td>1600.0</td>\n",
       "      <td>2007-07-24</td>\n",
       "    </tr>\n",
       "    <tr>\n",
       "      <th>2560</th>\n",
       "      <td>5282</td>\n",
       "      <td>2007-07-24</td>\n",
       "      <td>Double Jeopardy!</td>\n",
       "      <td>LITERATURE</td>\n",
       "      <td>$2000</td>\n",
       "      <td>Even Grendel would love Seamus Heaney's new translation of the Anglo-Saxon epic about this title geat</td>\n",
       "      <td>Beowulf</td>\n",
       "      <td>2000.0</td>\n",
       "      <td>2007-07-24</td>\n",
       "    </tr>\n",
       "  </tbody>\n",
       "</table>\n",
       "</div>"
      ],
      "text/plain": [
       "      Show Number    Air Date             Round    Category  Value  \\\n",
       "2536         5282  2007-07-24  Double Jeopardy!  LITERATURE   $400   \n",
       "2542         5282  2007-07-24  Double Jeopardy!  LITERATURE   $800   \n",
       "2548         5282  2007-07-24  Double Jeopardy!  LITERATURE  $1200   \n",
       "2554         5282  2007-07-24  Double Jeopardy!  LITERATURE  $1600   \n",
       "2560         5282  2007-07-24  Double Jeopardy!  LITERATURE  $2000   \n",
       "\n",
       "                                                                                                            Question  \\\n",
       "2536                              In chapter 52 of this novel, a boisterous crowd is gathering for Fagin's execution   \n",
       "2542                 19th c. author known for writing about a \"venerable mansion\" with \"seven acutely peaked gables\"   \n",
       "2548  People from the past appear to a brother & sister in \"Rewards and Fairies\" by this author of \"The Jungle Book\"   \n",
       "2554   Modern novels with biblical titles include Jane Hamilton's \"The Book of Ruth\" & Toni Morrison's \"Song of\" him   \n",
       "2560           Even Grendel would love Seamus Heaney's new translation of the Anglo-Saxon epic about this title geat   \n",
       "\n",
       "                     Answer  Float Value Air Date Datetime  \n",
       "2536           Oliver Twist        400.0        2007-07-24  \n",
       "2542  (Nathaniel) Hawthorne        800.0        2007-07-24  \n",
       "2548                Kipling       1200.0        2007-07-24  \n",
       "2554                Solomon       1600.0        2007-07-24  \n",
       "2560                Beowulf       2000.0        2007-07-24  "
      ]
     },
     "execution_count": 11,
     "metadata": {},
     "output_type": "execute_result"
    }
   ],
   "source": [
    "Double_Jeopardy_Literature_Fullmatch = Double_Jeopardy_Category[Double_Jeopardy_Category[\"Category\"].str.fullmatch(\"LITERATURE\")]\n",
    "\n",
    "print(\"There are \" + str(len(Double_Jeopardy_Literature_Fullmatch)) + \" questions with exactly \\\"LITERATURE\\\" in the category.\")\n",
    "Double_Jeopardy_Literature_Fullmatch.head()"
   ]
  },
  {
   "cell_type": "markdown",
   "metadata": {},
   "source": [
    "## Solution"
   ]
  },
  {
   "cell_type": "markdown",
   "metadata": {},
   "source": [
    "7. Compare your program to our <a href=\"https://content.codecademy.com/PRO/independent-practice-projects/jeopardy/jeopardy_solution.zip\">sample solution code</a> - remember, that your program might look different from ours (and probably will) and that's okay!"
   ]
  },
  {
   "cell_type": "markdown",
   "metadata": {},
   "source": [
    "8. Great work! Visit <a href=\"https://discuss.codecademy.com/t/this-is-jeopardy-challenge-project-python-pandas/462365\">our forums</a> to compare your project to our sample solution code. You can also learn how to host your own solution on GitHub so you can share it with other learners! Your solution might look different from ours, and that's okay! There are multiple ways to solve these projects, and you'll learn more by seeing others' code."
   ]
  },
  {
   "cell_type": "code",
   "execution_count": 12,
   "metadata": {},
   "outputs": [],
   "source": [
    "!jt -t onedork -fs 95 -tfs 11 -nfs 115 -ofs 11 -cellw 100%  -T"
   ]
  }
 ],
 "metadata": {
  "kernelspec": {
   "display_name": "Python 3 (ipykernel)",
   "language": "python",
   "name": "python3"
  },
  "language_info": {
   "codemirror_mode": {
    "name": "ipython",
    "version": 3
   },
   "file_extension": ".py",
   "mimetype": "text/x-python",
   "name": "python",
   "nbconvert_exporter": "python",
   "pygments_lexer": "ipython3",
   "version": "3.9.12"
  }
 },
 "nbformat": 4,
 "nbformat_minor": 2
}
