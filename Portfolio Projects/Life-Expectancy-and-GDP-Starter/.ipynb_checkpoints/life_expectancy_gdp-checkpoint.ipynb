{
 "cells": [
  {
   "cell_type": "markdown",
   "metadata": {},
   "source": [
    "# Life Expectancy vs GDP"
   ]
  },
  {
   "cell_type": "markdown",
   "metadata": {},
   "source": [
    "## Import Dataset"
   ]
  },
  {
   "cell_type": "code",
   "execution_count": 1,
   "metadata": {},
   "outputs": [
    {
     "data": {
      "text/html": [
       "<div>\n",
       "<style scoped>\n",
       "    .dataframe tbody tr th:only-of-type {\n",
       "        vertical-align: middle;\n",
       "    }\n",
       "\n",
       "    .dataframe tbody tr th {\n",
       "        vertical-align: top;\n",
       "    }\n",
       "\n",
       "    .dataframe thead th {\n",
       "        text-align: right;\n",
       "    }\n",
       "</style>\n",
       "<table border=\"1\" class=\"dataframe\">\n",
       "  <thead>\n",
       "    <tr style=\"text-align: right;\">\n",
       "      <th></th>\n",
       "      <th>Country</th>\n",
       "      <th>Year</th>\n",
       "      <th>Life expectancy at birth (years)</th>\n",
       "      <th>GDP</th>\n",
       "    </tr>\n",
       "  </thead>\n",
       "  <tbody>\n",
       "    <tr>\n",
       "      <th>0</th>\n",
       "      <td>Chile</td>\n",
       "      <td>2000</td>\n",
       "      <td>77.3</td>\n",
       "      <td>7.786093e+10</td>\n",
       "    </tr>\n",
       "    <tr>\n",
       "      <th>1</th>\n",
       "      <td>Chile</td>\n",
       "      <td>2001</td>\n",
       "      <td>77.3</td>\n",
       "      <td>7.097992e+10</td>\n",
       "    </tr>\n",
       "    <tr>\n",
       "      <th>2</th>\n",
       "      <td>Chile</td>\n",
       "      <td>2002</td>\n",
       "      <td>77.8</td>\n",
       "      <td>6.973681e+10</td>\n",
       "    </tr>\n",
       "    <tr>\n",
       "      <th>3</th>\n",
       "      <td>Chile</td>\n",
       "      <td>2003</td>\n",
       "      <td>77.9</td>\n",
       "      <td>7.564346e+10</td>\n",
       "    </tr>\n",
       "    <tr>\n",
       "      <th>4</th>\n",
       "      <td>Chile</td>\n",
       "      <td>2004</td>\n",
       "      <td>78.0</td>\n",
       "      <td>9.921039e+10</td>\n",
       "    </tr>\n",
       "  </tbody>\n",
       "</table>\n",
       "</div>"
      ],
      "text/plain": [
       "  Country  Year  Life expectancy at birth (years)           GDP\n",
       "0   Chile  2000                              77.3  7.786093e+10\n",
       "1   Chile  2001                              77.3  7.097992e+10\n",
       "2   Chile  2002                              77.8  6.973681e+10\n",
       "3   Chile  2003                              77.9  7.564346e+10\n",
       "4   Chile  2004                              78.0  9.921039e+10"
      ]
     },
     "metadata": {},
     "output_type": "display_data"
    }
   ],
   "source": [
    "import pandas as pd\n",
    "import numpy as np\n",
    "import seaborn as sns\n",
    "import statsmodels\n",
    "import matplotlib.pyplot as plt\n",
    "import math\n",
    "\n",
    "## Read in Data\n",
    "le_gdp = pd.read_csv(\"all_data.csv\")\n",
    "display(le_gdp.head())"
   ]
  },
  {
   "cell_type": "markdown",
   "metadata": {},
   "source": [
    "## Explore Countries"
   ]
  },
  {
   "cell_type": "code",
   "execution_count": 2,
   "metadata": {},
   "outputs": [
    {
     "name": "stdout",
     "output_type": "stream",
     "text": [
      "['Chile' 'China' 'Germany' 'Mexico' 'United States of America' 'Zimbabwe']\n",
      "The data set has 16 entries for Chile\n",
      "Years for Chile:\n",
      "0     2000\n",
      "1     2001\n",
      "2     2002\n",
      "3     2003\n",
      "4     2004\n",
      "5     2005\n",
      "6     2006\n",
      "7     2007\n",
      "8     2008\n",
      "9     2009\n",
      "10    2010\n",
      "11    2011\n",
      "12    2012\n",
      "13    2013\n",
      "14    2014\n",
      "15    2015\n",
      "Name: Year, dtype: int64\n",
      "The data set has 16 entries for China\n",
      "Years for China:\n",
      "16    2000\n",
      "17    2001\n",
      "18    2002\n",
      "19    2003\n",
      "20    2004\n",
      "21    2005\n",
      "22    2006\n",
      "23    2007\n",
      "24    2008\n",
      "25    2009\n",
      "26    2010\n",
      "27    2011\n",
      "28    2012\n",
      "29    2013\n",
      "30    2014\n",
      "31    2015\n",
      "Name: Year, dtype: int64\n",
      "The data set has 16 entries for Germany\n",
      "Years for Germany:\n",
      "32    2000\n",
      "33    2001\n",
      "34    2002\n",
      "35    2003\n",
      "36    2004\n",
      "37    2005\n",
      "38    2006\n",
      "39    2007\n",
      "40    2008\n",
      "41    2009\n",
      "42    2010\n",
      "43    2011\n",
      "44    2012\n",
      "45    2013\n",
      "46    2014\n",
      "47    2015\n",
      "Name: Year, dtype: int64\n",
      "The data set has 16 entries for Mexico\n",
      "Years for Mexico:\n",
      "48    2000\n",
      "49    2001\n",
      "50    2002\n",
      "51    2003\n",
      "52    2004\n",
      "53    2005\n",
      "54    2006\n",
      "55    2007\n",
      "56    2008\n",
      "57    2009\n",
      "58    2010\n",
      "59    2011\n",
      "60    2012\n",
      "61    2013\n",
      "62    2014\n",
      "63    2015\n",
      "Name: Year, dtype: int64\n",
      "The data set has 16 entries for United States of America\n",
      "Years for United States of America:\n",
      "64    2000\n",
      "65    2001\n",
      "66    2002\n",
      "67    2003\n",
      "68    2004\n",
      "69    2005\n",
      "70    2006\n",
      "71    2007\n",
      "72    2008\n",
      "73    2009\n",
      "74    2010\n",
      "75    2011\n",
      "76    2012\n",
      "77    2013\n",
      "78    2014\n",
      "79    2015\n",
      "Name: Year, dtype: int64\n",
      "The data set has 16 entries for Zimbabwe\n",
      "Years for Zimbabwe:\n",
      "80    2000\n",
      "81    2001\n",
      "82    2002\n",
      "83    2003\n",
      "84    2004\n",
      "85    2005\n",
      "86    2006\n",
      "87    2007\n",
      "88    2008\n",
      "89    2009\n",
      "90    2010\n",
      "91    2011\n",
      "92    2012\n",
      "93    2013\n",
      "94    2014\n",
      "95    2015\n",
      "Name: Year, dtype: int64\n",
      "96\n",
      "96\n"
     ]
    }
   ],
   "source": [
    "country_list = le_gdp['Country'].unique()\n",
    "print(country_list)\n",
    "\n",
    "# Verify that we have the same number of years for each country\n",
    "for country in country_list:\n",
    "    print(\"The data set has \" + str(len(le_gdp.loc[le_gdp['Country'] == country])) + \" entries for \" + country)\n",
    "# Verify that the years for each country are the same\n",
    "    print(\"Years for \" + country +\":\")\n",
    "    print(le_gdp['Year'].loc[le_gdp['Country'] == country])\n",
    "\n",
    "print(16 * len(country_list))\n",
    "print(len(le_gdp))"
   ]
  },
  {
   "cell_type": "markdown",
   "metadata": {},
   "source": [
    "## Explore Years"
   ]
  },
  {
   "cell_type": "code",
   "execution_count": 3,
   "metadata": {},
   "outputs": [
    {
     "name": "stdout",
     "output_type": "stream",
     "text": [
      "[2000 2001 2002 2003 2004 2005 2006 2007 2008 2009 2010 2011 2012 2013\n",
      " 2014 2015]\n"
     ]
    }
   ],
   "source": [
    "print(le_gdp['Year'].unique())"
   ]
  },
  {
   "cell_type": "markdown",
   "metadata": {},
   "source": [
    "## Calculate Average Life Expectancy for Each Country in a Given Year"
   ]
  },
  {
   "cell_type": "code",
   "execution_count": 5,
   "metadata": {},
   "outputs": [
    {
     "name": "stdout",
     "output_type": "stream",
     "text": [
      "78.94374999999998\n",
      "74.26249999999999\n",
      "79.65625\n",
      "75.71875\n",
      "78.0625\n",
      "50.09375000000001\n",
      "[78.94374999999998, 74.26249999999999, 79.65625, 75.71875, 78.0625, 50.09375000000001]\n"
     ]
    }
   ],
   "source": [
    "index = 0\n",
    "life_expectancy = []\n",
    "for country in country_list:\n",
    "    print(le_gdp['Life expectancy at birth (years)'].loc[le_gdp['Country'] == country].mean())\n",
    "    life_expectancy.append(le_gdp['Life expectancy at birth (years)'].loc[le_gdp['Country'] == country].mean())\n",
    "print(life_expectancy)\n",
    "\n"
   ]
  },
  {
   "cell_type": "markdown",
   "metadata": {},
   "source": [
    "## Create Country/Average Life Expectancy Dictionary"
   ]
  },
  {
   "cell_type": "code",
   "execution_count": 6,
   "metadata": {},
   "outputs": [
    {
     "name": "stdout",
     "output_type": "stream",
     "text": [
      "{'Chile': 78.94374999999998, 'China': 74.26249999999999, 'Germany': 79.65625, 'Mexico': 75.71875, 'United States of America': 78.0625, 'Zimbabwe': 50.09375000000001}\n"
     ]
    }
   ],
   "source": [
    "country_le_avg_dict = dict(zip(country_list, life_expectancy))\n",
    "print(country_le_avg_dict)"
   ]
  },
  {
   "cell_type": "markdown",
   "metadata": {},
   "source": [
    "## Plot Life Expectancy vs GDP for all Countries on One Graph"
   ]
  },
  {
   "cell_type": "code",
   "execution_count": 7,
   "metadata": {},
   "outputs": [
    {
     "data": {
      "image/png": "[encoded data removed]",
      "text/plain": [
       "<Figure size 432x288 with 1 Axes>"
      ]
     },
     "metadata": {
      "needs_background": "light"
     },
     "output_type": "display_data"
    },
    {
     "data": {
      "text/plain": [
       "<Figure size 432x288 with 0 Axes>"
      ]
     },
     "metadata": {},
     "output_type": "display_data"
    }
   ],
   "source": [
    "sns.scatterplot(x = 'GDP', y = 'Life expectancy at birth (years)', hue = 'Country', data = le_gdp)\n",
    "plt.show()\n",
    "plt.clf()\n",
    "## Pretty much useless because GDP data are for the entire country not per capita :("
   ]
  },
  {
   "cell_type": "markdown",
   "metadata": {},
   "source": [
    "## Make a Plot for Each Country"
   ]
  },
  {
   "cell_type": "code",
   "execution_count": 17,
   "metadata": {},
   "outputs": [
    {
     "name": "stdout",
     "output_type": "stream",
     "text": [
      "   Country  Year  Life expectancy at birth (years)           GDP\n",
      "0    Chile  2000                              77.3  7.786093e+10\n",
      "1    Chile  2001                              77.3  7.097992e+10\n",
      "2    Chile  2002                              77.8  6.973681e+10\n",
      "3    Chile  2003                              77.9  7.564346e+10\n",
      "4    Chile  2004                              78.0  9.921039e+10\n",
      "5    Chile  2005                              78.4  1.229650e+11\n",
      "6    Chile  2006                              78.9  1.547880e+11\n",
      "7    Chile  2007                              78.9  1.736060e+11\n",
      "8    Chile  2008                              79.6  1.796380e+11\n",
      "9    Chile  2009                              79.3  1.723890e+11\n",
      "10   Chile  2010                              79.1  2.185380e+11\n",
      "11   Chile  2011                              79.8  2.522520e+11\n",
      "12   Chile  2012                              79.9  2.671220e+11\n",
      "13   Chile  2013                              80.1  2.783840e+11\n",
      "14   Chile  2014                              80.3  2.609900e+11\n",
      "15   Chile  2015                              80.5  2.425180e+11\n"
     ]
    },
    {
     "data": {
      "image/png": "[encoded data removed]",
      "text/plain": [
       "<Figure size 1080x1080 with 6 Axes>"
      ]
     },
     "metadata": {
      "needs_background": "light"
     },
     "output_type": "display_data"
    }
   ],
   "source": [
    "fig, axes = plt.subplots(nrows = 2, ncols = 3)\n",
    "fig.tight_layout()\n",
    "axes = axes.ravel()\n",
    "index = 0\n",
    "print(le_gdp[le_gdp[\"Country\"] == 'Chile'])\n",
    "for country in country_list:\n",
    "    sns.scatterplot(x = 'GDP', y = 'Life expectancy at birth (years)', data = le_gdp[le_gdp['Country'] == country], ax = axes[index])\n",
    "    index += 1\n",
    "fig.set_size_inches(w=15, h=15, forward=True)"
   ]
  },
  {
   "cell_type": "code",
   "execution_count": null,
   "metadata": {},
   "outputs": [],
   "source": []
  }
 ],
 "metadata": {
  "kernelspec": {
   "display_name": "Python 3 (ipykernel)",
   "language": "python",
   "name": "python3"
  },
  "language_info": {
   "codemirror_mode": {
    "name": "ipython",
    "version": 3
   },
   "file_extension": ".py",
   "mimetype": "text/x-python",
   "name": "python",
   "nbconvert_exporter": "python",
   "pygments_lexer": "ipython3",
   "version": "3.9.12"
  }
 },
 "nbformat": 4,
 "nbformat_minor": 4
}
