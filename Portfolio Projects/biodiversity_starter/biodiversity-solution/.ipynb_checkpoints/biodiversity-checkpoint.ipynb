{
 "cells": [
  {
   "cell_type": "markdown",
   "metadata": {},
   "source": [
    "# Introduction\n",
    "\n",
    "This goal of this project is to analyze biodiversity data from the National Parks Service, particularly around various species observed in different national park locations.\n",
    "\n",
    "This project will scope, analyze, prepare, plot data, and seek to explain the findings from the analysis.\n",
    "\n",
    "Here are a few questions that this project has sought to answer:\n",
    "\n",
    "- What is the distribution of conservation status for species?\n",
    "- Are certain types of species more likely to be endangered?\n",
    "- Are the differences between species and their conservation status significant?\n",
    "- Which animal is most prevalent and what is their distribution amongst parks?\n",
    "\n",
    "**Data sources:**\n",
    "\n",
    "Both `Observations.csv` and `Species_info.csv` was provided by [Codecademy.com](https://www.codecademy.com).\n",
    "\n",
    "Note: The data for this project is *inspired* by real data, but is mostly fictional."
   ]
  },
  {
   "cell_type": "markdown",
   "metadata": {},
   "source": [
    "## Scoping\n",
    "\n",
    "It's beneficial to create a project scope whenever a new project is being started. Four sections were created below to help guide the project's process and progress. The first section is the project goals, this section will define the high-level objectives and set the intentions for this project. The next section is the data, luckily in this project, data is already provided but still needs to be checked if project goals can be met with the available data. Thirdly, the analysis will have to be thought through, which include the methods and questions that are aligned with the project goals. Lastly, evaluation will help us build conclusions and findings from our analysis.\n",
    "\n",
    "### Project Goals\n",
    "\n",
    "In this project the perspective will be through a biodiversity analyst for the National Parks Service. The National Park Service wants to ensure the survival of at-risk species, to maintain the level of biodiversity within their parks. Therefore, the main objectives as an analyst will be understanding characteristics about the species and their conservations status, and those species and their relationship to the national parks. Some questions that are posed:\n",
    "\n",
    "- What is the distribution of conservation status for species?\n",
    "- Are certain types of species more likely to be endangered?\n",
    "- Are the differences between species and their conservation status significant?\n",
    "- Which animal is most prevalent and what is their distribution amongst parks?\n",
    "\n",
    "### Data\n",
    "\n",
    "This project has two data sets that came with the package. The first `csv` file has information about each species and another has observations of species with park locations. This data will be used to analyze the goals of the project. \n",
    "\n",
    "### Analysis\n",
    "\n",
    "In this section, descriptive statistics and data visualization techniques will be employed to understand the data better. Statistical inference will also be used to test if the observed values are statistically significant. Some of the key metrics that will be computed include: \n",
    "\n",
    "1. Distributions\n",
    "1. counts\n",
    "1. relationship between species\n",
    "1. conservation status of species\n",
    "1. observations of species in parks. \n",
    "\n",
    "### Evaluation\n",
    "\n",
    "Lastly, it's a good idea to revisit the goals and check if the output of the analysis corresponds to the questions first set to be answered (in the goals section). This section will also reflect on what has been learned through the process, and if any of the questions were unable to be answered. This could also include limitations or if any of the analysis could have been done using different methodologies.\n"
   ]
  },
  {
   "cell_type": "markdown",
   "metadata": {},
   "source": [
    "## Import Python Modules\n",
    "\n",
    "First, import the primary modules that will be used in this project:"
   ]
  },
  {
   "cell_type": "code",
   "execution_count": 2,
   "metadata": {},
   "outputs": [],
   "source": [
    "import pandas as pd\n",
    "import numpy as np\n",
    "import scipy.stats as sp\n",
    "\n",
    "from matplotlib import pyplot as plt\n",
    "import seaborn as sns\n",
    "\n"
   ]
  },
  {
   "cell_type": "markdown",
   "metadata": {},
   "source": [
    "## Loading the Data"
   ]
  },
  {
   "cell_type": "markdown",
   "metadata": {},
   "source": [
    "To analyze the status of conservation of species and their observations in national parks, load the datasets into `DataFrames`. Once loaded as `DataFrames` the data can be explored and visualized with Python.\n",
    "\n",
    "In the next steps, `Observations.csv`  and `Species_info.csv` are read in as `DataFrames` called `observations` and `species` respectively. The newly created `DataFrames` are glimpsed with `.head()` to check its contents.\n"
   ]
  },
  {
   "cell_type": "markdown",
   "metadata": {},
   "source": [
    "#### species\n",
    "\n",
    "The `species_info.csv` contains information on the different species in the National Parks. The columns in the data set include:\n",
    "- **category** - The category of taxonomy for each species\n",
    "- **scientific_name** - The scientific name of each species\n",
    "- **common_names** - The common names of each species\n",
    "- **conservation_status** - The species conservation status\n"
   ]
  },
  {
   "cell_type": "code",
   "execution_count": 3,
   "metadata": {
    "scrolled": true
   },
   "outputs": [
    {
     "data": {
      "text/html": [
       "<div>\n",
       "<style scoped>\n",
       "    .dataframe tbody tr th:only-of-type {\n",
       "        vertical-align: middle;\n",
       "    }\n",
       "\n",
       "    .dataframe tbody tr th {\n",
       "        vertical-align: top;\n",
       "    }\n",
       "\n",
       "    .dataframe thead th {\n",
       "        text-align: right;\n",
       "    }\n",
       "</style>\n",
       "<table border=\"1\" class=\"dataframe\">\n",
       "  <thead>\n",
       "    <tr style=\"text-align: right;\">\n",
       "      <th></th>\n",
       "      <th>category</th>\n",
       "      <th>scientific_name</th>\n",
       "      <th>common_names</th>\n",
       "      <th>conservation_status</th>\n",
       "    </tr>\n",
       "  </thead>\n",
       "  <tbody>\n",
       "    <tr>\n",
       "      <th>0</th>\n",
       "      <td>Mammal</td>\n",
       "      <td>Clethrionomys gapperi gapperi</td>\n",
       "      <td>Gapper's Red-Backed Vole</td>\n",
       "      <td>NaN</td>\n",
       "    </tr>\n",
       "    <tr>\n",
       "      <th>1</th>\n",
       "      <td>Mammal</td>\n",
       "      <td>Bos bison</td>\n",
       "      <td>American Bison, Bison</td>\n",
       "      <td>NaN</td>\n",
       "    </tr>\n",
       "    <tr>\n",
       "      <th>2</th>\n",
       "      <td>Mammal</td>\n",
       "      <td>Bos taurus</td>\n",
       "      <td>Aurochs, Aurochs, Domestic Cattle (Feral), Dom...</td>\n",
       "      <td>NaN</td>\n",
       "    </tr>\n",
       "    <tr>\n",
       "      <th>3</th>\n",
       "      <td>Mammal</td>\n",
       "      <td>Ovis aries</td>\n",
       "      <td>Domestic Sheep, Mouflon, Red Sheep, Sheep (Feral)</td>\n",
       "      <td>NaN</td>\n",
       "    </tr>\n",
       "    <tr>\n",
       "      <th>4</th>\n",
       "      <td>Mammal</td>\n",
       "      <td>Cervus elaphus</td>\n",
       "      <td>Wapiti Or Elk</td>\n",
       "      <td>NaN</td>\n",
       "    </tr>\n",
       "  </tbody>\n",
       "</table>\n",
       "</div>"
      ],
      "text/plain": [
       "  category                scientific_name  \\\n",
       "0   Mammal  Clethrionomys gapperi gapperi   \n",
       "1   Mammal                      Bos bison   \n",
       "2   Mammal                     Bos taurus   \n",
       "3   Mammal                     Ovis aries   \n",
       "4   Mammal                 Cervus elaphus   \n",
       "\n",
       "                                        common_names conservation_status  \n",
       "0                           Gapper's Red-Backed Vole                 NaN  \n",
       "1                              American Bison, Bison                 NaN  \n",
       "2  Aurochs, Aurochs, Domestic Cattle (Feral), Dom...                 NaN  \n",
       "3  Domestic Sheep, Mouflon, Red Sheep, Sheep (Feral)                 NaN  \n",
       "4                                      Wapiti Or Elk                 NaN  "
      ]
     },
     "metadata": {},
     "output_type": "display_data"
    }
   ],
   "source": [
    "species_info = pd.read_csv('species_info.csv')\n",
    "display(species_info.head())"
   ]
  },
  {
   "cell_type": "markdown",
   "metadata": {},
   "source": [
    "#### observations\n",
    "\n",
    "The `Observations.csv` contains information from recorded sightings of different species throughout the national parks in the past 7 days. The columns included are:\n",
    "\n",
    "- **scientific_name** - The scientific name of each species\n",
    "- **park_name** - The name of the national park\n",
    "- **observations** - The number of observations in the past 7 days"
   ]
  },
  {
   "cell_type": "code",
   "execution_count": 4,
   "metadata": {
    "scrolled": false
   },
   "outputs": [
    {
     "data": {
      "text/html": [
       "<div>\n",
       "<style scoped>\n",
       "    .dataframe tbody tr th:only-of-type {\n",
       "        vertical-align: middle;\n",
       "    }\n",
       "\n",
       "    .dataframe tbody tr th {\n",
       "        vertical-align: top;\n",
       "    }\n",
       "\n",
       "    .dataframe thead th {\n",
       "        text-align: right;\n",
       "    }\n",
       "</style>\n",
       "<table border=\"1\" class=\"dataframe\">\n",
       "  <thead>\n",
       "    <tr style=\"text-align: right;\">\n",
       "      <th></th>\n",
       "      <th>scientific_name</th>\n",
       "      <th>park_name</th>\n",
       "      <th>observations</th>\n",
       "    </tr>\n",
       "  </thead>\n",
       "  <tbody>\n",
       "    <tr>\n",
       "      <th>0</th>\n",
       "      <td>Vicia benghalensis</td>\n",
       "      <td>Great Smoky Mountains National Park</td>\n",
       "      <td>68</td>\n",
       "    </tr>\n",
       "    <tr>\n",
       "      <th>1</th>\n",
       "      <td>Neovison vison</td>\n",
       "      <td>Great Smoky Mountains National Park</td>\n",
       "      <td>77</td>\n",
       "    </tr>\n",
       "    <tr>\n",
       "      <th>2</th>\n",
       "      <td>Prunus subcordata</td>\n",
       "      <td>Yosemite National Park</td>\n",
       "      <td>138</td>\n",
       "    </tr>\n",
       "    <tr>\n",
       "      <th>3</th>\n",
       "      <td>Abutilon theophrasti</td>\n",
       "      <td>Bryce National Park</td>\n",
       "      <td>84</td>\n",
       "    </tr>\n",
       "    <tr>\n",
       "      <th>4</th>\n",
       "      <td>Githopsis specularioides</td>\n",
       "      <td>Great Smoky Mountains National Park</td>\n",
       "      <td>85</td>\n",
       "    </tr>\n",
       "  </tbody>\n",
       "</table>\n",
       "</div>"
      ],
      "text/plain": [
       "            scientific_name                            park_name  observations\n",
       "0        Vicia benghalensis  Great Smoky Mountains National Park            68\n",
       "1            Neovison vison  Great Smoky Mountains National Park            77\n",
       "2         Prunus subcordata               Yosemite National Park           138\n",
       "3      Abutilon theophrasti                  Bryce National Park            84\n",
       "4  Githopsis specularioides  Great Smoky Mountains National Park            85"
      ]
     },
     "metadata": {},
     "output_type": "display_data"
    }
   ],
   "source": [
    "observations = pd.read_csv('observations.csv')\n",
    "display(observations.head())"
   ]
  },
  {
   "cell_type": "markdown",
   "metadata": {},
   "source": [
    "#### Data Characteristics\n",
    "\n",
    "Next, there will be a check for the dimensions of the data sets, for `species` there are 5,824 rows and 4 columns while `observations` has 23,296 rows and 3 columns."
   ]
  },
  {
   "cell_type": "code",
   "execution_count": 5,
   "metadata": {},
   "outputs": [
    {
     "name": "stdout",
     "output_type": "stream",
     "text": [
      "species shape: (5824, 4)\n",
      "observations shape: (23296, 3)\n"
     ]
    }
   ],
   "source": [
    "print('species shape: '+ str(species_info.shape))\n",
    "print('observations shape: '+ str(observations.shape))"
   ]
  },
  {
   "cell_type": "markdown",
   "metadata": {},
   "source": [
    "## Explore the Data"
   ]
  },
  {
   "cell_type": "markdown",
   "metadata": {},
   "source": [
    "It is time to explore the `species` data a little more in depth. The first thing is to find the number of distinct species in the data. Use the column `scientific_name` to get 5,541 unique species. There seems to be a lot of species in the national parks!"
   ]
  },
  {
   "cell_type": "code",
   "execution_count": 6,
   "metadata": {},
   "outputs": [
    {
     "name": "stdout",
     "output_type": "stream",
     "text": [
      "number of species: 5541\n"
     ]
    }
   ],
   "source": [
    "print('number of species: ' + str(len(species_info.scientific_name.unique())))"
   ]
  },
  {
   "cell_type": "markdown",
   "metadata": {},
   "source": [
    "Next is to find the number of `category` that are represented in the data and there are 7 including animals and plants."
   ]
  },
  {
   "cell_type": "code",
   "execution_count": 7,
   "metadata": {},
   "outputs": [
    {
     "name": "stdout",
     "output_type": "stream",
     "text": [
      "number of categories: 7\n",
      "categories ['Mammal' 'Bird' 'Reptile' 'Amphibian' 'Fish' 'Vascular Plant'\n",
      " 'Nonvascular Plant']\n"
     ]
    }
   ],
   "source": [
    "print('number of categories: ' + str(len(species_info.category.unique())))\n",
    "print('categories ' + str(species_info.category.unique()))"
   ]
  },
  {
   "cell_type": "markdown",
   "metadata": {},
   "source": [
    "Here is a chance to drill one level deeper and see the count of `category` in the data. Vascular plants are by far the largest share of species with 4,470 in the data with reptiles being the fewest with 79."
   ]
  },
  {
   "cell_type": "code",
   "execution_count": 8,
   "metadata": {},
   "outputs": [
    {
     "name": "stdout",
     "output_type": "stream",
     "text": [
      "Vascular Plant       4470\n",
      "Bird                  521\n",
      "Nonvascular Plant     333\n",
      "Mammal                214\n",
      "Fish                  127\n",
      "Amphibian              80\n",
      "Reptile                79\n",
      "Name: category, dtype: int64\n"
     ]
    }
   ],
   "source": [
    "print(species_info.category.value_counts())"
   ]
  },
  {
   "cell_type": "markdown",
   "metadata": {},
   "source": [
    "Another column to explore is `conservation_status`. The column has 5 categories, `Species of Concern`, `Endangered`, `Threatened`, `In Recovery`, and  `nan` values. "
   ]
  },
  {
   "cell_type": "code",
   "execution_count": 9,
   "metadata": {},
   "outputs": [
    {
     "name": "stdout",
     "output_type": "stream",
     "text": [
      "number of conservation statuses: 5\n",
      "[nan 'Species of Concern' 'Endangered' 'Threatened' 'In Recovery']\n"
     ]
    }
   ],
   "source": [
    "print('number of conservation statuses: ' + str(len(pd.unique(species_info.conservation_status))))\n",
    "print(pd.unique(species_info.conservation_status))"
   ]
  },
  {
   "cell_type": "markdown",
   "metadata": {},
   "source": [
    "Next a count of the number of observations in the breakdown of the categories in `conservation_status` is done. There are 5,633 `nan` values which means that they are species without concerns. On the other hand there are 161 species of concern, 16 endangered, 10 threatened, and 4 in recovery. \n",
    "\n",
    "Note: In most cases coming across `nan` values must be treated carefully, but the absence of data here means that these species are not under any conservation status."
   ]
  },
  {
   "cell_type": "code",
   "execution_count": 10,
   "metadata": {},
   "outputs": [
    {
     "name": "stdout",
     "output_type": "stream",
     "text": [
      "NaN                   5633\n",
      "Species of Concern     161\n",
      "Endangered              16\n",
      "Threatened              10\n",
      "In Recovery              4\n",
      "Name: conservation_status, dtype: int64\n"
     ]
    }
   ],
   "source": [
    "print(species_info.conservation_status.value_counts(dropna = False))"
   ]
  },
  {
   "cell_type": "markdown",
   "metadata": {},
   "source": [
    "#### observations"
   ]
  },
  {
   "cell_type": "markdown",
   "metadata": {},
   "source": [
    "The next section looks at `observations` data. The first task is to check the number of parks that are in the dataset and there are only 4 national parks."
   ]
  },
  {
   "cell_type": "code",
   "execution_count": 11,
   "metadata": {
    "scrolled": true
   },
   "outputs": [
    {
     "name": "stdout",
     "output_type": "stream",
     "text": [
      "Parks in dataset: ['Great Smoky Mountains National Park' 'Yosemite National Park'\n",
      " 'Bryce National Park' 'Yellowstone National Park']\n"
     ]
    }
   ],
   "source": [
    "print('Parks in dataset: ' + str(observations.park_name.unique()))"
   ]
  },
  {
   "cell_type": "markdown",
   "metadata": {},
   "source": [
    "Here are the total number of observations logged in the parks, there are 3,314,739 sightings in the last 7 days... that's a lot of observations! "
   ]
  },
  {
   "cell_type": "code",
   "execution_count": 12,
   "metadata": {},
   "outputs": [
    {
     "name": "stdout",
     "output_type": "stream",
     "text": [
      "Number of observations: 3314739\n"
     ]
    }
   ],
   "source": [
    "print('Number of observations: ' + str(observations.observations.sum()))"
   ]
  },
  {
   "cell_type": "markdown",
   "metadata": {},
   "source": [
    "## Analysis"
   ]
  },
  {
   "cell_type": "markdown",
   "metadata": {},
   "source": [
    "This section will begin analyzing the data after the initial exploration. First task will be to clean and explore the `conservation_status` column in `species`. \n",
    "\n",
    "The column `conservation_status` has several possible values:\n",
    "- `Species of Concern`: declining or appear to be in need of conservation\n",
    "- `Threatened`: vulnerable to endangerment in the near future\n",
    "- `Endangered`: seriously at risk of extinction\n",
    "- `In Recovery`: formerly `Endangered`, but currently neither in danger of extinction throughout all or a significant portion of its range\n",
    "\n",
    "In the exploration, a lot of `nan` values were detected. These values will need to be converted to `No Intervention`."
   ]
  },
  {
   "cell_type": "code",
   "execution_count": 13,
   "metadata": {},
   "outputs": [
    {
     "name": "stdout",
     "output_type": "stream",
     "text": [
      "Conservation Status\n",
      "No Intervention       5633\n",
      "Species of Concern     161\n",
      "Endangered              16\n",
      "Threatened              10\n",
      "In Recovery              4\n",
      "Name: conservation_status, dtype: int64\n"
     ]
    }
   ],
   "source": [
    "species_info.conservation_status.fillna('No Intervention', inplace = True)\n",
    "print('Conservation Status')\n",
    "print(species_info.conservation_status.value_counts(dropna = False))"
   ]
  },
  {
   "cell_type": "markdown",
   "metadata": {},
   "source": [
    "Next is to checkout the different categories that are nested in the `conservation_status` column except for the ones that do not require an intervention. There is both the table and chart to explore below.\n",
    "\n",
    "For those in the `Endangered` status, 7 were mammals and 4 were birds. In the `In Recovery` status, there were 3 birds and 1 mammal, which could possibly mean that the birds are bouncing back more than the mammals. "
   ]
  },
  {
   "cell_type": "code",
   "execution_count": 14,
   "metadata": {},
   "outputs": [
    {
     "data": {
      "text/html": [
       "<div>\n",
       "<style scoped>\n",
       "    .dataframe tbody tr th:only-of-type {\n",
       "        vertical-align: middle;\n",
       "    }\n",
       "\n",
       "    .dataframe tbody tr th {\n",
       "        vertical-align: top;\n",
       "    }\n",
       "\n",
       "    .dataframe thead th {\n",
       "        text-align: right;\n",
       "    }\n",
       "</style>\n",
       "<table border=\"1\" class=\"dataframe\">\n",
       "  <thead>\n",
       "    <tr style=\"text-align: right;\">\n",
       "      <th>category</th>\n",
       "      <th>Amphibian</th>\n",
       "      <th>Bird</th>\n",
       "      <th>Fish</th>\n",
       "      <th>Mammal</th>\n",
       "      <th>Nonvascular Plant</th>\n",
       "      <th>Reptile</th>\n",
       "      <th>Vascular Plant</th>\n",
       "    </tr>\n",
       "    <tr>\n",
       "      <th>conservation_status</th>\n",
       "      <th></th>\n",
       "      <th></th>\n",
       "      <th></th>\n",
       "      <th></th>\n",
       "      <th></th>\n",
       "      <th></th>\n",
       "      <th></th>\n",
       "    </tr>\n",
       "  </thead>\n",
       "  <tbody>\n",
       "    <tr>\n",
       "      <th>Endangered</th>\n",
       "      <td>1.0</td>\n",
       "      <td>4.0</td>\n",
       "      <td>3.0</td>\n",
       "      <td>7.0</td>\n",
       "      <td>NaN</td>\n",
       "      <td>NaN</td>\n",
       "      <td>1.0</td>\n",
       "    </tr>\n",
       "    <tr>\n",
       "      <th>In Recovery</th>\n",
       "      <td>NaN</td>\n",
       "      <td>3.0</td>\n",
       "      <td>NaN</td>\n",
       "      <td>1.0</td>\n",
       "      <td>NaN</td>\n",
       "      <td>NaN</td>\n",
       "      <td>NaN</td>\n",
       "    </tr>\n",
       "    <tr>\n",
       "      <th>Species of Concern</th>\n",
       "      <td>4.0</td>\n",
       "      <td>72.0</td>\n",
       "      <td>4.0</td>\n",
       "      <td>28.0</td>\n",
       "      <td>5.0</td>\n",
       "      <td>5.0</td>\n",
       "      <td>43.0</td>\n",
       "    </tr>\n",
       "    <tr>\n",
       "      <th>Threatened</th>\n",
       "      <td>2.0</td>\n",
       "      <td>NaN</td>\n",
       "      <td>4.0</td>\n",
       "      <td>2.0</td>\n",
       "      <td>NaN</td>\n",
       "      <td>NaN</td>\n",
       "      <td>2.0</td>\n",
       "    </tr>\n",
       "  </tbody>\n",
       "</table>\n",
       "</div>"
      ],
      "text/plain": [
       "category             Amphibian  Bird  Fish  Mammal  Nonvascular Plant  \\\n",
       "conservation_status                                                     \n",
       "Endangered                 1.0   4.0   3.0     7.0                NaN   \n",
       "In Recovery                NaN   3.0   NaN     1.0                NaN   \n",
       "Species of Concern         4.0  72.0   4.0    28.0                5.0   \n",
       "Threatened                 2.0   NaN   4.0     2.0                NaN   \n",
       "\n",
       "category             Reptile  Vascular Plant  \n",
       "conservation_status                           \n",
       "Endangered               NaN             1.0  \n",
       "In Recovery              NaN             NaN  \n",
       "Species of Concern       5.0            43.0  \n",
       "Threatened               NaN             2.0  "
      ]
     },
     "execution_count": 14,
     "metadata": {},
     "output_type": "execute_result"
    }
   ],
   "source": [
    "ConservationCategory = species_info[species_info.conservation_status != \"No Intervention\"]\\\n",
    "    .groupby([\"conservation_status\", \"category\"])\\\n",
    "    .scientific_name\\\n",
    "    .count().unstack()\n",
    "ConservationCategory.head()"
   ]
  },
  {
   "cell_type": "code",
   "execution_count": 15,
   "metadata": {},
   "outputs": [
    {
     "data": {
      "image/png": "[encoded data removed]",
      "text/plain": [
       "<Figure size 576x432 with 1 Axes>"
      ]
     },
     "metadata": {
      "needs_background": "light"
     },
     "output_type": "display_data"
    }
   ],
   "source": [
    "ax = ConservationCategory.plot(kind = 'bar', stacked = True, figsize = (8, 6))\n",
    "ax.set_xlabel('Conservation Status')\n",
    "ax.set_ylabel('Number of Species')\n",
    "plt.title('Number of Species in each Conservation Status');"
   ]
  },
  {
   "cell_type": "markdown",
   "metadata": {},
   "source": [
    "#### In conservation\n",
    "\n",
    "The next question is if certain types of species are more likely to be endangered? This can be answered by creating a new column called `is_protected` and include any species that had a value other than `No Intervention`. "
   ]
  },
  {
   "cell_type": "code",
   "execution_count": 16,
   "metadata": {},
   "outputs": [
    {
     "data": {
      "text/html": [
       "<div>\n",
       "<style scoped>\n",
       "    .dataframe tbody tr th:only-of-type {\n",
       "        vertical-align: middle;\n",
       "    }\n",
       "\n",
       "    .dataframe tbody tr th {\n",
       "        vertical-align: top;\n",
       "    }\n",
       "\n",
       "    .dataframe thead th {\n",
       "        text-align: right;\n",
       "    }\n",
       "</style>\n",
       "<table border=\"1\" class=\"dataframe\">\n",
       "  <thead>\n",
       "    <tr style=\"text-align: right;\">\n",
       "      <th></th>\n",
       "      <th>category</th>\n",
       "      <th>scientific_name</th>\n",
       "      <th>common_names</th>\n",
       "      <th>conservation_status</th>\n",
       "      <th>is_protected</th>\n",
       "    </tr>\n",
       "  </thead>\n",
       "  <tbody>\n",
       "    <tr>\n",
       "      <th>0</th>\n",
       "      <td>Mammal</td>\n",
       "      <td>Clethrionomys gapperi gapperi</td>\n",
       "      <td>Gapper's Red-Backed Vole</td>\n",
       "      <td>No Intervention</td>\n",
       "      <td>False</td>\n",
       "    </tr>\n",
       "    <tr>\n",
       "      <th>1</th>\n",
       "      <td>Mammal</td>\n",
       "      <td>Bos bison</td>\n",
       "      <td>American Bison, Bison</td>\n",
       "      <td>No Intervention</td>\n",
       "      <td>False</td>\n",
       "    </tr>\n",
       "    <tr>\n",
       "      <th>2</th>\n",
       "      <td>Mammal</td>\n",
       "      <td>Bos taurus</td>\n",
       "      <td>Aurochs, Aurochs, Domestic Cattle (Feral), Dom...</td>\n",
       "      <td>No Intervention</td>\n",
       "      <td>False</td>\n",
       "    </tr>\n",
       "    <tr>\n",
       "      <th>3</th>\n",
       "      <td>Mammal</td>\n",
       "      <td>Ovis aries</td>\n",
       "      <td>Domestic Sheep, Mouflon, Red Sheep, Sheep (Feral)</td>\n",
       "      <td>No Intervention</td>\n",
       "      <td>False</td>\n",
       "    </tr>\n",
       "    <tr>\n",
       "      <th>4</th>\n",
       "      <td>Mammal</td>\n",
       "      <td>Cervus elaphus</td>\n",
       "      <td>Wapiti Or Elk</td>\n",
       "      <td>No Intervention</td>\n",
       "      <td>False</td>\n",
       "    </tr>\n",
       "  </tbody>\n",
       "</table>\n",
       "</div>"
      ],
      "text/plain": [
       "  category                scientific_name  \\\n",
       "0   Mammal  Clethrionomys gapperi gapperi   \n",
       "1   Mammal                      Bos bison   \n",
       "2   Mammal                     Bos taurus   \n",
       "3   Mammal                     Ovis aries   \n",
       "4   Mammal                 Cervus elaphus   \n",
       "\n",
       "                                        common_names conservation_status  \\\n",
       "0                           Gapper's Red-Backed Vole     No Intervention   \n",
       "1                              American Bison, Bison     No Intervention   \n",
       "2  Aurochs, Aurochs, Domestic Cattle (Feral), Dom...     No Intervention   \n",
       "3  Domestic Sheep, Mouflon, Red Sheep, Sheep (Feral)     No Intervention   \n",
       "4                                      Wapiti Or Elk     No Intervention   \n",
       "\n",
       "   is_protected  \n",
       "0         False  \n",
       "1         False  \n",
       "2         False  \n",
       "3         False  \n",
       "4         False  "
      ]
     },
     "metadata": {},
     "output_type": "display_data"
    }
   ],
   "source": [
    "species_info['is_protected'] = species_info.conservation_status != 'No Intervention'\n",
    "display(species_info.head())"
   ]
  },
  {
   "cell_type": "markdown",
   "metadata": {},
   "source": [
    "Once the new column is created, group by `category` and `is_protected` to show the break down of each species type and protection status. \n",
    "\n",
    "It's easy to see that Birds, Vascular Plants, and Mammals have a higher absolute number of species protected. "
   ]
  },
  {
   "cell_type": "code",
   "execution_count": 17,
   "metadata": {
    "scrolled": true
   },
   "outputs": [
    {
     "data": {
      "text/html": [
       "<div>\n",
       "<style scoped>\n",
       "    .dataframe tbody tr th:only-of-type {\n",
       "        vertical-align: middle;\n",
       "    }\n",
       "\n",
       "    .dataframe tbody tr th {\n",
       "        vertical-align: top;\n",
       "    }\n",
       "\n",
       "    .dataframe thead th {\n",
       "        text-align: right;\n",
       "    }\n",
       "</style>\n",
       "<table border=\"1\" class=\"dataframe\">\n",
       "  <thead>\n",
       "    <tr style=\"text-align: right;\">\n",
       "      <th></th>\n",
       "      <th>category</th>\n",
       "      <th>not_protected</th>\n",
       "      <th>protected</th>\n",
       "    </tr>\n",
       "  </thead>\n",
       "  <tbody>\n",
       "    <tr>\n",
       "      <th>0</th>\n",
       "      <td>Amphibian</td>\n",
       "      <td>72</td>\n",
       "      <td>7</td>\n",
       "    </tr>\n",
       "    <tr>\n",
       "      <th>1</th>\n",
       "      <td>Bird</td>\n",
       "      <td>413</td>\n",
       "      <td>75</td>\n",
       "    </tr>\n",
       "    <tr>\n",
       "      <th>2</th>\n",
       "      <td>Fish</td>\n",
       "      <td>115</td>\n",
       "      <td>11</td>\n",
       "    </tr>\n",
       "    <tr>\n",
       "      <th>3</th>\n",
       "      <td>Mammal</td>\n",
       "      <td>146</td>\n",
       "      <td>30</td>\n",
       "    </tr>\n",
       "    <tr>\n",
       "      <th>4</th>\n",
       "      <td>Nonvascular Plant</td>\n",
       "      <td>328</td>\n",
       "      <td>5</td>\n",
       "    </tr>\n",
       "    <tr>\n",
       "      <th>5</th>\n",
       "      <td>Reptile</td>\n",
       "      <td>73</td>\n",
       "      <td>5</td>\n",
       "    </tr>\n",
       "    <tr>\n",
       "      <th>6</th>\n",
       "      <td>Vascular Plant</td>\n",
       "      <td>4216</td>\n",
       "      <td>46</td>\n",
       "    </tr>\n",
       "  </tbody>\n",
       "</table>\n",
       "</div>"
      ],
      "text/plain": [
       "            category  not_protected  protected\n",
       "0          Amphibian             72          7\n",
       "1               Bird            413         75\n",
       "2               Fish            115         11\n",
       "3             Mammal            146         30\n",
       "4  Nonvascular Plant            328          5\n",
       "5            Reptile             73          5\n",
       "6     Vascular Plant           4216         46"
      ]
     },
     "metadata": {},
     "output_type": "display_data"
    }
   ],
   "source": [
    "category_protection = species_info.groupby(['category', 'is_protected'])\\\n",
    "                    .scientific_name.nunique().reset_index()\\\n",
    "                    .pivot(columns = 'is_protected', index = 'category', values = 'scientific_name')\\\n",
    "                    .reset_index()\n",
    "category_protection.columns = ['category', 'not_protected', 'protected']\n",
    "display(category_protection)"
   ]
  },
  {
   "cell_type": "markdown",
   "metadata": {},
   "source": [
    "Absolute numbers are not always the most useful statistic, therefore it's important to calculate the rate of protection that each `category` exhibits in the data. From this analysis, one can see that ~17 percent of mammals were under protection, as well as ~15 percent of birds. "
   ]
  },
  {
   "cell_type": "code",
   "execution_count": 18,
   "metadata": {},
   "outputs": [
    {
     "data": {
      "text/html": [
       "<div>\n",
       "<style scoped>\n",
       "    .dataframe tbody tr th:only-of-type {\n",
       "        vertical-align: middle;\n",
       "    }\n",
       "\n",
       "    .dataframe tbody tr th {\n",
       "        vertical-align: top;\n",
       "    }\n",
       "\n",
       "    .dataframe thead th {\n",
       "        text-align: right;\n",
       "    }\n",
       "</style>\n",
       "<table border=\"1\" class=\"dataframe\">\n",
       "  <thead>\n",
       "    <tr style=\"text-align: right;\">\n",
       "      <th></th>\n",
       "      <th>category</th>\n",
       "      <th>not_protected</th>\n",
       "      <th>protected</th>\n",
       "      <th>percent_protected</th>\n",
       "    </tr>\n",
       "  </thead>\n",
       "  <tbody>\n",
       "    <tr>\n",
       "      <th>0</th>\n",
       "      <td>Amphibian</td>\n",
       "      <td>72</td>\n",
       "      <td>7</td>\n",
       "      <td>0.088608</td>\n",
       "    </tr>\n",
       "    <tr>\n",
       "      <th>1</th>\n",
       "      <td>Bird</td>\n",
       "      <td>413</td>\n",
       "      <td>75</td>\n",
       "      <td>0.153689</td>\n",
       "    </tr>\n",
       "    <tr>\n",
       "      <th>2</th>\n",
       "      <td>Fish</td>\n",
       "      <td>115</td>\n",
       "      <td>11</td>\n",
       "      <td>0.087302</td>\n",
       "    </tr>\n",
       "    <tr>\n",
       "      <th>3</th>\n",
       "      <td>Mammal</td>\n",
       "      <td>146</td>\n",
       "      <td>30</td>\n",
       "      <td>0.170455</td>\n",
       "    </tr>\n",
       "    <tr>\n",
       "      <th>4</th>\n",
       "      <td>Nonvascular Plant</td>\n",
       "      <td>328</td>\n",
       "      <td>5</td>\n",
       "      <td>0.015015</td>\n",
       "    </tr>\n",
       "    <tr>\n",
       "      <th>5</th>\n",
       "      <td>Reptile</td>\n",
       "      <td>73</td>\n",
       "      <td>5</td>\n",
       "      <td>0.064103</td>\n",
       "    </tr>\n",
       "    <tr>\n",
       "      <th>6</th>\n",
       "      <td>Vascular Plant</td>\n",
       "      <td>4216</td>\n",
       "      <td>46</td>\n",
       "      <td>0.010793</td>\n",
       "    </tr>\n",
       "  </tbody>\n",
       "</table>\n",
       "</div>"
      ],
      "text/plain": [
       "            category  not_protected  protected  percent_protected\n",
       "0          Amphibian             72          7           0.088608\n",
       "1               Bird            413         75           0.153689\n",
       "2               Fish            115         11           0.087302\n",
       "3             Mammal            146         30           0.170455\n",
       "4  Nonvascular Plant            328          5           0.015015\n",
       "5            Reptile             73          5           0.064103\n",
       "6     Vascular Plant           4216         46           0.010793"
      ]
     },
     "metadata": {},
     "output_type": "display_data"
    }
   ],
   "source": [
    "category_protection['percent_protected'] = category_protection['protected']\\\n",
    "                                            / (category_protection['not_protected'] + category_protection['protected'])\n",
    "display(category_protection)"
   ]
  },
  {
   "cell_type": "markdown",
   "metadata": {},
   "source": [
    "#### Statistical Significance\n",
    "\n",
    "This section will run some chi-squared tests to see if different species have statistically significant differences in conservation status rates. In order to run a chi squared test, a contingency table will need to be created. The contingency table should look like this:\n",
    "\n",
    "||protected|not protected|\n",
    "|-|-|-|\n",
    "|Mammal|?|?|\n",
    "|Bird|?|?|\n",
    "\n",
    "The first test will be called `contingency1` and will need to be filled with the correct numbers for mammals and birds.\n",
    "\n",
    "The results from the chi-squared test returns many values, the second value which is 0.69 is the p-value. The standard p-value to test statistical significance is 0.05. For the value retrieved from this test, the value of 0.69 is much larger than 0.05. In the case of mammals and birds there doesn't seem to be any significant relationship between them i.e. the variables independent. "
   ]
  },
  {
   "cell_type": "code",
   "execution_count": 19,
   "metadata": {},
   "outputs": [
    {
     "data": {
      "text/plain": [
       "(0.1617014831654557,\n",
       " 0.6875948096661336,\n",
       " 1,\n",
       " array([[ 27.8313253, 148.1686747],\n",
       "        [ 77.1686747, 410.8313253]]))"
      ]
     },
     "execution_count": 19,
     "metadata": {},
     "output_type": "execute_result"
    }
   ],
   "source": [
    "contingency_table = [[30, 146], [75, 413]]\n",
    "sp.chi2_contingency(contingency_table)"
   ]
  },
  {
   "cell_type": "markdown",
   "metadata": {},
   "source": [
    "The next pair, is going to test the difference between `Reptile` and `Mammal`.\n",
    "\n",
    "The format is again is like below:\n",
    "\n",
    "||protected|not protected|\n",
    "|-|-|-|\n",
    "|Mammal|?|?|\n",
    "|Reptile|?|?|\n",
    "\n",
    "This time the p-value is 0.039 which is below the standard threshold of 0.05 which can be take that the difference between reptile and mammal is statistically significant. Mammals are shown to have a statistically significant higher rate of needed protection compared with Reptiles. "
   ]
  },
  {
   "cell_type": "code",
   "execution_count": 20,
   "metadata": {},
   "outputs": [
    {
     "data": {
      "text/plain": [
       "(4.289183096203645,\n",
       " 0.03835559022969898,\n",
       " 1,\n",
       " array([[ 24.2519685, 151.7480315],\n",
       "        [ 10.7480315,  67.2519685]]))"
      ]
     },
     "execution_count": 20,
     "metadata": {},
     "output_type": "execute_result"
    }
   ],
   "source": [
    "contingency_table = [[30, 146], [5, 73]]\n",
    "sp.chi2_contingency(contingency_table)"
   ]
  },
  {
   "cell_type": "markdown",
   "metadata": {},
   "source": [
    "#### Species in Parks"
   ]
  },
  {
   "cell_type": "markdown",
   "metadata": {},
   "source": [
    "The next set of analysis will come from data from the conservationists as they have been recording sightings of different species at several national parks for the past 7 days.\n",
    "\n",
    "The first step is to look at the the common names from `species` to get an idea of the most prevalent animals in the dataset. The data will be need to be split up into individual names. "
   ]
  },
  {
   "cell_type": "code",
   "execution_count": 21,
   "metadata": {},
   "outputs": [
    {
     "name": "stdout",
     "output_type": "stream",
     "text": [
      "[['Gappers', 'RedBacked', 'Vole'], ['American', 'Bison', 'Bison'], ['Aurochs', 'Aurochs', 'Domestic', 'Cattle', 'Feral', 'Domesticated', 'Cattle'], ['Domestic', 'Sheep', 'Mouflon', 'Red', 'Sheep', 'Sheep', 'Feral'], ['Wapiti', 'Or', 'Elk'], ['WhiteTailed', 'Deer']]\n"
     ]
    }
   ],
   "source": [
    "import string\n",
    "\n",
    "def remove_punctuations(text):\n",
    "    for punctuation in string.punctuation:\n",
    "        text = text.replace(punctuation, '')\n",
    "    return text\n",
    "\n",
    "animals = species_info.loc[(species_info.category != 'Nonvascular Plant') & (species_info.category != 'Vascular Plant')]['common_names']\n",
    "\n",
    "common_name_words = animals.apply(remove_punctuations).str.split().tolist()\n",
    "print(common_name_words[:6])"
   ]
  },
  {
   "cell_type": "markdown",
   "metadata": {},
   "source": [
    "The next step is to clean up duplicate words in each row since they should no be counted more than once per species."
   ]
  },
  {
   "cell_type": "code",
   "execution_count": 22,
   "metadata": {},
   "outputs": [
    {
     "name": "stdout",
     "output_type": "stream",
     "text": [
      "[['Gappers', 'RedBacked', 'Vole'], ['American', 'Bison'], ['Aurochs', 'Domestic', 'Cattle', 'Feral', 'Domesticated'], ['Domestic', 'Sheep', 'Mouflon', 'Red', 'Feral'], ['Wapiti', 'Or', 'Elk'], ['WhiteTailed', 'Deer'], ['Feral', 'Hog', 'Wild', 'Pig'], ['Coyote'], ['Gray', 'Wolf'], ['Red', 'Wolf'], ['Common', 'Gray', 'Fox'], ['Black', 'Fox', 'Cross', 'Red', 'Silver'], ['Red', 'Fox'], ['Mountain', 'Lion'], ['Wild', 'Cat', 'Wildcat'], ['Bobcat'], ['Panther', 'Mountain', 'Lion'], ['Striped', 'Skunk'], ['Eastern', 'Spotted', 'Skunk'], ['River', 'Otter'], ['Northern', 'River', 'Otter'], ['Fisher'], ['Mink', 'Or', 'Weasel'], ['LongTailed', 'Weasel'], ['Least', 'Weasel'], ['Mink'], ['Common', 'Raccoon'], ['Black', 'Bear'], ['Rafinesques', 'BigEared', 'Bat'], ['Big', 'Brown', 'Bat'], ['SilverHaired', 'Bat'], ['Eastern', 'Red', 'Bat'], ['Hoary', 'Bat'], ['Mississippi', 'Myotis', 'Southeastern'], ['Gray', 'Myotis'], ['Keens', 'Myotis'], ['Eastern', 'SmallFooted', 'Bat', 'Myotis'], ['Little', 'Brown', 'Bat', 'Myotis'], ['Northern', 'LongEared', 'Bat', 'Myotis'], ['Indiana', 'Bat', 'Or', 'Social', 'Myotis'], ['Evening', 'Bat'], ['Eastern', 'Pipistrelle'], ['Virginia', 'Opossum', 'Oppossum'], ['Snowshoe', 'Hare'], ['Eastern', 'Cottontail'], ['Appalachian', 'Cottontail'], ['New', 'England', 'Cottontail'], ['Feral', 'Horse'], ['Human', 'Humans', 'Man'], ['American', 'Beaver'], ['Southern', 'RedBacked', 'Vole'], ['Rock', 'Vole', 'Southern'], ['Meadow', 'Vole'], ['Woodland', 'Vole'], ['Eastern', 'Woodrat'], ['Allegheny', 'Woodrat', 'Appalachian'], ['Golden', 'Mouse'], ['Muskrat'], ['Marsh', 'Rice', 'Rat'], ['Marsh', 'Rice', 'Rat'], ['Cotton', 'Mouse'], ['WhiteFooted', 'Mouse'], ['Deer', 'Mouse'], ['Eastern', 'Harvest', 'Mouse'], ['Southern', 'Bog', 'Lemming'], ['Stones', 'Southern', 'Bog', 'Lemming'], ['Woodland', 'Jumping', 'Mouse'], ['Meadow', 'Jumping', 'Mouse'], ['Common', 'Porcupine'], ['House', 'Mouse'], ['Norway', 'Rat'], ['Black', 'Rat'], ['Carolina', 'Northern', 'Flying', 'Squirrel'], ['Southern', 'Flying', 'Squirrel'], ['Woodchuck'], ['Eastern', 'Gray', 'Squirrel'], ['Eastern', 'Fox', 'Squirrel'], ['Eastern', 'Chipmunk'], ['Red', 'Squirrel'], ['Northern', 'Short', 'Tailed', 'Shrew', 'ShortTailed'], ['Least', 'Shrew'], ['Common', 'Shrew', 'Masked'], ['LongTailed', 'Or', 'Rock', 'Shrew'], ['Smoky', 'Shrew'], ['Pygmy', 'Shrew'], ['Southeastern', 'Shrew'], ['Water', 'Shrew'], ['StarNosed', 'Mole'], ['HairyTailed', 'Mole'], ['Eastern', 'Mole'], ['Brewsters', 'Warbler'], ['Coopers', 'Hawk'], ['Northern', 'Goshawk'], ['SharpShinned', 'Hawk'], ['Golden', 'Eagle'], ['RedTailed', 'Hawk'], ['RedShouldered', 'Hawk'], ['BroadWinged', 'Hawk'], ['Northern', 'Harrier'], ['American', 'SwallowTailed', 'Kite'], ['Bald', 'Eagle'], ['Mississippi', 'Kite'], ['Turkey', 'Vulture'], ['Black', 'Vulture'], ['Osprey'], ['Wood', 'Duck'], ['Northern', 'Pintail'], ['American', 'Wigeon'], ['Northern', 'Shoveler'], ['GreenWinged', 'Teal'], ['BlueWinged', 'Teal'], ['Mallard'], ['American', 'Black', 'Duck'], ['Lesser', 'Scaup'], ['Redhead'], ['RingNecked', 'Duck'], ['Brant'], ['Canada', 'Goose'], ['Bufflehead'], ['Common', 'Goldeneye'], ['Snow', 'Goose'], ['Harlequin', 'Duck'], ['Hooded', 'Merganser'], ['WhiteWinged', 'Scoter'], ['WhiteWinged', 'Scoter'], ['Black', 'Scoter'], ['Common', 'Merganser'], ['RedBreasted', 'Merganser'], ['Ruddy', 'Duck'], ['Chimney', 'Swift'], ['RubyThroated', 'Hummingbird'], ['ChuckWillsWidow'], ['WhipPoorWill'], ['Common', 'Nighthawk'], ['Semipalmated', 'Plover'], ['Killdeer'], ['American', 'GoldenPlover', 'Lesser'], ['Black', 'Tern'], ['Herring', 'Gull'], ['Laughing', 'Gull'], ['RingBilled', 'Gull'], ['Bonapartes', 'Gull'], ['Sooty', 'Tern'], ['Spotted', 'Sandpiper'], ['Least', 'Sandpiper'], ['Semipalmated', 'Sandpiper'], ['Willet'], ['Common', 'Snipe'], ['ShortBilled', 'Dowitcher'], ['Red', 'Phalarope'], ['RedNecked', 'Phalarope'], ['Ruff'], ['American', 'Woodcock'], ['Lesser', 'Yellowlegs'], ['Greater', 'Yellowlegs'], ['Solitary', 'Sandpiper'], ['Rock', 'Dove'], ['Passenger', 'Pigeon'], ['Mourning', 'Dove'], ['Belted', 'Kingfisher'], ['Ringed', 'Kingfisher'], ['YellowBilled', 'Cuckoo'], ['BlackBilled', 'Cuckoo'], ['Merlin'], ['Peregrine', 'Falcon'], ['American', 'Kestrel'], ['Northern', 'Bobwhite'], ['Chukar'], ['Ruffed', 'Grouse'], ['Wild', 'Turkey'], ['Peacock'], ['Common', 'Pheasant', 'RingNecked'], ['Common', 'Loon'], ['Whooping', 'Crane'], ['Sandhill', 'Crane'], ['American', 'Coot'], ['Common', 'Moorhen'], ['Sora'], ['King', 'Rail'], ['Virginia', 'Rail'], ['Horned', 'Lark'], ['Cedar', 'Waxwing'], ['ChestnutCollared', 'Longspur'], ['Snow', 'Bunting'], ['Northern', 'Cardinal'], ['Blue', 'Grosbeak'], ['Indigo', 'Bunting'], ['RoseBreasted', 'Grosbeak'], ['Scarlet', 'Tanager'], ['Summer', 'Tanager'], ['Dickcissel'], ['Brown', 'Creeper'], ['Eurasian', 'Treecreeper'], ['American', 'Crow'], ['Common', 'Raven'], ['Blue', 'Jay'], ['Bachmans', 'Sparrow'], ['Henslows', 'Sparrow'], ['Le', 'Contes', 'Sparrow'], ['Grasshopper', 'Sparrow'], ['Lark', 'Sparrow'], ['DarkEyed', 'Junco'], ['Swamp', 'Sparrow'], ['Lincolns', 'Sparrow'], ['Song', 'Sparrow'], ['Savannah', 'Sparrow'], ['Fox', 'Sparrow'], ['Eastern', 'Towhee', 'RufousSided'], ['Vesper', 'Sparrow'], ['American', 'Tree', 'Sparrow'], ['Chipping', 'Sparrow'], ['Field', 'Sparrow'], ['WhiteThroated', 'Sparrow'], ['GoldenCrowned', 'Sparrow'], ['WhiteCrowned', 'Sparrow'], ['Common', 'Redpoll'], ['Pine', 'Siskin'], ['American', 'Goldfinch'], ['House', 'Finch'], ['Purple', 'Finch'], ['Evening', 'Grosbeak'], ['Red', 'Crossbill'], ['WhiteWinged', 'Crossbill'], ['Barn', 'Swallow'], ['Cliff', 'Swallow'], ['Purple', 'Martin'], ['Bank', 'Swallow'], ['Northern', 'RoughWinged', 'Swallow'], ['Tree', 'Swallow'], ['RedWinged', 'Blackbird'], ['Bobolink'], ['Rusty', 'Blackbird'], ['Baltimore', 'Oriole', 'Northern'], ['Orchard', 'Oriole'], ['BrownHeaded', 'Cowbird'], ['Common', 'Grackle'], ['Eastern', 'Meadowlark'], ['YellowHeaded', 'Blackbird'], ['Loggerhead', 'Shrike'], ['Gray', 'Catbird'], ['Mockingbird', 'Northern'], ['Brown', 'Thrasher'], ['Water', 'Pipit'], ['Water', 'Pipit'], ['Tufted', 'Titmouse'], ['BlackCapped', 'Chickadee'], ['Carolina', 'Chickadee'], ['BlackThroated', 'Blue', 'Warbler'], ['BayBreasted', 'Warbler'], ['Cerulean', 'Warbler'], ['YellowRumped', 'Warbler'], ['Prairie', 'Warbler'], ['YellowThroated', 'Warbler'], ['Blackburnian', 'Warbler'], ['Magnolia', 'Warbler'], ['Palm', 'Warbler'], ['ChestnutSided', 'Warbler'], ['Yellow', 'Warbler'], ['Pine', 'Warbler'], ['Blackpoll', 'Warbler'], ['Cape', 'May', 'Warbler'], ['BlackThroated', 'Green', 'Warbler'], ['Common', 'Yellowthroat'], ['WormEating', 'Warbler'], ['YellowBreasted', 'Chat'], ['Swainsons', 'Warbler'], ['BlackAndWhite', 'Warbler'], ['Connecticut', 'Warbler'], ['Kentucky', 'Warbler'], ['Mourning', 'Warbler'], ['Northern', 'Parula'], ['Prothonotary', 'Warbler'], ['Ovenbird'], ['Louisiana', 'Waterthrush'], ['Northern', 'Waterthrush'], ['American', 'Redstart'], ['Bachmans', 'Warbler', 'Wood'], ['OrangeCrowned', 'Warbler'], ['Brewsters', 'Warbler'], ['Lawrences', 'Warbler'], ['Lawrences', 'Warbler'], ['Brewsters', 'Warbler'], ['Tennessee', 'Warbler'], ['BlueWinged', 'Warbler'], ['Nashville', 'Warbler'], ['Canada', 'Warbler'], ['Hooded', 'Warbler'], ['Wilsons', 'Warbler'], ['House', 'Sparrow'], ['BlueGray', 'Gnatcatcher'], ['RubyCrowned', 'Kinglet'], ['GoldenCrowned', 'Kinglet'], ['RedBreasted', 'Nuthatch'], ['WhiteBreasted', 'Nuthatch'], ['European', 'Starling'], ['Marsh', 'Wren'], ['Sedge', 'Wren'], ['Bewicks', 'Wren'], ['Appalachian', 'Bewicks', 'Wren'], ['Carolina', 'Wren'], ['House', 'Wren'], ['Winter', 'Wren'], ['Veery'], ['Hermit', 'Thrush'], ['GrayCheeked', 'Thrush'], ['Swainsons', 'Thrush'], ['Wood', 'Thrush'], ['Eastern', 'Bluebird'], ['American', 'Robin'], ['OliveSided', 'Flycatcher'], ['OliveSided', 'Flycatcher'], ['Eastern', 'WoodPewee'], ['Alder', 'Flycatcher'], ['YellowBellied', 'Flycatcher'], ['Least', 'Flycatcher'], ['Willow', 'Flycatcher'], ['Acadian', 'Flycatcher'], ['Great', 'Crested', 'Flycatcher'], ['Eastern', 'Phoebe'], ['ScissorTailed', 'Flycatcher'], ['ScissorTailed', 'Flycatcher'], ['Eastern', 'Kingbird'], ['Western', 'Kingbird'], ['YellowThroated', 'Vireo'], ['Warbling', 'Vireo'], ['WhiteEyed', 'Vireo'], ['RedEyed', 'Vireo'], ['Philadelphia', 'Vireo'], ['BlueHeaded', 'Vireo', 'Solitary'], ['Great', 'Egret'], ['Great', 'Egret'], ['Great', 'Blue', 'Heron'], ['American', 'Bittern'], ['GreenBacked', 'Heron'], ['Little', 'Blue', 'Heron'], ['Least', 'Bittern'], ['YellowCrowned', 'NightHeron'], ['BlackCrowned', 'NightHeron'], ['American', 'White', 'Pelican'], ['Northern', 'Flicker'], ['Pileated', 'Woodpecker'], ['RedBellied', 'Woodpecker'], ['RedHeaded', 'Woodpecker'], ['RedCockaded', 'Woodpecker'], ['Downy', 'Woodpecker'], ['Hairy', 'Woodpecker'], ['YellowBellied', 'Sapsucker'], ['Horned', 'Grebe'], ['PiedBilled', 'Grebe'], ['BandRumped', 'StormPetrel'], ['SawWhet', 'Owls'], ['Northern', 'SawWhet', 'Owl'], ['ShortEared', 'Owl'], ['LongEared', 'Owl'], ['Great', 'Horned', 'Owl'], ['Eastern', 'Screech', 'Owl', 'ScreechOwl'], ['Eastern', 'ScreechOwl'], ['Barred', 'Owl'], ['Barn', 'Owl', 'Common', 'BarnOwl'], ['BarnOwls'], ['DoubleCrested', 'Cormorant'], ['Eastern', 'Slender', 'Glass', 'Lizard'], ['Worm', 'Snakes', 'Wormsnakes'], ['Eastern', 'Worm', 'Snake'], ['Midwest', 'Worm', 'Snake'], ['Northern', 'Scarlet', 'Snake'], ['Northern', 'Black', 'Racer'], ['Northern', 'Ringneck', 'Snake'], ['Corn', 'Snake'], ['Black', 'Rat', 'Snake'], ['Eastern', 'Hognose', 'Snake'], ['Kingsnakes', 'Milk', 'Snakes'], ['Mole', 'Kingsnake'], ['Eastern', 'Kingsnake'], ['Black', 'Kingsnake'], ['Scarlet', 'Kingsnake'], ['Eastern', 'Milk', 'Snake'], ['Plainbelly', 'Water', 'Snake'], ['Yellowbelly', 'Water', 'Snake', 'Watersnake'], ['Northern', 'Water', 'Snake'], ['Eastern', 'Rough', 'Green', 'Snake'], ['Northern', 'Pine', 'Snake'], ['Queen', 'Snake'], ['Northern', 'Brown', 'Snake'], ['Midland', 'Brown', 'Snake'], ['Northern', 'Redbelly', 'Snake'], ['Southeastern', 'Crowned', 'Snake'], ['Common', 'Garter', 'Snake'], ['Eastern', 'Earth', 'Snake'], ['Northern', 'Green', 'Anole'], ['Northern', 'Fence', 'Lizard'], ['Coal', 'Skink'], ['FiveLined', 'Skink'], ['Southeastern', 'FiveLined', 'Skink'], ['Broadhead', 'Skink'], ['Ground', 'Skink'], ['Eastern', 'SixLined', 'Racerunner'], ['Northern', 'Copperhead'], ['Timber', 'Rattlesnake'], ['Common', 'Snapping', 'Turtle'], ['Midland', 'Painted', 'Turtle'], ['Eastern', 'Painted', 'Turtle'], ['Bog', 'Turtle'], ['Common', 'Map', 'Turtle'], ['Ouachita', 'Map', 'Turtle'], ['Eastern', 'Box', 'Turtle'], ['Slider'], ['Cumberland', 'Slider'], ['Stripeneck', 'Musk', 'Turtle', 'StripeNecked'], ['Common', 'Musk', 'Turtle'], ['Eastern', 'Spiny', 'Softshell', 'Northern', 'Turtle'], ['Eastern', 'American', 'Toad'], ['Fowlers', 'Toad', 'Woodhouses'], ['Northern', 'Cricket', 'Frog'], ['Copes', 'Gray', 'Treefrog'], ['Gray', 'Treefrog'], ['Mountain', 'Chorus', 'Frog'], ['Northern', 'Spring', 'Peeper'], ['Upland', 'Chorus', 'Frog'], ['Striped', 'Chorus', 'Frog', 'Western'], ['Eastern', 'NarrowMouthed', 'Toad'], ['American', 'Bullfrog'], ['Northern', 'Green', 'Frog'], ['Pickerel', 'Frog'], ['Northern', 'Leopard', 'Frog'], ['Southern', 'Leopard', 'Frog'], ['Wood', 'Frog'], ['Eastern', 'Spadefoot'], ['Spotted', 'Salamander'], ['Marbled', 'Salamander'], ['Mole', 'Salamander'], ['Eastern', 'Hellbender'], ['Spotted', 'Dusky', 'Salamander'], ['Imitator', 'Salamander'], ['ShovelNosed', 'Salamander'], ['Seal', 'Salamander'], ['Ocoee', 'Salamander'], ['BlackBellied', 'Salamander'], ['Santeetlah', 'Dusky', 'Salamander', 'Santleetlah', 'Yellow'], ['Pigmy', 'Salamander'], ['Brook', 'Salamanders'], ['Northern', 'TwoLined', 'Salamander'], ['Southern', 'TwoLined', 'Salamander'], ['ThreeLined', 'Salamander'], ['Junaluska', 'Salamander'], ['Longtail', 'Salamander'], ['Cave', 'Salamander'], ['Blue', 'Ridge', 'TwoLined', 'Salamander'], ['Spring', 'Salamander'], ['FourToed', 'Salamander'], ['Woodland', 'Salamanders'], ['Tellico', 'Salamander'], ['Eastern', 'RedBacked', 'Salamander', 'Redback'], ['Northern', 'Zigzag', 'Salamander'], ['Snorthern', 'Slimy', 'Salamander'], ['Appalachian', 'Salamander', 'Jordans'], ['Southern', 'GrayCheeked', 'Salamander'], ['Southern', 'Appalachian', 'Salamander'], ['Southern', 'RedBacked', 'Salamander'], ['Southern', 'Zigzag', 'Salamander'], ['Websters', 'Salamander'], ['Mud', 'Salamanders', 'Red', 'Amp'], ['Mud', 'Salamander'], ['Midland', 'Mud', 'Salamander'], ['Eastern', 'Mud', 'Salamander'], ['Blue', 'Ridge', 'Red', 'Salamander'], ['Northern', 'Red', 'Salamander'], ['Blackchin', 'Red', 'Salamander'], ['Mudpuppy'], ['Eastern', 'RedSpotted', 'Newt'], ['Brook', 'Silverside'], ['Gizzard', 'Shad'], ['White', 'Sucker'], ['Northern', 'Hog', 'Sucker'], ['River', 'Redhorse'], ['Black', 'Redhorse'], ['Golden', 'Redhorse'], ['Shorthead', 'Redhorse'], ['Central', 'Stoneroller'], ['Largescale', 'Stoneroller'], ['Goldfish'], ['Rosyside', 'Dace'], ['Smoky', 'Dace'], ['Whitetail', 'Shiner'], ['Whitetail', 'Shiner'], ['Spotfin', 'Shiner'], ['Spotfin', 'Shiner'], ['Blacktail', 'Shiner'], ['Blacktail', 'Shiner'], ['Common', 'Carp'], ['Spotfin', 'Chub'], ['Flame', 'Chub'], ['Bigeye', 'Chub'], ['Striped', 'Shiner'], ['Warpaint', 'Shiner'], ['Common', 'Shiner'], ['Mountain', 'Shiner'], ['River', 'Chub'], ['Emerald', 'Shiner'], ['Rough', 'Shiner'], ['Tennessee', 'Shiner'], ['Silver', 'Shiner'], ['Rosyface', 'Shiner'], ['Saffron', 'Shiner'], ['Mirror', 'Shiner'], ['Telescope', 'Shiner'], ['Mimic', 'Shiner'], ['Riffle', 'Minnow'], ['Fatlips', 'Minnow'], ['Stargazing', 'Minnow'], ['Mountain', 'Redbelly', 'Dace'], ['Tennessee', 'Dace'], ['Longnose', 'Dace'], ['Western', 'Blacknose', 'Dace'], ['Creek', 'Chub'], ['Northern', 'Studfish'], ['Mosquitofish', 'Western'], ['Eastern', 'Mosquitofish'], ['Muskellunge'], ['Rock', 'Bass'], ['Redbreast', 'Sunfish'], ['Green', 'Sunfish'], ['Pumpkinseed'], ['Warmouth'], ['Orangespotted', 'Sunfish'], ['Bluegill'], ['Longear', 'Sunfish'], ['Redear', 'Sunfish'], ['Smallmouth', 'Bass'], ['Spotted', 'Bass'], ['Largemouth', 'Bass'], ['Black', 'Crappie'], ['White', 'Bass'], ['Greenside', 'Darter'], ['Bluebreast', 'Darter'], ['Greenfin', 'Darter'], ['Fantail', 'Darter'], ['Tuckasegee', 'Darter'], ['Blueside', 'Darter'], ['Spotted', 'Darter'], ['Duskytail', 'Darter'], ['Redline', 'Darter'], ['Bloodfin', 'Darter', 'Spotted'], ['Snubnose', 'Darter', 'Tennessee'], ['Speckled', 'Darter'], ['Swannanoa', 'Darter'], ['Wounded', 'Darter'], ['Banded', 'Darter'], ['Yellow', 'Perch'], ['Tangerine', 'Darter'], ['Blotchside', 'Darter'], ['Logperch'], ['Gilt', 'Darter'], ['Olive', 'Darter'], ['Sauger'], ['Walleye'], ['Freshwater', 'Drum'], ['Chestnut', 'Lamprey'], ['Mountain', 'Brook', 'Lamprey'], ['American', 'Brook', 'Lamprey'], ['Rainbow', 'Trout'], ['Brown', 'Trout'], ['Brook', 'Trout'], ['Mottled', 'Sculpin'], ['Banded', 'Sculpin'], ['Longnose', 'Gar'], ['Black', 'Bullhead'], ['Yellow', 'Bullhead'], ['Blue', 'Catfish'], ['Channel', 'Catfish'], ['Smoky', 'Madtom'], ['Yellowfin', 'Madtom'], ['Stonecat'], ['Flathead', 'Catfish'], ['Antelope', 'Pronghorn'], ['Bison', 'Buffalo'], ['Mountain', 'Goat', 'Rocky'], ['Bighorn', 'Sheep'], ['Eurasian', 'Elk', 'Moose'], ['Yellowstone', 'Moose'], ['Rocky', 'Mountain', 'Elk'], ['Mule', 'Deer'], ['WhiteTailed', 'Deer'], ['Gray', 'Wolf'], ['Canada', 'Lynx', 'Canadian'], ['Cougar', 'Mountain', 'Lion', 'Puma'], ['Western', 'Spotted', 'Skunk'], ['Wolverine'], ['River', 'Otter'], ['Pine', 'Marten'], ['Ermine', 'Short', 'Tailed', 'Weasel'], ['American', 'Mink'], ['American', 'Badger'], ['Common', 'Raccoon', 'Northern'], ['American', 'Black', 'Bear'], ['Grizzly', 'Bear'], ['Pallid', 'Bat'], ['MuleEared', 'Bat', 'Pacific', 'Townsends', 'BigEared', 'Western', 'LongEared', 'LumpNosed'], ['Big', 'Brown', 'Bat'], ['Spotted', 'Bat'], ['SilverHaired', 'Bat'], ['Hoary', 'Bat'], ['California', 'Myotis', 'Californian'], ['SmallFooted', 'Myotis', 'Western', 'Bat'], ['LongEared', 'Myotis'], ['Little', 'Brown', 'Bat', 'Myotis'], ['Fringed', 'Myotis'], ['LongLegged', 'Myotis'], ['Yuma', 'Myotis'], ['WhiteTailed', 'Jack', 'Rabbit', 'Jackrabbit'], ['Desert', 'Cottontail'], ['Mountain', 'Cottontail'], ['American', 'Pika'], ['American', 'Beaver'], ['Sagebrush', 'Vole'], ['Coronation', 'Island', 'Vole', 'LongTailed'], ['Montane', 'Vole'], ['Richardson', 'Water', 'Vole'], ['BushyTailed', 'Woodrat'], ['Common', 'Muskrat', 'Muskbeaver'], ['Deer', 'Mouse', 'North', 'American', 'Deermouse'], ['Heather', 'Vole', 'Western'], ['Western', 'Jumping', 'Mouse'], ['Northern', 'Pocket', 'Gopher'], ['Northern', 'Flying', 'Squirrel'], ['YellowBellied', 'Marmot'], ['Yellow', 'Pine', 'Chipmunk'], ['Least', 'Chipmunk'], ['Uinta', 'Chipmunk'], ['Uinta', 'Ground', 'Squirrel'], ['GoldenMantled', 'Ground', 'Squirrel'], ['YellowPine', 'Chipmunk'], ['Least', 'Chipmunk'], ['Uinta', 'Chipmunk'], ['Cinereus', 'Shrew', 'Common', 'Masked'], ['American', 'Pygmy', 'Shrew'], ['Dusky', 'Shrew'], ['Dwarf', 'Shrew', 'Rocky', 'Mountain'], ['American', 'Water', 'Shrew', 'Northern'], ['Malheur', 'Shrew', 'Prebles'], ['Eurasian', 'CollaredDove'], ['RoughLegged', 'Hawk'], ['Ferruginous', 'Hawk'], ['Swainsons', 'Hawk'], ['Osprey', 'Western'], ['Cinnamon', 'Teal'], ['Eurasian', 'Wigeon'], ['Gadwall'], ['Greater', 'WhiteFronted', 'Goose'], ['Greater', 'Scaup'], ['Canvasback'], ['Brant', 'Goose', 'Brent'], ['Cackling', 'Goose'], ['Barrows', 'Goldeneye'], ['Blue', 'Goose', 'Snow'], ['Ross', 'Goose', 'Rosss'], ['LongTailed', 'Duck', 'Oldsquaw'], ['Trumpeter', 'Swan'], ['Tundra', 'Swan'], ['Whooper', 'Swan'], ['Surf', 'Scoter'], ['WhiteThroated', 'Swift'], ['Vauxs', 'Swift'], ['BroadTailed', 'Hummingbird'], ['Rufous', 'Hummingbird'], ['Calliope', 'Hummingbird'], ['Snowy', 'Plover'], ['BlackBellied', 'Plover'], ['Caspian', 'Tern'], ['European', 'Herring', 'Gull'], ['California', 'Gull'], ['Mew', 'Gull'], ['Franklins', 'Gull'], ['BlackLegged', 'Kittiwake'], ['Caspian', 'Tern'], ['Forsters', 'Tern'], ['Common', 'Tern'], ['Arctic', 'Tern'], ['Sabines', 'Gull'], ['BlackNecked', 'Stilt'], ['American', 'Avocet'], ['Ruddy', 'Turnstone'], ['Upland', 'Sandpiper'], ['Sanderling'], ['Dunlin'], ['Bairds', 'Sandpiper'], ['Red', 'Knot'], ['WhiteRumped', 'Sandpiper'], ['Stilt', 'Sandpiper'], ['Western', 'Sandpiper'], ['Pectoral', 'Sandpiper'], ['Wilsons', 'Snipe'], ['LongBilled', 'Dowitcher'], ['Marbled', 'Godwit'], ['Hudsonian', 'Godwit'], ['LongBilled', 'Curlew'], ['Wilsons', 'Phalarope'], ['Wandering', 'Tattler'], ['Willet'], ['Parasitic', 'Jaeger'], ['Wood', 'Stork'], ['Common', 'Pigeon', 'Rock', 'Dove'], ['BandTailed', 'Pigeon'], ['Eurasian', 'Collared', 'Dove', 'CollaredDove'], ['Crested', 'Caracara'], ['Prairie', 'Falcon'], ['American', 'Peregrine', 'Falcon'], ['Chukar', 'Partridge'], ['Greater', 'Sage', 'Grouse', 'SageGrouse'], ['Dusky', 'Grouse'], ['WhiteTailed', 'Ptarmigan'], ['Gray', 'Partridge', 'Grey'], ['SharpTailed', 'Grouse'], ['Common', 'Loon', 'Great', 'Northern', 'Diver'], ['Pacific', 'Diver', 'Loon'], ['RedThroated', 'Diver', 'Loon'], ['Yellow', 'Rail'], ['Bohemian', 'Waxwing'], ['Lapland', 'Longspur'], ['Mccowns', 'Longspur'], ['Lazuli', 'Bunting'], ['BlackHeaded', 'Grosbeak'], ['Western', 'Tanager'], ['American', 'Dipper'], ['Stellers', 'Jay'], ['Pinyon', 'Jay'], ['Clarks', 'Nutcracker'], ['Gray', 'Jay', 'Grey'], ['BlackBilled', 'Magpie'], ['BlackThroated', 'Sparrow'], ['Sagebrush', 'Sparrow'], ['Lark', 'Bunting'], ['Fox', 'Sparrow', 'Red'], ['GreenTailed', 'Towhee'], ['Spotted', 'Towhee'], ['BlackChinned', 'Sparrow'], ['Brewers', 'Sparrow'], ['ClayColored', 'Sparrow'], ['Harriss', 'Sparrow'], ['Common', 'Redpoll'], ['Cassins', 'Finch'], ['Black', 'RosyFinch'], ['GrayCrowned', 'RosyFinch'], ['Pine', 'Grosbeak'], ['Pine', 'Siskin'], ['Lesser', 'Goldfinch'], ['American', 'Goldfinch'], ['American', 'Cliff', 'Swallow'], ['Bank', 'Swallow', 'Sand', 'Martin'], ['VioletGreen', 'Swallow'], ['Brewers', 'Blackbird'], ['Bullocks', 'Oriole'], ['Western', 'Meadowlark'], ['Great', 'Grey', 'Shrike', 'Northern'], ['Gray', 'Catbird', 'Grey'], ['Northern', 'Mockingbird'], ['Sage', 'Thrasher'], ['American', 'Pipit'], ['Mountain', 'Chickadee'], ['Wilsons', 'Warbler'], ['OrangeCrowned', 'Warbler'], ['Tennessee', 'Warbler'], ['Nashville', 'Warbler'], ['Virginias', 'Warbler'], ['Ovenbird'], ['BayBreasted', 'Warbler'], ['Hooded', 'Warbler'], ['YellowRumped', 'Warbler'], ['Prairie', 'Warbler'], ['YellowThroated', 'Warbler'], ['Blackburnian', 'Warbler'], ['Palm', 'Warbler'], ['ChestnutSided', 'Warbler'], ['Yellow', 'Warbler'], ['Blackpoll', 'Warbler'], ['Cape', 'May', 'Warbler'], ['Townsends', 'Warbler'], ['BlueGray', 'Gnatcatcher', 'BlueGrey'], ['Phainopepla'], ['Pygmy', 'Nuthatch'], ['Common', 'Starling', 'European'], ['Canyon', 'Wren'], ['Rock', 'Wren'], ['Varied', 'Thrush'], ['Townsends', 'Solitaire'], ['Mountain', 'Bluebird'], ['Western', 'Bluebird'], ['Western', 'Wood', 'Pewee', 'WoodPewee'], ['Hammonds', 'Flycatcher'], ['Dusky', 'Flycatcher'], ['Cordilleran', 'Flycatcher'], ['Gray', 'Flycatcher', 'Grey'], ['AshThroated', 'Flycatcher'], ['Says', 'Phoebe'], ['BlueHeaded', 'Vireo'], ['Cattle', 'Egret', 'Western'], ['Green', 'Heron'], ['Snowy', 'Egret'], ['Tricolored', 'Heron'], ['WhiteFaced', 'Ibis'], ['Glossy', 'Ibis'], ['Lewis', 'Woodpecker', 'Lewiss'], ['WhiteHeaded', 'Woodpecker'], ['American', 'ThreeToed', 'Woodpecker'], ['RedNaped', 'Sapsucker'], ['Williamsons', 'Sapsucker'], ['Clarks', 'Grebe'], ['Western', 'Grebe'], ['RedNecked', 'Grebe'], ['BlackNecked', 'Grebe', 'Eared'], ['Flammulated', 'Owl'], ['Boreal', 'Owl'], ['Burrowing', 'Owl'], ['Snowy', 'Owl'], ['Mountain', 'Pygmy', 'Owl', 'Northern', 'PygmyOwl'], ['Eastern', 'ScreechOwl'], ['Western', 'ScreechOwl'], ['Great', 'Gray', 'Owl', 'Grey'], ['Rubber', 'Boa'], ['Racer'], ['Bullsnake'], ['Wandering', 'Garter', 'Snake'], ['Valley', 'Garter', 'Snake'], ['Greater', 'ShortHorned', 'Lizard'], ['Northern', 'Sagebrush', 'Lizard'], ['Prairie', 'Rattlesnake'], ['Western', 'Painted', 'Turtle'], ['Boreal', 'Toad'], ['Woodhouses', 'Toad'], ['Boreal', 'Chorus', 'Frog'], ['American', 'Bullfrog'], ['Columbia', 'Spotted', 'Frog'], ['Plains', 'Spadefoot'], ['Great', 'Basin', 'Spadefoot'], ['Blotched', 'Tiger', 'Salamander'], ['Utah', 'Sucker'], ['Longnose', 'Sucker'], ['Mountain', 'Sucker'], ['June', 'Sucker'], ['Lake', 'Chub'], ['Utah', 'Chub'], ['Speckled', 'Dace'], ['Redside', 'Shiner'], ['Finespotted', 'Snake', 'River', 'Cutthroat', 'Trout'], ['Yellowstone', 'Cutthroat', 'Trout'], ['Westslope', 'Cutthroat', 'Trout'], ['Rainbow', 'Trout'], ['Mountain', 'Whitefish'], ['Aurora', 'Trout', 'Brook', 'Charr', 'Coaster', 'Salter', 'Sea'], ['Lake', 'Trout'], ['Arctic', 'Grayling'], ['Mottled', 'Sculpin'], ['Sierra', 'Nevada', 'Bighorn', 'Sheep'], ['Pig', 'Feral', 'Wild', 'Boar'], ['Gray', 'Wolf'], ['Gray', 'Fox'], ['Sierra', 'Nevada', 'Red', 'Fox'], ['Mountain', 'Lion'], ['Spotted', 'Skunk'], ['American', 'Marten'], ['Ermine'], ['American', 'Mink'], ['Fisher'], ['Badger'], ['Ringtail'], ['Raccoon'], ['Brown', 'Bear', 'Grizzly'], ['Western', 'Mastiff', 'Bat'], ['Mexican', 'FreeTailed', 'Bat'], ['Townsends', 'BigEared', 'Bat'], ['Western', 'Red', 'Bat'], ['California', 'Myotis'], ['SmallFooted', 'Myotis'], ['Little', 'Brown', 'Myotis'], ['Canyon', 'Bat'], ['Virginia', 'Opossum'], ['Sierra', 'Nevada', 'Snowshoe', 'Hare'], ['Western', 'WhiteTailed', 'Jackrabbit'], ['Brush', 'Rabbit'], ['Pika'], ['Sierra', 'Nevada', 'Mountain', 'Beaver'], ['Beaver'], ['California', 'Meadow', 'Mouse'], ['LongTailed', 'Vole'], ['BigEared', 'Woodrat'], ['BigEared', 'Woodrat'], ['Brush', 'Deermouse', 'Mouse'], ['California', 'Mouse'], ['PiOn', 'Deermouse', 'Mouse', 'Pinyon'], ['Western', 'Harvest', 'Mouse'], ['Porcupine'], ['Bottas', 'Pocket', 'Gopher'], ['Mountain', 'Pocket', 'Gopher'], ['California', 'Pocket', 'Mouse'], ['GoldenMantled', 'Ground', 'Squirrel'], ['California', 'Ground', 'Squirrel'], ['Western', 'Gray', 'Squirrel'], ['Alpine', 'Chipmunk'], ['Merriams', 'Chipmunk'], ['LongEared', 'Chipmunk'], ['Allens', 'Chipmunk', 'Shadow'], ['Lodgepole', 'Chipmunk'], ['Inyo', 'Chipmunk'], ['Chickaree'], ['Beldings', 'Ground', 'Squirrel'], ['Mount', 'Lyell', 'Shrew'], ['Montane', 'Shrew'], ['Inyo', 'Shrew'], ['Trowbridges', 'Shrew'], ['BroadFooted', 'Mole'], ['WhiteTailed', 'Kite'], ['California', 'Condor'], ['Calliope', 'Hummingbird'], ['Black', 'Swift'], ['BlackChinned', 'Hummingbird'], ['Annas', 'Hummingbird'], ['Allens', 'Hummingbird'], ['Common', 'Poorwill'], ['Spotted', 'Sandpiper'], ['Rock', 'Pigeon'], ['Eurasian', 'Collared', 'Dove'], ['Belted', 'Kingfisher'], ['Greater', 'Roadrunner'], ['California', 'Quail'], ['Mountain', 'Quail'], ['Greater', 'SageGrouse'], ['Sooty', 'Grouse'], ['Pacific', 'Loon'], ['House', 'Finch'], ['Purple', 'Finch'], ['Bushtit'], ['Blue', 'Grosbeak'], ['Western', 'ScrubJay'], ['BlackBilled', 'Magpie'], ['YellowBilled', 'Magpie'], ['RufousCrowned', 'Sparrow'], ['Sage', 'Sparrow'], ['GrayHeaded', 'Junco'], ['SlateColored', 'Junco'], ['Oregon', 'Junco'], ['California', 'Towhee'], ['Gambels', 'WhiteCrowned', 'Sparrow'], ['Mountain', 'WhiteCrowned', 'Sparrow'], ['Cassins', 'Finch'], ['GrayCrowned', 'Rosy', 'Finch'], ['Lawrences', 'Goldfinch'], ['Scotts', 'Oriole'], ['GreatTailed', 'Grackle'], ['Northern', 'Shrike'], ['California', 'Thrasher'], ['Oak', 'Titmouse'], ['ChestnutBacked', 'Chickadee'], ['Macgillivrays', 'Warbler'], ['Painted', 'Redstart'], ['Northern', 'Parula'], ['Cerulean', 'Warbler'], ['Audubons', 'Warbler'], ['Myrtle', 'Warbler', 'YellowRumped'], ['Magnolia', 'Warbler'], ['BlackThroated', 'Gray', 'Warbler'], ['Hermit', 'Warbler'], ['Wrentit'], ['Pacific', 'Wren'], ['Western', 'WoodPewee'], ['PacificSlope', 'Flycatcher'], ['Gray', 'Flycatcher'], ['Vermilion', 'Flycatcher'], ['Black', 'Phoebe'], ['Cassins', 'Vireo'], ['Huttons', 'Vireo'], ['BlackCrowned', 'Night', 'Heron'], ['Brown', 'Pelican'], ['Acorn', 'Woodpecker'], ['Lewiss', 'Woodpecker'], ['Nuttalls', 'Woodpecker'], ['RedBreasted', 'Sapsucker'], ['Eared', 'Grebe'], ['Northern', 'Pygmy', 'Owl'], ['Flammulated', 'Owl'], ['Great', 'Gray', 'Owl'], ['Spotted', 'Owl'], ['Barn', 'Owl'], ['Sierra', 'Northern', 'Alligator', 'Lizard'], ['San', 'Diego', 'Southern', 'Alligator', 'Lizard'], ['Northern', 'Rubber', 'Boa'], ['Western', 'YellowBellied', 'Racer'], ['SharpTailed', 'Snake'], ['Ringneck', 'Snake', 'RingNecked'], ['California', 'Nightsnake'], ['California', 'Kingsnake'], ['Sierra', 'Mountain', 'Kingsnake'], ['California', 'Striped', 'Racer', 'Whipsnake'], ['Pacific', 'Gopher', 'Snake'], ['Sierra', 'Aquatic', 'Garter', 'Snake'], ['Mountain', 'Terrestrial', 'Garter', 'Snake'], ['Coast', 'Horned', 'Lizard'], ['Sagebrush', 'Lizard'], ['Western', 'Fence', 'Lizard'], ['Gilberts', 'Skink'], ['Western', 'Skink'], ['California', 'Western', 'Whiptail'], ['Northern', 'Pacific', 'Rattlesnake'], ['California', 'Toad', 'Western'], ['Yosemite', 'Toad'], ['Northern', 'Pacific', 'Treefrog', 'Chorus', 'Frog'], ['Bullfrog'], ['California', 'RedLegged', 'Frog'], ['Sierra', 'Nevada', 'YellowLegged', 'Frog'], ['Arboreal', 'Salamander'], ['Hell', 'Hollow', 'Slender', 'Salamander'], ['Gregarius', 'Slender', 'Salamander'], ['Sierra', 'Nevada', 'Ensatina'], ['YellowEyed', 'Ensatina'], ['Mount', 'Lyell', 'Salamander'], ['Sierra', 'Newt'], ['Sacramento', 'Sucker'], ['Hardhead'], ['Sacramento', 'Pikeminnow'], ['Lahontan', 'Cutthroat', 'Trout'], ['California', 'Golden', 'Trout'], ['Riffle', 'Sculpin']]\n"
     ]
    }
   ],
   "source": [
    "no_duplicate_words = []\n",
    "for item in common_name_words:\n",
    "    item = list(dict.fromkeys(item))\n",
    "    no_duplicate_words.append(item)\n",
    "print(no_duplicate_words)"
   ]
  },
  {
   "cell_type": "markdown",
   "metadata": {},
   "source": [
    "Next the words need to be collapsed into one list for easier use."
   ]
  },
  {
   "cell_type": "code",
   "execution_count": 27,
   "metadata": {},
   "outputs": [
    {
     "name": "stdout",
     "output_type": "stream",
     "text": [
      "2334\n"
     ]
    }
   ],
   "source": [
    "flat_list = []\n",
    "for sublist in no_duplicate_words:\n",
    "    for item in sublist:\n",
    "        flat_list.append(item)\n",
    "print(len(flat_list))"
   ]
  },
  {
   "cell_type": "markdown",
   "metadata": {},
   "source": [
    "Now the data is ready to be able to count the number of occurrences of each word. From this analysis, it seems that `Bat` occurred 23 times while `Shrew` came up 18 times."
   ]
  },
  {
   "cell_type": "code",
   "execution_count": 26,
   "metadata": {},
   "outputs": [
    {
     "data": {
      "text/html": [
       "<div>\n",
       "<style scoped>\n",
       "    .dataframe tbody tr th:only-of-type {\n",
       "        vertical-align: middle;\n",
       "    }\n",
       "\n",
       "    .dataframe tbody tr th {\n",
       "        vertical-align: top;\n",
       "    }\n",
       "\n",
       "    .dataframe thead th {\n",
       "        text-align: right;\n",
       "    }\n",
       "</style>\n",
       "<table border=\"1\" class=\"dataframe\">\n",
       "  <thead>\n",
       "    <tr style=\"text-align: right;\">\n",
       "      <th></th>\n",
       "      <th>Word</th>\n",
       "      <th>Count</th>\n",
       "    </tr>\n",
       "  </thead>\n",
       "  <tbody>\n",
       "    <tr>\n",
       "      <th>643</th>\n",
       "      <td>Warbler</td>\n",
       "      <td>59</td>\n",
       "    </tr>\n",
       "    <tr>\n",
       "      <th>763</th>\n",
       "      <td>Northern</td>\n",
       "      <td>53</td>\n",
       "    </tr>\n",
       "    <tr>\n",
       "      <th>664</th>\n",
       "      <td>Salamander</td>\n",
       "      <td>41</td>\n",
       "    </tr>\n",
       "    <tr>\n",
       "      <th>371</th>\n",
       "      <td>Eastern</td>\n",
       "      <td>39</td>\n",
       "    </tr>\n",
       "    <tr>\n",
       "      <th>827</th>\n",
       "      <td>American</td>\n",
       "      <td>37</td>\n",
       "    </tr>\n",
       "    <tr>\n",
       "      <th>542</th>\n",
       "      <td>Western</td>\n",
       "      <td>31</td>\n",
       "    </tr>\n",
       "    <tr>\n",
       "      <th>524</th>\n",
       "      <td>Common</td>\n",
       "      <td>31</td>\n",
       "    </tr>\n",
       "    <tr>\n",
       "      <th>680</th>\n",
       "      <td>Sparrow</td>\n",
       "      <td>29</td>\n",
       "    </tr>\n",
       "    <tr>\n",
       "      <th>293</th>\n",
       "      <td>Snake</td>\n",
       "      <td>28</td>\n",
       "    </tr>\n",
       "    <tr>\n",
       "      <th>499</th>\n",
       "      <td>Mountain</td>\n",
       "      <td>23</td>\n",
       "    </tr>\n",
       "  </tbody>\n",
       "</table>\n",
       "</div>"
      ],
      "text/plain": [
       "           Word  Count\n",
       "643     Warbler     59\n",
       "763    Northern     53\n",
       "664  Salamander     41\n",
       "371     Eastern     39\n",
       "827    American     37\n",
       "542     Western     31\n",
       "524      Common     31\n",
       "680     Sparrow     29\n",
       "293       Snake     28\n",
       "499    Mountain     23"
      ]
     },
     "execution_count": 26,
     "metadata": {},
     "output_type": "execute_result"
    }
   ],
   "source": [
    "words_counted = []\n",
    "\n",
    "for i in flat_list:\n",
    "    x = flat_list.count(i)\n",
    "    words_counted.append((i,x))\n",
    "\n",
    "pd.DataFrame(set(words_counted), columns =['Word', 'Count']).sort_values(\"Count\", ascending = False).head(10)"
   ]
  },
  {
   "cell_type": "markdown",
   "metadata": {},
   "source": [
    "In the data, there are several different scientific names for different types of bats.  The next task is to figure out which rows of `species` are referring to bats. A new column made up of boolean values will be created to check if `is_bat` is `True`."
   ]
  },
  {
   "cell_type": "code",
   "execution_count": 24,
   "metadata": {},
   "outputs": [
    {
     "data": {
      "text/html": [
       "<div>\n",
       "<style scoped>\n",
       "    .dataframe tbody tr th:only-of-type {\n",
       "        vertical-align: middle;\n",
       "    }\n",
       "\n",
       "    .dataframe tbody tr th {\n",
       "        vertical-align: top;\n",
       "    }\n",
       "\n",
       "    .dataframe thead th {\n",
       "        text-align: right;\n",
       "    }\n",
       "</style>\n",
       "<table border=\"1\" class=\"dataframe\">\n",
       "  <thead>\n",
       "    <tr style=\"text-align: right;\">\n",
       "      <th></th>\n",
       "      <th>category</th>\n",
       "      <th>scientific_name</th>\n",
       "      <th>common_names</th>\n",
       "      <th>conservation_status</th>\n",
       "      <th>is_protected</th>\n",
       "      <th>is_bat</th>\n",
       "    </tr>\n",
       "  </thead>\n",
       "  <tbody>\n",
       "    <tr>\n",
       "      <th>0</th>\n",
       "      <td>Mammal</td>\n",
       "      <td>Clethrionomys gapperi gapperi</td>\n",
       "      <td>Gapper's Red-Backed Vole</td>\n",
       "      <td>No Intervention</td>\n",
       "      <td>False</td>\n",
       "      <td>False</td>\n",
       "    </tr>\n",
       "    <tr>\n",
       "      <th>1</th>\n",
       "      <td>Mammal</td>\n",
       "      <td>Bos bison</td>\n",
       "      <td>American Bison, Bison</td>\n",
       "      <td>No Intervention</td>\n",
       "      <td>False</td>\n",
       "      <td>False</td>\n",
       "    </tr>\n",
       "    <tr>\n",
       "      <th>2</th>\n",
       "      <td>Mammal</td>\n",
       "      <td>Bos taurus</td>\n",
       "      <td>Aurochs, Aurochs, Domestic Cattle (Feral), Dom...</td>\n",
       "      <td>No Intervention</td>\n",
       "      <td>False</td>\n",
       "      <td>False</td>\n",
       "    </tr>\n",
       "    <tr>\n",
       "      <th>3</th>\n",
       "      <td>Mammal</td>\n",
       "      <td>Ovis aries</td>\n",
       "      <td>Domestic Sheep, Mouflon, Red Sheep, Sheep (Feral)</td>\n",
       "      <td>No Intervention</td>\n",
       "      <td>False</td>\n",
       "      <td>False</td>\n",
       "    </tr>\n",
       "    <tr>\n",
       "      <th>4</th>\n",
       "      <td>Mammal</td>\n",
       "      <td>Cervus elaphus</td>\n",
       "      <td>Wapiti Or Elk</td>\n",
       "      <td>No Intervention</td>\n",
       "      <td>False</td>\n",
       "      <td>False</td>\n",
       "    </tr>\n",
       "    <tr>\n",
       "      <th>5</th>\n",
       "      <td>Mammal</td>\n",
       "      <td>Odocoileus virginianus</td>\n",
       "      <td>White-Tailed Deer</td>\n",
       "      <td>No Intervention</td>\n",
       "      <td>False</td>\n",
       "      <td>False</td>\n",
       "    </tr>\n",
       "    <tr>\n",
       "      <th>6</th>\n",
       "      <td>Mammal</td>\n",
       "      <td>Sus scrofa</td>\n",
       "      <td>Feral Hog, Wild Pig</td>\n",
       "      <td>No Intervention</td>\n",
       "      <td>False</td>\n",
       "      <td>False</td>\n",
       "    </tr>\n",
       "    <tr>\n",
       "      <th>7</th>\n",
       "      <td>Mammal</td>\n",
       "      <td>Canis latrans</td>\n",
       "      <td>Coyote</td>\n",
       "      <td>Species of Concern</td>\n",
       "      <td>True</td>\n",
       "      <td>False</td>\n",
       "    </tr>\n",
       "    <tr>\n",
       "      <th>8</th>\n",
       "      <td>Mammal</td>\n",
       "      <td>Canis lupus</td>\n",
       "      <td>Gray Wolf</td>\n",
       "      <td>Endangered</td>\n",
       "      <td>True</td>\n",
       "      <td>False</td>\n",
       "    </tr>\n",
       "    <tr>\n",
       "      <th>9</th>\n",
       "      <td>Mammal</td>\n",
       "      <td>Canis rufus</td>\n",
       "      <td>Red Wolf</td>\n",
       "      <td>Endangered</td>\n",
       "      <td>True</td>\n",
       "      <td>False</td>\n",
       "    </tr>\n",
       "  </tbody>\n",
       "</table>\n",
       "</div>"
      ],
      "text/plain": [
       "  category                scientific_name  \\\n",
       "0   Mammal  Clethrionomys gapperi gapperi   \n",
       "1   Mammal                      Bos bison   \n",
       "2   Mammal                     Bos taurus   \n",
       "3   Mammal                     Ovis aries   \n",
       "4   Mammal                 Cervus elaphus   \n",
       "5   Mammal         Odocoileus virginianus   \n",
       "6   Mammal                     Sus scrofa   \n",
       "7   Mammal                  Canis latrans   \n",
       "8   Mammal                    Canis lupus   \n",
       "9   Mammal                    Canis rufus   \n",
       "\n",
       "                                        common_names conservation_status  \\\n",
       "0                           Gapper's Red-Backed Vole     No Intervention   \n",
       "1                              American Bison, Bison     No Intervention   \n",
       "2  Aurochs, Aurochs, Domestic Cattle (Feral), Dom...     No Intervention   \n",
       "3  Domestic Sheep, Mouflon, Red Sheep, Sheep (Feral)     No Intervention   \n",
       "4                                      Wapiti Or Elk     No Intervention   \n",
       "5                                  White-Tailed Deer     No Intervention   \n",
       "6                                Feral Hog, Wild Pig     No Intervention   \n",
       "7                                             Coyote  Species of Concern   \n",
       "8                                          Gray Wolf          Endangered   \n",
       "9                                           Red Wolf          Endangered   \n",
       "\n",
       "   is_protected  is_bat  \n",
       "0         False   False  \n",
       "1         False   False  \n",
       "2         False   False  \n",
       "3         False   False  \n",
       "4         False   False  \n",
       "5         False   False  \n",
       "6         False   False  \n",
       "7          True   False  \n",
       "8          True   False  \n",
       "9          True   False  "
      ]
     },
     "execution_count": 24,
     "metadata": {},
     "output_type": "execute_result"
    }
   ],
   "source": []
  },
  {
   "cell_type": "markdown",
   "metadata": {},
   "source": [
    "Here is a subset of the data where `is_bat` is true, returning see the rows that matched. There seems to be a lot of species of bats and a mix of protected vs. non-protected species. "
   ]
  },
  {
   "cell_type": "code",
   "execution_count": 25,
   "metadata": {},
   "outputs": [
    {
     "data": {
      "text/html": [
       "<div>\n",
       "<style scoped>\n",
       "    .dataframe tbody tr th:only-of-type {\n",
       "        vertical-align: middle;\n",
       "    }\n",
       "\n",
       "    .dataframe tbody tr th {\n",
       "        vertical-align: top;\n",
       "    }\n",
       "\n",
       "    .dataframe thead th {\n",
       "        text-align: right;\n",
       "    }\n",
       "</style>\n",
       "<table border=\"1\" class=\"dataframe\">\n",
       "  <thead>\n",
       "    <tr style=\"text-align: right;\">\n",
       "      <th></th>\n",
       "      <th>category</th>\n",
       "      <th>scientific_name</th>\n",
       "      <th>common_names</th>\n",
       "      <th>conservation_status</th>\n",
       "      <th>is_protected</th>\n",
       "      <th>is_bat</th>\n",
       "    </tr>\n",
       "  </thead>\n",
       "  <tbody>\n",
       "    <tr>\n",
       "      <th>28</th>\n",
       "      <td>Mammal</td>\n",
       "      <td>Corynorhinus rafinesquii</td>\n",
       "      <td>Rafinesque's Big-Eared Bat</td>\n",
       "      <td>No Intervention</td>\n",
       "      <td>False</td>\n",
       "      <td>True</td>\n",
       "    </tr>\n",
       "    <tr>\n",
       "      <th>29</th>\n",
       "      <td>Mammal</td>\n",
       "      <td>Eptesicus fuscus</td>\n",
       "      <td>Big Brown Bat</td>\n",
       "      <td>Species of Concern</td>\n",
       "      <td>True</td>\n",
       "      <td>True</td>\n",
       "    </tr>\n",
       "    <tr>\n",
       "      <th>30</th>\n",
       "      <td>Mammal</td>\n",
       "      <td>Lasionycteris noctivagans</td>\n",
       "      <td>Silver-Haired Bat</td>\n",
       "      <td>Species of Concern</td>\n",
       "      <td>True</td>\n",
       "      <td>True</td>\n",
       "    </tr>\n",
       "    <tr>\n",
       "      <th>31</th>\n",
       "      <td>Mammal</td>\n",
       "      <td>Lasiurus borealis</td>\n",
       "      <td>Eastern Red Bat, Red Bat</td>\n",
       "      <td>No Intervention</td>\n",
       "      <td>False</td>\n",
       "      <td>True</td>\n",
       "    </tr>\n",
       "    <tr>\n",
       "      <th>32</th>\n",
       "      <td>Mammal</td>\n",
       "      <td>Lasiurus cinereus</td>\n",
       "      <td>Hoary Bat</td>\n",
       "      <td>No Intervention</td>\n",
       "      <td>False</td>\n",
       "      <td>True</td>\n",
       "    </tr>\n",
       "    <tr>\n",
       "      <th>36</th>\n",
       "      <td>Mammal</td>\n",
       "      <td>Myotis leibii</td>\n",
       "      <td>Eastern Small-Footed Bat, Eastern Small-Footed...</td>\n",
       "      <td>Species of Concern</td>\n",
       "      <td>True</td>\n",
       "      <td>True</td>\n",
       "    </tr>\n",
       "    <tr>\n",
       "      <th>37</th>\n",
       "      <td>Mammal</td>\n",
       "      <td>Myotis lucifugus</td>\n",
       "      <td>Little Brown Bat, Little Brown Myotis</td>\n",
       "      <td>Species of Concern</td>\n",
       "      <td>True</td>\n",
       "      <td>True</td>\n",
       "    </tr>\n",
       "    <tr>\n",
       "      <th>38</th>\n",
       "      <td>Mammal</td>\n",
       "      <td>Myotis septentrionalis</td>\n",
       "      <td>Northern Long-Eared Bat, Northern Myotis</td>\n",
       "      <td>Threatened</td>\n",
       "      <td>True</td>\n",
       "      <td>True</td>\n",
       "    </tr>\n",
       "    <tr>\n",
       "      <th>39</th>\n",
       "      <td>Mammal</td>\n",
       "      <td>Myotis sodalis</td>\n",
       "      <td>Indiana Bat, Indiana Or Social Myotis</td>\n",
       "      <td>Endangered</td>\n",
       "      <td>True</td>\n",
       "      <td>True</td>\n",
       "    </tr>\n",
       "    <tr>\n",
       "      <th>40</th>\n",
       "      <td>Mammal</td>\n",
       "      <td>Nycticeius humeralis</td>\n",
       "      <td>Evening Bat</td>\n",
       "      <td>No Intervention</td>\n",
       "      <td>False</td>\n",
       "      <td>True</td>\n",
       "    </tr>\n",
       "    <tr>\n",
       "      <th>3033</th>\n",
       "      <td>Mammal</td>\n",
       "      <td>Antrozous pallidus</td>\n",
       "      <td>Pallid Bat, Pallid Bat</td>\n",
       "      <td>Species of Concern</td>\n",
       "      <td>True</td>\n",
       "      <td>True</td>\n",
       "    </tr>\n",
       "    <tr>\n",
       "      <th>3034</th>\n",
       "      <td>Mammal</td>\n",
       "      <td>Corynorhinus townsendii</td>\n",
       "      <td>Mule-Eared Bat, Pacific Townsend's Big-Eared B...</td>\n",
       "      <td>No Intervention</td>\n",
       "      <td>False</td>\n",
       "      <td>True</td>\n",
       "    </tr>\n",
       "    <tr>\n",
       "      <th>3035</th>\n",
       "      <td>Mammal</td>\n",
       "      <td>Eptesicus fuscus</td>\n",
       "      <td>Big Brown Bat, Big Brown Bat</td>\n",
       "      <td>Species of Concern</td>\n",
       "      <td>True</td>\n",
       "      <td>True</td>\n",
       "    </tr>\n",
       "    <tr>\n",
       "      <th>3036</th>\n",
       "      <td>Mammal</td>\n",
       "      <td>Euderma maculatum</td>\n",
       "      <td>Spotted Bat, Spotted Bat</td>\n",
       "      <td>Species of Concern</td>\n",
       "      <td>True</td>\n",
       "      <td>True</td>\n",
       "    </tr>\n",
       "    <tr>\n",
       "      <th>3037</th>\n",
       "      <td>Mammal</td>\n",
       "      <td>Lasionycteris noctivagans</td>\n",
       "      <td>Silver-Haired Bat, Silver-Haired Bat</td>\n",
       "      <td>Species of Concern</td>\n",
       "      <td>True</td>\n",
       "      <td>True</td>\n",
       "    </tr>\n",
       "    <tr>\n",
       "      <th>3038</th>\n",
       "      <td>Mammal</td>\n",
       "      <td>Lasiurus cinereus</td>\n",
       "      <td>Hoary Bat, Hoary Bat</td>\n",
       "      <td>No Intervention</td>\n",
       "      <td>False</td>\n",
       "      <td>True</td>\n",
       "    </tr>\n",
       "    <tr>\n",
       "      <th>3040</th>\n",
       "      <td>Mammal</td>\n",
       "      <td>Myotis ciliolabrum</td>\n",
       "      <td>Small-Footed Myotis, Western Small-Footed Bat,...</td>\n",
       "      <td>No Intervention</td>\n",
       "      <td>False</td>\n",
       "      <td>True</td>\n",
       "    </tr>\n",
       "    <tr>\n",
       "      <th>3042</th>\n",
       "      <td>Mammal</td>\n",
       "      <td>Myotis lucifugus</td>\n",
       "      <td>Little Brown Bat, Little Brown Myotis, Little ...</td>\n",
       "      <td>Species of Concern</td>\n",
       "      <td>True</td>\n",
       "      <td>True</td>\n",
       "    </tr>\n",
       "    <tr>\n",
       "      <th>4461</th>\n",
       "      <td>Mammal</td>\n",
       "      <td>Eumops perotis</td>\n",
       "      <td>Western Mastiff Bat</td>\n",
       "      <td>No Intervention</td>\n",
       "      <td>False</td>\n",
       "      <td>True</td>\n",
       "    </tr>\n",
       "    <tr>\n",
       "      <th>4462</th>\n",
       "      <td>Mammal</td>\n",
       "      <td>Tadarida brasiliensis</td>\n",
       "      <td>Mexican Free-Tailed Bat</td>\n",
       "      <td>No Intervention</td>\n",
       "      <td>False</td>\n",
       "      <td>True</td>\n",
       "    </tr>\n",
       "    <tr>\n",
       "      <th>4463</th>\n",
       "      <td>Mammal</td>\n",
       "      <td>Corynorhinus townsendii</td>\n",
       "      <td>Townsend's Big-Eared Bat</td>\n",
       "      <td>No Intervention</td>\n",
       "      <td>False</td>\n",
       "      <td>True</td>\n",
       "    </tr>\n",
       "    <tr>\n",
       "      <th>4464</th>\n",
       "      <td>Mammal</td>\n",
       "      <td>Lasiurus blossevillii</td>\n",
       "      <td>Western Red Bat</td>\n",
       "      <td>Species of Concern</td>\n",
       "      <td>True</td>\n",
       "      <td>True</td>\n",
       "    </tr>\n",
       "    <tr>\n",
       "      <th>4468</th>\n",
       "      <td>Mammal</td>\n",
       "      <td>Parastrellus hesperus</td>\n",
       "      <td>Canyon Bat</td>\n",
       "      <td>No Intervention</td>\n",
       "      <td>False</td>\n",
       "      <td>True</td>\n",
       "    </tr>\n",
       "  </tbody>\n",
       "</table>\n",
       "</div>"
      ],
      "text/plain": [
       "     category            scientific_name  \\\n",
       "28     Mammal   Corynorhinus rafinesquii   \n",
       "29     Mammal           Eptesicus fuscus   \n",
       "30     Mammal  Lasionycteris noctivagans   \n",
       "31     Mammal          Lasiurus borealis   \n",
       "32     Mammal          Lasiurus cinereus   \n",
       "36     Mammal              Myotis leibii   \n",
       "37     Mammal           Myotis lucifugus   \n",
       "38     Mammal     Myotis septentrionalis   \n",
       "39     Mammal             Myotis sodalis   \n",
       "40     Mammal       Nycticeius humeralis   \n",
       "3033   Mammal         Antrozous pallidus   \n",
       "3034   Mammal    Corynorhinus townsendii   \n",
       "3035   Mammal           Eptesicus fuscus   \n",
       "3036   Mammal          Euderma maculatum   \n",
       "3037   Mammal  Lasionycteris noctivagans   \n",
       "3038   Mammal          Lasiurus cinereus   \n",
       "3040   Mammal         Myotis ciliolabrum   \n",
       "3042   Mammal           Myotis lucifugus   \n",
       "4461   Mammal             Eumops perotis   \n",
       "4462   Mammal      Tadarida brasiliensis   \n",
       "4463   Mammal    Corynorhinus townsendii   \n",
       "4464   Mammal      Lasiurus blossevillii   \n",
       "4468   Mammal      Parastrellus hesperus   \n",
       "\n",
       "                                           common_names conservation_status  \\\n",
       "28                           Rafinesque's Big-Eared Bat     No Intervention   \n",
       "29                                        Big Brown Bat  Species of Concern   \n",
       "30                                    Silver-Haired Bat  Species of Concern   \n",
       "31                             Eastern Red Bat, Red Bat     No Intervention   \n",
       "32                                            Hoary Bat     No Intervention   \n",
       "36    Eastern Small-Footed Bat, Eastern Small-Footed...  Species of Concern   \n",
       "37                Little Brown Bat, Little Brown Myotis  Species of Concern   \n",
       "38             Northern Long-Eared Bat, Northern Myotis          Threatened   \n",
       "39                Indiana Bat, Indiana Or Social Myotis          Endangered   \n",
       "40                                          Evening Bat     No Intervention   \n",
       "3033                             Pallid Bat, Pallid Bat  Species of Concern   \n",
       "3034  Mule-Eared Bat, Pacific Townsend's Big-Eared B...     No Intervention   \n",
       "3035                       Big Brown Bat, Big Brown Bat  Species of Concern   \n",
       "3036                           Spotted Bat, Spotted Bat  Species of Concern   \n",
       "3037               Silver-Haired Bat, Silver-Haired Bat  Species of Concern   \n",
       "3038                               Hoary Bat, Hoary Bat     No Intervention   \n",
       "3040  Small-Footed Myotis, Western Small-Footed Bat,...     No Intervention   \n",
       "3042  Little Brown Bat, Little Brown Myotis, Little ...  Species of Concern   \n",
       "4461                                Western Mastiff Bat     No Intervention   \n",
       "4462                            Mexican Free-Tailed Bat     No Intervention   \n",
       "4463                           Townsend's Big-Eared Bat     No Intervention   \n",
       "4464                                    Western Red Bat  Species of Concern   \n",
       "4468                                         Canyon Bat     No Intervention   \n",
       "\n",
       "      is_protected  is_bat  \n",
       "28           False    True  \n",
       "29            True    True  \n",
       "30            True    True  \n",
       "31           False    True  \n",
       "32           False    True  \n",
       "36            True    True  \n",
       "37            True    True  \n",
       "38            True    True  \n",
       "39            True    True  \n",
       "40           False    True  \n",
       "3033          True    True  \n",
       "3034         False    True  \n",
       "3035          True    True  \n",
       "3036          True    True  \n",
       "3037          True    True  \n",
       "3038         False    True  \n",
       "3040         False    True  \n",
       "3042          True    True  \n",
       "4461         False    True  \n",
       "4462         False    True  \n",
       "4463         False    True  \n",
       "4464          True    True  \n",
       "4468         False    True  "
      ]
     },
     "execution_count": 25,
     "metadata": {},
     "output_type": "execute_result"
    }
   ],
   "source": []
  },
  {
   "cell_type": "markdown",
   "metadata": {},
   "source": [
    "Next the results of the bat species will be merged with `observations` to create a `DataFrame` with observations of bats across the four national parks.  "
   ]
  },
  {
   "cell_type": "code",
   "execution_count": 26,
   "metadata": {},
   "outputs": [
    {
     "data": {
      "text/html": [
       "<div>\n",
       "<style scoped>\n",
       "    .dataframe tbody tr th:only-of-type {\n",
       "        vertical-align: middle;\n",
       "    }\n",
       "\n",
       "    .dataframe tbody tr th {\n",
       "        vertical-align: top;\n",
       "    }\n",
       "\n",
       "    .dataframe thead th {\n",
       "        text-align: right;\n",
       "    }\n",
       "</style>\n",
       "<table border=\"1\" class=\"dataframe\">\n",
       "  <thead>\n",
       "    <tr style=\"text-align: right;\">\n",
       "      <th></th>\n",
       "      <th>scientific_name</th>\n",
       "      <th>park_name</th>\n",
       "      <th>observations</th>\n",
       "      <th>category</th>\n",
       "      <th>common_names</th>\n",
       "      <th>conservation_status</th>\n",
       "      <th>is_protected</th>\n",
       "      <th>is_bat</th>\n",
       "    </tr>\n",
       "  </thead>\n",
       "  <tbody>\n",
       "    <tr>\n",
       "      <th>0</th>\n",
       "      <td>Lasiurus blossevillii</td>\n",
       "      <td>Bryce National Park</td>\n",
       "      <td>113</td>\n",
       "      <td>Mammal</td>\n",
       "      <td>Western Red Bat</td>\n",
       "      <td>Species of Concern</td>\n",
       "      <td>True</td>\n",
       "      <td>True</td>\n",
       "    </tr>\n",
       "    <tr>\n",
       "      <th>1</th>\n",
       "      <td>Lasiurus blossevillii</td>\n",
       "      <td>Great Smoky Mountains National Park</td>\n",
       "      <td>70</td>\n",
       "      <td>Mammal</td>\n",
       "      <td>Western Red Bat</td>\n",
       "      <td>Species of Concern</td>\n",
       "      <td>True</td>\n",
       "      <td>True</td>\n",
       "    </tr>\n",
       "    <tr>\n",
       "      <th>2</th>\n",
       "      <td>Lasiurus blossevillii</td>\n",
       "      <td>Yosemite National Park</td>\n",
       "      <td>123</td>\n",
       "      <td>Mammal</td>\n",
       "      <td>Western Red Bat</td>\n",
       "      <td>Species of Concern</td>\n",
       "      <td>True</td>\n",
       "      <td>True</td>\n",
       "    </tr>\n",
       "    <tr>\n",
       "      <th>3</th>\n",
       "      <td>Lasiurus blossevillii</td>\n",
       "      <td>Yellowstone National Park</td>\n",
       "      <td>221</td>\n",
       "      <td>Mammal</td>\n",
       "      <td>Western Red Bat</td>\n",
       "      <td>Species of Concern</td>\n",
       "      <td>True</td>\n",
       "      <td>True</td>\n",
       "    </tr>\n",
       "    <tr>\n",
       "      <th>4</th>\n",
       "      <td>Corynorhinus rafinesquii</td>\n",
       "      <td>Yosemite National Park</td>\n",
       "      <td>188</td>\n",
       "      <td>Mammal</td>\n",
       "      <td>Rafinesque's Big-Eared Bat</td>\n",
       "      <td>No Intervention</td>\n",
       "      <td>False</td>\n",
       "      <td>True</td>\n",
       "    </tr>\n",
       "    <tr>\n",
       "      <th>...</th>\n",
       "      <td>...</td>\n",
       "      <td>...</td>\n",
       "      <td>...</td>\n",
       "      <td>...</td>\n",
       "      <td>...</td>\n",
       "      <td>...</td>\n",
       "      <td>...</td>\n",
       "      <td>...</td>\n",
       "    </tr>\n",
       "    <tr>\n",
       "      <th>139</th>\n",
       "      <td>Myotis sodalis</td>\n",
       "      <td>Yellowstone National Park</td>\n",
       "      <td>68</td>\n",
       "      <td>Mammal</td>\n",
       "      <td>Indiana Bat, Indiana Or Social Myotis</td>\n",
       "      <td>Endangered</td>\n",
       "      <td>True</td>\n",
       "      <td>True</td>\n",
       "    </tr>\n",
       "    <tr>\n",
       "      <th>140</th>\n",
       "      <td>Myotis leibii</td>\n",
       "      <td>Yosemite National Park</td>\n",
       "      <td>132</td>\n",
       "      <td>Mammal</td>\n",
       "      <td>Eastern Small-Footed Bat, Eastern Small-Footed...</td>\n",
       "      <td>Species of Concern</td>\n",
       "      <td>True</td>\n",
       "      <td>True</td>\n",
       "    </tr>\n",
       "    <tr>\n",
       "      <th>141</th>\n",
       "      <td>Myotis leibii</td>\n",
       "      <td>Bryce National Park</td>\n",
       "      <td>84</td>\n",
       "      <td>Mammal</td>\n",
       "      <td>Eastern Small-Footed Bat, Eastern Small-Footed...</td>\n",
       "      <td>Species of Concern</td>\n",
       "      <td>True</td>\n",
       "      <td>True</td>\n",
       "    </tr>\n",
       "    <tr>\n",
       "      <th>142</th>\n",
       "      <td>Myotis leibii</td>\n",
       "      <td>Great Smoky Mountains National Park</td>\n",
       "      <td>49</td>\n",
       "      <td>Mammal</td>\n",
       "      <td>Eastern Small-Footed Bat, Eastern Small-Footed...</td>\n",
       "      <td>Species of Concern</td>\n",
       "      <td>True</td>\n",
       "      <td>True</td>\n",
       "    </tr>\n",
       "    <tr>\n",
       "      <th>143</th>\n",
       "      <td>Myotis leibii</td>\n",
       "      <td>Yellowstone National Park</td>\n",
       "      <td>233</td>\n",
       "      <td>Mammal</td>\n",
       "      <td>Eastern Small-Footed Bat, Eastern Small-Footed...</td>\n",
       "      <td>Species of Concern</td>\n",
       "      <td>True</td>\n",
       "      <td>True</td>\n",
       "    </tr>\n",
       "  </tbody>\n",
       "</table>\n",
       "<p>144 rows × 8 columns</p>\n",
       "</div>"
      ],
      "text/plain": [
       "              scientific_name                            park_name  \\\n",
       "0       Lasiurus blossevillii                  Bryce National Park   \n",
       "1       Lasiurus blossevillii  Great Smoky Mountains National Park   \n",
       "2       Lasiurus blossevillii               Yosemite National Park   \n",
       "3       Lasiurus blossevillii            Yellowstone National Park   \n",
       "4    Corynorhinus rafinesquii               Yosemite National Park   \n",
       "..                        ...                                  ...   \n",
       "139            Myotis sodalis            Yellowstone National Park   \n",
       "140             Myotis leibii               Yosemite National Park   \n",
       "141             Myotis leibii                  Bryce National Park   \n",
       "142             Myotis leibii  Great Smoky Mountains National Park   \n",
       "143             Myotis leibii            Yellowstone National Park   \n",
       "\n",
       "     observations category                                       common_names  \\\n",
       "0             113   Mammal                                    Western Red Bat   \n",
       "1              70   Mammal                                    Western Red Bat   \n",
       "2             123   Mammal                                    Western Red Bat   \n",
       "3             221   Mammal                                    Western Red Bat   \n",
       "4             188   Mammal                         Rafinesque's Big-Eared Bat   \n",
       "..            ...      ...                                                ...   \n",
       "139            68   Mammal              Indiana Bat, Indiana Or Social Myotis   \n",
       "140           132   Mammal  Eastern Small-Footed Bat, Eastern Small-Footed...   \n",
       "141            84   Mammal  Eastern Small-Footed Bat, Eastern Small-Footed...   \n",
       "142            49   Mammal  Eastern Small-Footed Bat, Eastern Small-Footed...   \n",
       "143           233   Mammal  Eastern Small-Footed Bat, Eastern Small-Footed...   \n",
       "\n",
       "    conservation_status  is_protected  is_bat  \n",
       "0    Species of Concern          True    True  \n",
       "1    Species of Concern          True    True  \n",
       "2    Species of Concern          True    True  \n",
       "3    Species of Concern          True    True  \n",
       "4       No Intervention         False    True  \n",
       "..                  ...           ...     ...  \n",
       "139          Endangered          True    True  \n",
       "140  Species of Concern          True    True  \n",
       "141  Species of Concern          True    True  \n",
       "142  Species of Concern          True    True  \n",
       "143  Species of Concern          True    True  \n",
       "\n",
       "[144 rows x 8 columns]"
      ]
     },
     "execution_count": 26,
     "metadata": {},
     "output_type": "execute_result"
    }
   ],
   "source": []
  },
  {
   "cell_type": "markdown",
   "metadata": {},
   "source": [
    "Let's see how many total bat observations(across all species) were made at each national park.  \n",
    "\n",
    "The total number of bats observed in each park over the past 7 days are in the table below. Yellowstone National Park seems to have the largest with 8,362 observations and the Great Smoky Mountains National Park having the lowest with 2,411. "
   ]
  },
  {
   "cell_type": "code",
   "execution_count": 27,
   "metadata": {},
   "outputs": [
    {
     "data": {
      "text/html": [
       "<div>\n",
       "<style scoped>\n",
       "    .dataframe tbody tr th:only-of-type {\n",
       "        vertical-align: middle;\n",
       "    }\n",
       "\n",
       "    .dataframe tbody tr th {\n",
       "        vertical-align: top;\n",
       "    }\n",
       "\n",
       "    .dataframe thead th {\n",
       "        text-align: right;\n",
       "    }\n",
       "</style>\n",
       "<table border=\"1\" class=\"dataframe\">\n",
       "  <thead>\n",
       "    <tr style=\"text-align: right;\">\n",
       "      <th></th>\n",
       "      <th>park_name</th>\n",
       "      <th>observations</th>\n",
       "    </tr>\n",
       "  </thead>\n",
       "  <tbody>\n",
       "    <tr>\n",
       "      <th>0</th>\n",
       "      <td>Bryce National Park</td>\n",
       "      <td>3433</td>\n",
       "    </tr>\n",
       "    <tr>\n",
       "      <th>1</th>\n",
       "      <td>Great Smoky Mountains National Park</td>\n",
       "      <td>2411</td>\n",
       "    </tr>\n",
       "    <tr>\n",
       "      <th>2</th>\n",
       "      <td>Yellowstone National Park</td>\n",
       "      <td>8362</td>\n",
       "    </tr>\n",
       "    <tr>\n",
       "      <th>3</th>\n",
       "      <td>Yosemite National Park</td>\n",
       "      <td>4786</td>\n",
       "    </tr>\n",
       "  </tbody>\n",
       "</table>\n",
       "</div>"
      ],
      "text/plain": [
       "                             park_name  observations\n",
       "0                  Bryce National Park          3433\n",
       "1  Great Smoky Mountains National Park          2411\n",
       "2            Yellowstone National Park          8362\n",
       "3               Yosemite National Park          4786"
      ]
     },
     "execution_count": 27,
     "metadata": {},
     "output_type": "execute_result"
    }
   ],
   "source": []
  },
  {
   "cell_type": "markdown",
   "metadata": {},
   "source": [
    "Now let's see each park broken down by protected bats vs. non-protected bat sightings. It seems that every park except for the Great Smoky Mountains National Park has more sightings of protected bats than not. This could be considered a great sign for bats."
   ]
  },
  {
   "cell_type": "code",
   "execution_count": 28,
   "metadata": {},
   "outputs": [
    {
     "data": {
      "text/html": [
       "<div>\n",
       "<style scoped>\n",
       "    .dataframe tbody tr th:only-of-type {\n",
       "        vertical-align: middle;\n",
       "    }\n",
       "\n",
       "    .dataframe tbody tr th {\n",
       "        vertical-align: top;\n",
       "    }\n",
       "\n",
       "    .dataframe thead th {\n",
       "        text-align: right;\n",
       "    }\n",
       "</style>\n",
       "<table border=\"1\" class=\"dataframe\">\n",
       "  <thead>\n",
       "    <tr style=\"text-align: right;\">\n",
       "      <th></th>\n",
       "      <th>park_name</th>\n",
       "      <th>is_protected</th>\n",
       "      <th>observations</th>\n",
       "    </tr>\n",
       "  </thead>\n",
       "  <tbody>\n",
       "    <tr>\n",
       "      <th>0</th>\n",
       "      <td>Bryce National Park</td>\n",
       "      <td>False</td>\n",
       "      <td>1596</td>\n",
       "    </tr>\n",
       "    <tr>\n",
       "      <th>1</th>\n",
       "      <td>Bryce National Park</td>\n",
       "      <td>True</td>\n",
       "      <td>1837</td>\n",
       "    </tr>\n",
       "    <tr>\n",
       "      <th>2</th>\n",
       "      <td>Great Smoky Mountains National Park</td>\n",
       "      <td>False</td>\n",
       "      <td>1299</td>\n",
       "    </tr>\n",
       "    <tr>\n",
       "      <th>3</th>\n",
       "      <td>Great Smoky Mountains National Park</td>\n",
       "      <td>True</td>\n",
       "      <td>1112</td>\n",
       "    </tr>\n",
       "    <tr>\n",
       "      <th>4</th>\n",
       "      <td>Yellowstone National Park</td>\n",
       "      <td>False</td>\n",
       "      <td>4044</td>\n",
       "    </tr>\n",
       "    <tr>\n",
       "      <th>5</th>\n",
       "      <td>Yellowstone National Park</td>\n",
       "      <td>True</td>\n",
       "      <td>4318</td>\n",
       "    </tr>\n",
       "    <tr>\n",
       "      <th>6</th>\n",
       "      <td>Yosemite National Park</td>\n",
       "      <td>False</td>\n",
       "      <td>2345</td>\n",
       "    </tr>\n",
       "    <tr>\n",
       "      <th>7</th>\n",
       "      <td>Yosemite National Park</td>\n",
       "      <td>True</td>\n",
       "      <td>2441</td>\n",
       "    </tr>\n",
       "  </tbody>\n",
       "</table>\n",
       "</div>"
      ],
      "text/plain": [
       "                             park_name  is_protected  observations\n",
       "0                  Bryce National Park         False          1596\n",
       "1                  Bryce National Park          True          1837\n",
       "2  Great Smoky Mountains National Park         False          1299\n",
       "3  Great Smoky Mountains National Park          True          1112\n",
       "4            Yellowstone National Park         False          4044\n",
       "5            Yellowstone National Park          True          4318\n",
       "6               Yosemite National Park         False          2345\n",
       "7               Yosemite National Park          True          2441"
      ]
     },
     "execution_count": 28,
     "metadata": {},
     "output_type": "execute_result"
    }
   ],
   "source": []
  },
  {
   "cell_type": "markdown",
   "metadata": {},
   "source": [
    "Below is a plot from the output of the last data manipulation. From this chart one can see that Yellowstone and Bryce National Parks seem to be doing a great job with their bat populations since there are more sightings of protected bats compared to non-protected species. The Great Smoky Mountains National Park might need to beef up there efforts in conservation as they have seen more non-protected species."
   ]
  },
  {
   "cell_type": "code",
   "execution_count": 29,
   "metadata": {
    "scrolled": true
   },
   "outputs": [
    {
     "data": {
      "image/png": "[encoded data removed]",
      "text/plain": [
       "<Figure size 1152x288 with 1 Axes>"
      ]
     },
     "metadata": {
      "needs_background": "light"
     },
     "output_type": "display_data"
    }
   ],
   "source": []
  },
  {
   "cell_type": "markdown",
   "metadata": {},
   "source": [
    "## Conclusions\n",
    "\n",
    "The project was able to make several data visualizations and inferences about the various species in four of the National Parks that comprised this data set.\n",
    "\n",
    "This project was also able to answer some of the questions first posed in the beginning:\n",
    "\n",
    "- What is the distribution of conservation status for species?\n",
    "    - The vast majority of species were not part of conservation.(5,633 vs 191)\n",
    "- Are certain types of species more likely to be endangered?\n",
    "    - Mammals and Birds had the highest percentage of being in protection.\n",
    "- Are the differences between species and their conservation status significant?\n",
    "    - While mammals and Birds did not have significant difference in conservation percentage, mammals and reptiles exhibited a statistically significant difference.\n",
    "- Which animal is most prevalent and what is their distribution amongst parks?\n",
    "    - the study found that bats occurred the most number of times and they were most likely to be found in Yellowstone National Park.\n"
   ]
  },
  {
   "cell_type": "markdown",
   "metadata": {},
   "source": [
    "## Further Research \n",
    "\n",
    "This dataset only included observations from the last 7 days which prohibits analyze changes over time. It would be curious to see how the conservation status for various species changes over time. Another piece that is missing is the Area of each park, it can be assumed that Yellowstone National Park might be much larger than the other parks which would mean that it would exhibit more observations and greater biodiversity. Lastly, if precise locations were recorded, the spatial distribution of the species could also be observed and test if these observations are spatially clustered. "
   ]
  }
 ],
 "metadata": {
  "kernelspec": {
   "display_name": "Python 3 (ipykernel)",
   "language": "python",
   "name": "python3"
  },
  "language_info": {
   "codemirror_mode": {
    "name": "ipython",
    "version": 3
   },
   "file_extension": ".py",
   "mimetype": "text/x-python",
   "name": "python",
   "nbconvert_exporter": "python",
   "pygments_lexer": "ipython3",
   "version": "3.9.12"
  }
 },
 "nbformat": 4,
 "nbformat_minor": 2
}
