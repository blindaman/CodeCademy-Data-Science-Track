{
 "cells": [
  {
   "cell_type": "markdown",
   "metadata": {},
   "source": [
    "# U.S. Medical Insurance Costs"
   ]
  },
  {
   "cell_type": "markdown",
   "metadata": {},
   "source": [
    "## Import dataset"
   ]
  },
  {
   "cell_type": "code",
   "execution_count": 35,
   "metadata": {},
   "outputs": [],
   "source": [
    "import csv\n",
    "\n",
    "with open('insurance.csv') as insurance_records:\n",
    "    insurance_records_list = list(csv.reader(insurance_records))\n",
    "    # Line below removes the CSV header.\n",
    "    # Columns represent age [0], gender [1], BMI [2], number of children [3], smoking status [4], region [5], and insurance_cost [6]\n",
    "    insurance_records_list.pop(0)\n",
    "    #print(insurance_records_list)\n",
    "    # Convert age, BMI, number of children, and insurance cost into ints and floats to do math\n",
    "    for row in insurance_records_list:\n",
    "        row[0] = int(row[0])\n",
    "        row[2] = float(row[2])\n",
    "        row[3] = float(row[3])\n",
    "        row[6] = float(row[6])\n",
    "\n",
    "# The print command below prints out the list of dictionaries where each sub-list is a medical record    \n",
    "# print(insurance_records_list)"
   ]
  },
  {
   "cell_type": "markdown",
   "metadata": {},
   "source": [
    "## Convert list of lists into list of dictionaries"
   ]
  },
  {
   "cell_type": "code",
   "execution_count": 36,
   "metadata": {},
   "outputs": [],
   "source": [
    "insurance_records_dict = []\n",
    "for row in range(len(insurance_records_list)):\n",
    "    age = insurance_records_list[row][0]\n",
    "    sex = insurance_records_list[row][1]\n",
    "    BMI = insurance_records_list[row][2]\n",
    "    num_children = insurance_records_list[row][3]\n",
    "    smoking_status = insurance_records_list[row][4]\n",
    "    region = insurance_records_list[row][5]\n",
    "    insurance_cost = insurance_records_list[row][6]\n",
    "    \n",
    "    insurance_records_dict.append({\"age\": age, \n",
    "                                  \"sex\": sex, \n",
    "                                  \"bmi\": BMI, \n",
    "                                  \"children\": num_children, \n",
    "                                  \"smoker\": smoking_status, \n",
    "                                  \"region\": region,\n",
    "                                  \"charges\": insurance_cost})\n",
    "# The print command below prints out the list of dictionaries where each dictionary is a medical record\n",
    "# print(insurance_records_dict)"
   ]
  },
  {
   "cell_type": "markdown",
   "metadata": {},
   "source": [
    "#### Attempt to read .csv as a dict from the outset and compare to previous result"
   ]
  },
  {
   "cell_type": "code",
   "execution_count": 37,
   "metadata": {},
   "outputs": [],
   "source": [
    "import csv\n",
    "\n",
    "with open('insurance.csv') as insurance_records:\n",
    "    insurance_records_dict_2 = list(csv.DictReader(insurance_records))\n",
    "# The following for loop formats string data into integers and floats\n",
    "for record in insurance_records_dict_2:\n",
    "    record[\"age\"] = int(record[\"age\"])\n",
    "    record[\"bmi\"] = float(record[\"bmi\"] )\n",
    "    record[\"children\"] = int(record[\"children\"])\n",
    "    record[\"charges\"] = float(record[\"charges\"])\n",
    "# print(insurance_records_dict_2)"
   ]
  },
  {
   "cell_type": "markdown",
   "metadata": {},
   "source": [
    "The above attempt seems to work but be careful. The header of the .csv determines what the keys will be using the method above. Reading the .csv first as a list and then appending each row of the list to an empty list as a dictionary object allows you to choose your header. You could also change the headers of the .csv to what you want before doing opening the file in Python and avoid all of this."
   ]
  },
  {
   "cell_type": "markdown",
   "metadata": {},
   "source": [
    "## Age"
   ]
  },
  {
   "cell_type": "code",
   "execution_count": 38,
   "metadata": {
    "scrolled": true
   },
   "outputs": [
    {
     "name": "stdout",
     "output_type": "stream",
     "text": [
      "Maximum age in dataset is 64\n",
      "Minimum age in dataset is 18\n",
      "\n",
      "Number of records for people of each age shown below:\n",
      "{18: 69, 19: 68, 20: 29, 21: 28, 22: 28, 23: 28, 24: 28, 25: 28, 26: 28, 27: 28, 28: 28, 29: 27, 30: 27, 31: 27, 32: 26, 33: 26, 34: 26, 35: 25, 36: 25, 37: 25, 38: 25, 39: 25, 40: 27, 41: 27, 42: 27, 43: 27, 44: 27, 45: 29, 46: 29, 47: 29, 48: 29, 49: 28, 50: 29, 51: 29, 52: 29, 53: 28, 54: 28, 55: 26, 56: 26, 57: 26, 58: 25, 59: 25, 60: 23, 61: 23, 62: 23, 63: 23, 64: 22}\n",
      "\n",
      "There are 1338 records in insurance.csv\n",
      "age_records implies there are 1338 records in insurance.csv\n"
     ]
    }
   ],
   "source": [
    "age_max = 0\n",
    "age_min = 100\n",
    "for row in insurance_records_list:\n",
    "    if row[0] > age_max:\n",
    "        age_max = row[0]\n",
    "        \n",
    "    if row[0] < age_min:\n",
    "        age_min = row[0]\n",
    "        \n",
    "print(\"Maximum age in dataset is \" + str(age_max)) \n",
    "print(\"Minimum age in dataset is \" + str(age_min) +\"\\n\")\n",
    "\n",
    "# Create a range of ages and an array of zeros\n",
    "ages = range(age_min, age_max + 1)\n",
    "count = [0] * len(ages)\n",
    "\n",
    "# Apparently a list and range object can be zipped together and it works fine\n",
    "age_counter = dict(zip(ages, count))\n",
    "\n",
    "for key in age_counter:\n",
    "    for record in insurance_records_dict:\n",
    "        if record[\"age\"] == key:\n",
    "            age_counter[key] += 1\n",
    "print(\"Number of records for people of each age shown below:\")\n",
    "print(age_counter)\n",
    "\n",
    "# Check how many records are in the CSV. Should be 1338. There are 1339 rows in CSV file but the first is the header so\n",
    "# 1339 - 1 = 1338\n",
    "number_of_records = len(insurance_records_dict)\n",
    "print(\"\\nThere are \" + str(number_of_records) + \" records in insurance.csv\")\n",
    "\n",
    "# Verify the number of records for each age recorded in age_counter adds up to 1338\n",
    "total_records_accounted_for_by_age_counter = 0\n",
    "for age in age_counter:\n",
    "    total_records_accounted_for_by_age_counter += age_counter[age]\n",
    "print(\"age_records implies there are \" + str(total_records_accounted_for_by_age_counter) + \" records in insurance.csv\")    \n"
   ]
  },
  {
   "cell_type": "markdown",
   "metadata": {},
   "source": [
    "Iterate thorugh insurance records dictionary and calculate average charges for each age"
   ]
  },
  {
   "cell_type": "code",
   "execution_count": 39,
   "metadata": {},
   "outputs": [
    {
     "name": "stdout",
     "output_type": "stream",
     "text": [
      "Average cost of charges for each age is shown below:\n",
      "{18: 7086.22, 19: 9747.91, 20: 10159.7, 21: 4730.46, 22: 10012.93, 23: 12419.82, 24: 10648.02, 25: 9838.37, 26: 6133.83, 27: 12184.7, 28: 9069.19, 29: 10430.16, 30: 12719.11, 31: 10196.98, 32: 9220.3, 33: 12351.53, 34: 11613.53, 35: 11307.18, 36: 12204.48, 37: 18019.91, 38: 8102.73, 39: 11778.24, 40: 11772.25, 41: 9653.75, 42: 13061.04, 43: 19267.28, 44: 15859.4, 45: 14830.2, 46: 14342.59, 47: 17654.0, 48: 14632.5, 49: 12696.01, 50: 15663.0, 51: 15682.26, 52: 18256.27, 53: 16020.93, 54: 18758.55, 55: 16164.55, 56: 15025.52, 57: 16447.19, 58: 13878.93, 59: 18895.87, 60: 21979.42, 61: 22024.46, 62: 19163.86, 63: 19885.0, 64: 23275.53}\n"
     ]
    }
   ],
   "source": [
    "age_avg_cost_dict = {}\n",
    "for age in ages:\n",
    "    total_cost_for_particular_age = 0\n",
    "    for record in insurance_records_dict:\n",
    "        if age == record['age']:\n",
    "            total_cost_for_particular_age += record['charges']\n",
    "    average_cost = total_cost_for_particular_age / age_counter[age]\n",
    "    age_avg_cost_dict[age] = round(average_cost, 2)\n",
    "print(\"Average cost of charges for each age is shown below:\")\n",
    "print(age_avg_cost_dict)"
   ]
  },
  {
   "cell_type": "markdown",
   "metadata": {},
   "source": [
    "# Region"
   ]
  },
  {
   "cell_type": "code",
   "execution_count": 40,
   "metadata": {
    "scrolled": true
   },
   "outputs": [
    {
     "name": "stdout",
     "output_type": "stream",
     "text": [
      "Possible regions are shown below:\n",
      "['southwest', 'southeast', 'northwest', 'northeast']\n",
      "{'southwest': 325, 'southeast': 364, 'northwest': 325, 'northeast': 324}\n"
     ]
    }
   ],
   "source": [
    "regions = []\n",
    "for row in insurance_records_dict:\n",
    "    patient_region = row[\"region\"]\n",
    "    if patient_region not in regions:\n",
    "        regions.append(patient_region)\n",
    "print(\"Possible regions are shown below:\")\n",
    "print(regions)\n",
    "count = [0] * len(regions)\n",
    "region_counter = dict(zip(regions, count))\n",
    "\n",
    "# Figure out how many records are from each region\n",
    "for region in regions:\n",
    "    total_cost_for_particular_region = 0\n",
    "    for record in insurance_records_dict:\n",
    "        if region == record['region']:\n",
    "            region_counter[region] += 1\n",
    "print(region_counter)"
   ]
  },
  {
   "cell_type": "markdown",
   "metadata": {},
   "source": [
    "## Calcuate the average charges for each region"
   ]
  },
  {
   "cell_type": "code",
   "execution_count": 41,
   "metadata": {},
   "outputs": [
    {
     "name": "stdout",
     "output_type": "stream",
     "text": [
      "Average charges for each region is shown below:\n",
      "{'southwest': 12346.94, 'southeast': 14735.41, 'northwest': 12417.58, 'northeast': 13406.38}\n"
     ]
    }
   ],
   "source": [
    "region_avg_cost_dict = {}\n",
    "for region in regions:\n",
    "    total_cost_for_particular_region = 0\n",
    "    for record in insurance_records_dict:\n",
    "        if region == record['region']:\n",
    "            total_cost_for_particular_region += record['charges']\n",
    "    average_cost = total_cost_for_particular_region / region_counter[region]\n",
    "    region_avg_cost_dict[region] = round(average_cost, 2)\n",
    "print(\"Average charges for each region is shown below:\")\n",
    "print(region_avg_cost_dict)"
   ]
  },
  {
   "cell_type": "markdown",
   "metadata": {},
   "source": [
    "## Smoking Status"
   ]
  },
  {
   "cell_type": "code",
   "execution_count": 42,
   "metadata": {},
   "outputs": [
    {
     "name": "stdout",
     "output_type": "stream",
     "text": [
      "Possible smoking statuses are shown below:\n",
      "['yes', 'no']\n",
      "{'yes': 274, 'no': 1064}\n"
     ]
    }
   ],
   "source": [
    "smokers = []\n",
    "for row in insurance_records_dict:\n",
    "    patient_smoker = row[\"smoker\"]\n",
    "    if patient_smoker not in smokers:\n",
    "        smokers.append(patient_smoker)\n",
    "print(\"Possible smoking statuses are shown below:\")\n",
    "print(smokers)\n",
    "count = [0] * len(smokers)\n",
    "smoker_counter = dict(zip(smokers, count))\n",
    "\n",
    "# Figure out how many records are from each smoking status\n",
    "for smoker in smokers:\n",
    "    total_cost_for_particular_smoker = 0\n",
    "    for record in insurance_records_dict:\n",
    "        if smoker == record['smoker']:\n",
    "            smoker_counter[smoker] += 1\n",
    "# Number of yes plus number of no should equal 1338\n",
    "print(smoker_counter)"
   ]
  },
  {
   "cell_type": "markdown",
   "metadata": {},
   "source": [
    "Calculate the average charges for smokers vs non-smokers"
   ]
  },
  {
   "cell_type": "code",
   "execution_count": 43,
   "metadata": {},
   "outputs": [
    {
     "name": "stdout",
     "output_type": "stream",
     "text": [
      "{'yes': 274, 'no': 1064}\n",
      "Average cost of charges for each smoking status is shown below:\n",
      "{'yes': 32050.23, 'no': 8434.27}\n"
     ]
    }
   ],
   "source": [
    "smoker_avg_cost_dict = {}\n",
    "# The .csv header for smoker status is just 'smoker', but smoking status is used in some variable names\n",
    "for smoking_status in smokers:\n",
    "    total_cost_for_particular_smoking_status = 0\n",
    "    for record in insurance_records_dict:\n",
    "        if smoking_status == record['smoker']:\n",
    "            total_cost_for_particular_smoking_status += record['charges']\n",
    "    average_cost = total_cost_for_particular_smoking_status / smoker_counter[smoking_status]\n",
    "    smoker_avg_cost_dict[smoking_status] = round(average_cost, 2)\n",
    "print(smoker_counter)\n",
    "print(\"Average cost of charges for each smoking status is shown below:\")\n",
    "print(smoker_avg_cost_dict)"
   ]
  },
  {
   "cell_type": "markdown",
   "metadata": {},
   "source": [
    "## BMI"
   ]
  },
  {
   "cell_type": "markdown",
   "metadata": {},
   "source": [
    "### List possible BMI values rounded to nearest integer and how many records have a BMI closest to that integer"
   ]
  },
  {
   "cell_type": "code",
   "execution_count": 44,
   "metadata": {},
   "outputs": [
    {
     "name": "stdout",
     "output_type": "stream",
     "text": [
      "Possible BMIs are shown below:\n",
      "[16, 17, 18, 19, 20, 21, 22, 23, 24, 25, 26, 27, 28, 29, 30, 31, 32, 33, 34, 35, 36, 37, 38, 39, 40, 41, 42, 43, 44, 45, 46, 47, 48, 49, 50, 53]\n",
      "\n",
      "Number of records for people of each BMI shown below:\n",
      "{16: 1, 17: 9, 18: 11, 19: 8, 20: 24, 21: 23, 22: 35, 23: 50, 24: 57, 25: 62, 26: 70, 27: 62, 28: 101, 29: 70, 30: 102, 31: 76, 32: 83, 33: 77, 34: 77, 35: 45, 36: 63, 37: 58, 38: 38, 39: 26, 40: 35, 41: 19, 42: 16, 43: 10, 44: 6, 45: 6, 46: 4, 47: 6, 48: 4, 49: 1, 50: 1, 53: 2}\n",
      "\n",
      "There are 1338 records in insurance.csv\n",
      "bmi_counter implies there are 1338 records in insurance.csv\n"
     ]
    }
   ],
   "source": [
    "bmis = []\n",
    "for row in insurance_records_dict:\n",
    "    # BMI records are rounded because some records give values to the thousandths place and some are less specific\n",
    "    # Also removing decimal places makes the dictionary easier to read\n",
    "    patient_bmi = round(row[\"bmi\"])\n",
    "    if patient_bmi not in bmis:\n",
    "        bmis.append(patient_bmi)\n",
    "bmis.sort()\n",
    "print(\"Possible BMIs are shown below:\")\n",
    "\n",
    "print(bmis)\n",
    "count = [0] * len(bmis)\n",
    "bmi_counter = dict(zip(bmis, count))\n",
    "\n",
    "# Figure out how many records are from each BMI\n",
    "for bmi in bmis:\n",
    "    for record in insurance_records_dict:\n",
    "        # BMI records are rounded because some records give values to the thousandths place and some are less specific\n",
    "        # Also removing decimal places makes the dictionary easier to read\n",
    "        if bmi == round(record['bmi']):\n",
    "            bmi_counter[bmi] += 1\n",
    "            \n",
    "print(\"\\nNumber of records for people of each BMI shown below:\")            \n",
    "print(bmi_counter)\n",
    "# Check how many records are in the CSV. Should be 1338. There are 1339 rows in CSV file but the first is the header so\n",
    "# 1339 - 1 = 1338\n",
    "number_of_records = len(insurance_records_dict)\n",
    "print(\"\\nThere are \" + str(number_of_records) + \" records in insurance.csv\")\n",
    "\n",
    "# Verify the number of records for each age recorded in bmi_counter adds up to 1338\n",
    "total_records_accounted_for_by_bmi_counter = 0\n",
    "for bmi in bmi_counter:\n",
    "    total_records_accounted_for_by_bmi_counter += bmi_counter[bmi]\n",
    "print(\"bmi_counter implies there are \" + str(total_records_accounted_for_by_bmi_counter) + \" records in insurance.csv\") "
   ]
  },
  {
   "cell_type": "markdown",
   "metadata": {},
   "source": [
    "### Calculate the average charges by nearest BMI"
   ]
  },
  {
   "cell_type": "code",
   "execution_count": 45,
   "metadata": {
    "tags": []
   },
   "outputs": [
    {
     "name": "stdout",
     "output_type": "stream",
     "text": [
      "Average cost of charges for each BMI is shown below:\n",
      "\n",
      "{16: 1694.8, 17: 6076.17, 18: 11402.7, 19: 10382.88, 20: 8756.25, 21: 7006.19, 22: 10432.88, 23: 10104.47, 24: 11675.05, 25: 12203.86, 26: 9964.31, 27: 11648.55, 28: 12233.93, 29: 8721.86, 30: 12713.39, 31: 14992.34, 32: 14280.12, 33: 13412.29, 34: 15016.99, 35: 16501.71, 36: 18887.91, 37: 16427.8, 38: 20094.49, 39: 14025.34, 40: 11104.14, 41: 18864.49, 42: 21392.46, 43: 13914.66, 44: 14674.24, 45: 14110.16, 46: 25304.61, 47: 16991.74, 48: 18344.82, 49: 11381.33, 50: 2438.06, 53: 22832.43}\n"
     ]
    }
   ],
   "source": [
    "bmi_avg_cost_dict = {}\n",
    "# The .csv header for bmi status is just 'bmi', but smoking status is used in some variable names\n",
    "for bmi in bmis:\n",
    "    total_cost_for_particular_bmi = 0\n",
    "    for record in insurance_records_dict:\n",
    "        # BMI values are once again rounded here. It may be a good idea to create a separate array with the rounded BMI \n",
    "        # values\n",
    "        if bmi == round(record['bmi']):\n",
    "            total_cost_for_particular_bmi += record['charges']\n",
    "    average_cost = total_cost_for_particular_bmi / bmi_counter[bmi]\n",
    "    bmi_avg_cost_dict[bmi] = round(average_cost, 2)\n",
    "print(\"Average cost of charges for each BMI is shown below:\\n\")\n",
    "print(bmi_avg_cost_dict)"
   ]
  },
  {
   "cell_type": "code",
   "execution_count": 46,
   "metadata": {},
   "outputs": [],
   "source": [
    "#TODO Analyze children, and sex, and finish costs for BMIs. \n",
    "#Check the top cells to see other independent variables. Those not mentioned here have been analyzed"
   ]
  },
  {
   "cell_type": "code",
   "execution_count": 48,
   "metadata": {
    "tags": []
   },
   "outputs": [
    {
     "name": "stdout",
     "output_type": "stream",
     "text": [
      "{'female': 12563.0503337655, 'male': 13974.871472355548}\n",
      "{'female': 661, 'male': 675}\n"
     ]
    }
   ],
   "source": [
    "sex_total_cost_dict = {}\n",
    "counter = {}\n",
    "# Create two dictionaries, one to track the total costs for each sex and another to track\n",
    "# how many records correspond to each sex. The counter dictionary will be used to calculate\n",
    "# an average cost by sex dictionary\n",
    "for record in insurance_records_dict:\n",
    "    if record['sex'] not in sex_total_cost_dict.keys():\n",
    "        sex_total_cost_dict[record['sex']] = 0\n",
    "        counter[record['sex']] = 0\n",
    "    else:\n",
    "        sex_total_cost_dict[record['sex']] += record['charges']\n",
    "        counter[record['sex']] += 1\n",
    "for sex in sex_total_cost_dict.keys():\n",
    "    sex_avg_cost_dict[sex] = sex_total_cost_dict[sex] / counter[sex]\n",
    "print(sex_avg_cost_dict)\n",
    "print(counter)\n",
    "\n",
    "\n",
    "        "
   ]
  },
  {
   "cell_type": "code",
   "execution_count": null,
   "metadata": {
    "tags": []
   },
   "outputs": [],
   "source": []
  },
  {
   "cell_type": "code",
   "execution_count": null,
   "metadata": {},
   "outputs": [],
   "source": []
  }
 ],
 "metadata": {
  "kernelspec": {
   "display_name": "Python 3 (ipykernel)",
   "language": "python",
   "name": "python3"
  },
  "language_info": {
   "codemirror_mode": {
    "name": "ipython",
    "version": 3
   },
   "file_extension": ".py",
   "mimetype": "text/x-python",
   "name": "python",
   "nbconvert_exporter": "python",
   "pygments_lexer": "ipython3",
   "version": "3.9.12"
  }
 },
 "nbformat": 4,
 "nbformat_minor": 4
}
